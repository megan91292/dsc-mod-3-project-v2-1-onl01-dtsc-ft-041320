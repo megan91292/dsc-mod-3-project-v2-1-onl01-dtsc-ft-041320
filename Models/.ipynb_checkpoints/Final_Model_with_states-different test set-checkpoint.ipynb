{
 "cells": [
  {
   "cell_type": "code",
   "execution_count": 49,
   "metadata": {},
   "outputs": [
    {
     "name": "stdout",
     "output_type": "stream",
     "text": [
      "The autoreload extension is already loaded. To reload it, use:\n",
      "  %reload_ext autoreload\n"
     ]
    }
   ],
   "source": [
    "import numpy as np\n",
    "import pandas as pd\n",
    "import seaborn as sns\n",
    "import matplotlib.pyplot as plt\n",
    "\n",
    "import xgboost as xgb\n",
    "\n",
    "from sklearn.metrics import roc_curve, auc\n",
    "\n",
    "from sklearn.preprocessing import StandardScaler\n",
    "from sklearn.neighbors import KNeighborsClassifier\n",
    "from sklearn.model_selection import train_test_split, GridSearchCV\n",
    "from sklearn.ensemble import RandomForestClassifier\n",
    "from sklearn.pipeline import Pipeline\n",
    "from sklearn.naive_bayes import GaussianNB, BernoulliNB, MultinomialNB,ComplementNB\n",
    "\n",
    "from sklearn.metrics import confusion_matrix,accuracy_score,precision_score,recall_score,precision_recall_curve\n",
    "from sklearn.metrics import precision_recall_fscore_support,f1_score,fbeta_score\n",
    "from sklearn.metrics import make_scorer\n",
    "from sklearn.linear_model import LogisticRegression \n",
    "from imblearn.over_sampling import SMOTE\n",
    "from sklearn.metrics import classification_report\n",
    "\n",
    "from myFunctions import plot_confusion_matrix, print_metrics,plot_feature_importances\n",
    "\n",
    "%load_ext autoreload\n",
    "%autoreload 2\n",
    "\n",
    "import warnings\n",
    "warnings.filterwarnings('ignore')\n"
   ]
  },
  {
   "cell_type": "code",
   "execution_count": 50,
   "metadata": {},
   "outputs": [],
   "source": [
    "%reload_ext autoreload"
   ]
  },
  {
   "cell_type": "code",
   "execution_count": 4,
   "metadata": {},
   "outputs": [],
   "source": [
    "df = pd.read_csv('ModelData.csv',index_col=0)"
   ]
  },
  {
   "cell_type": "code",
   "execution_count": 5,
   "metadata": {},
   "outputs": [
    {
     "data": {
      "text/html": [
       "<div>\n",
       "<style scoped>\n",
       "    .dataframe tbody tr th:only-of-type {\n",
       "        vertical-align: middle;\n",
       "    }\n",
       "\n",
       "    .dataframe tbody tr th {\n",
       "        vertical-align: top;\n",
       "    }\n",
       "\n",
       "    .dataframe thead th {\n",
       "        text-align: right;\n",
       "    }\n",
       "</style>\n",
       "<table border=\"1\" class=\"dataframe\">\n",
       "  <thead>\n",
       "    <tr style=\"text-align: right;\">\n",
       "      <th></th>\n",
       "      <th>state</th>\n",
       "      <th>account_length</th>\n",
       "      <th>area_code</th>\n",
       "      <th>phone_number</th>\n",
       "      <th>international_plan</th>\n",
       "      <th>voice_mail_plan</th>\n",
       "      <th>number_vmail_messages</th>\n",
       "      <th>total_day_minutes</th>\n",
       "      <th>total_day_calls</th>\n",
       "      <th>total_day_charge</th>\n",
       "      <th>...</th>\n",
       "      <th>total_intl_minutes</th>\n",
       "      <th>total_intl_calls</th>\n",
       "      <th>total_intl_charge</th>\n",
       "      <th>customer_service_calls</th>\n",
       "      <th>churn</th>\n",
       "      <th>total_charge</th>\n",
       "      <th>tenor_years</th>\n",
       "      <th>total_minutes</th>\n",
       "      <th>avg_price_per_min</th>\n",
       "      <th>total_calls</th>\n",
       "    </tr>\n",
       "  </thead>\n",
       "  <tbody>\n",
       "    <tr>\n",
       "      <td>0</td>\n",
       "      <td>KS</td>\n",
       "      <td>128</td>\n",
       "      <td>415</td>\n",
       "      <td>382-4657</td>\n",
       "      <td>0</td>\n",
       "      <td>1</td>\n",
       "      <td>25</td>\n",
       "      <td>265.1</td>\n",
       "      <td>110</td>\n",
       "      <td>45.07</td>\n",
       "      <td>...</td>\n",
       "      <td>10.0</td>\n",
       "      <td>3</td>\n",
       "      <td>2.70</td>\n",
       "      <td>1</td>\n",
       "      <td>0</td>\n",
       "      <td>75.56</td>\n",
       "      <td>10</td>\n",
       "      <td>717.2</td>\n",
       "      <td>0.105354</td>\n",
       "      <td>303</td>\n",
       "    </tr>\n",
       "    <tr>\n",
       "      <td>1</td>\n",
       "      <td>OH</td>\n",
       "      <td>107</td>\n",
       "      <td>415</td>\n",
       "      <td>371-7191</td>\n",
       "      <td>0</td>\n",
       "      <td>1</td>\n",
       "      <td>26</td>\n",
       "      <td>161.6</td>\n",
       "      <td>123</td>\n",
       "      <td>27.47</td>\n",
       "      <td>...</td>\n",
       "      <td>13.7</td>\n",
       "      <td>3</td>\n",
       "      <td>3.70</td>\n",
       "      <td>1</td>\n",
       "      <td>0</td>\n",
       "      <td>59.24</td>\n",
       "      <td>8</td>\n",
       "      <td>625.2</td>\n",
       "      <td>0.094754</td>\n",
       "      <td>332</td>\n",
       "    </tr>\n",
       "    <tr>\n",
       "      <td>2</td>\n",
       "      <td>NJ</td>\n",
       "      <td>137</td>\n",
       "      <td>415</td>\n",
       "      <td>358-1921</td>\n",
       "      <td>0</td>\n",
       "      <td>0</td>\n",
       "      <td>0</td>\n",
       "      <td>243.4</td>\n",
       "      <td>114</td>\n",
       "      <td>41.38</td>\n",
       "      <td>...</td>\n",
       "      <td>12.2</td>\n",
       "      <td>5</td>\n",
       "      <td>3.29</td>\n",
       "      <td>0</td>\n",
       "      <td>0</td>\n",
       "      <td>62.29</td>\n",
       "      <td>11</td>\n",
       "      <td>539.4</td>\n",
       "      <td>0.115480</td>\n",
       "      <td>333</td>\n",
       "    </tr>\n",
       "    <tr>\n",
       "      <td>3</td>\n",
       "      <td>OH</td>\n",
       "      <td>84</td>\n",
       "      <td>408</td>\n",
       "      <td>375-9999</td>\n",
       "      <td>1</td>\n",
       "      <td>0</td>\n",
       "      <td>0</td>\n",
       "      <td>299.4</td>\n",
       "      <td>71</td>\n",
       "      <td>50.90</td>\n",
       "      <td>...</td>\n",
       "      <td>6.6</td>\n",
       "      <td>7</td>\n",
       "      <td>1.78</td>\n",
       "      <td>2</td>\n",
       "      <td>0</td>\n",
       "      <td>66.80</td>\n",
       "      <td>7</td>\n",
       "      <td>564.8</td>\n",
       "      <td>0.118272</td>\n",
       "      <td>255</td>\n",
       "    </tr>\n",
       "    <tr>\n",
       "      <td>4</td>\n",
       "      <td>OK</td>\n",
       "      <td>75</td>\n",
       "      <td>415</td>\n",
       "      <td>330-6626</td>\n",
       "      <td>1</td>\n",
       "      <td>0</td>\n",
       "      <td>0</td>\n",
       "      <td>166.7</td>\n",
       "      <td>113</td>\n",
       "      <td>28.34</td>\n",
       "      <td>...</td>\n",
       "      <td>10.1</td>\n",
       "      <td>3</td>\n",
       "      <td>2.73</td>\n",
       "      <td>3</td>\n",
       "      <td>0</td>\n",
       "      <td>52.09</td>\n",
       "      <td>6</td>\n",
       "      <td>512.0</td>\n",
       "      <td>0.101738</td>\n",
       "      <td>359</td>\n",
       "    </tr>\n",
       "  </tbody>\n",
       "</table>\n",
       "<p>5 rows × 26 columns</p>\n",
       "</div>"
      ],
      "text/plain": [
       "  state  account_length  area_code phone_number  international_plan  \\\n",
       "0    KS             128        415     382-4657                   0   \n",
       "1    OH             107        415     371-7191                   0   \n",
       "2    NJ             137        415     358-1921                   0   \n",
       "3    OH              84        408     375-9999                   1   \n",
       "4    OK              75        415     330-6626                   1   \n",
       "\n",
       "   voice_mail_plan  number_vmail_messages  total_day_minutes  total_day_calls  \\\n",
       "0                1                     25              265.1              110   \n",
       "1                1                     26              161.6              123   \n",
       "2                0                      0              243.4              114   \n",
       "3                0                      0              299.4               71   \n",
       "4                0                      0              166.7              113   \n",
       "\n",
       "   total_day_charge  ...  total_intl_minutes  total_intl_calls  \\\n",
       "0             45.07  ...                10.0                 3   \n",
       "1             27.47  ...                13.7                 3   \n",
       "2             41.38  ...                12.2                 5   \n",
       "3             50.90  ...                 6.6                 7   \n",
       "4             28.34  ...                10.1                 3   \n",
       "\n",
       "   total_intl_charge  customer_service_calls  churn  total_charge  \\\n",
       "0               2.70                       1      0         75.56   \n",
       "1               3.70                       1      0         59.24   \n",
       "2               3.29                       0      0         62.29   \n",
       "3               1.78                       2      0         66.80   \n",
       "4               2.73                       3      0         52.09   \n",
       "\n",
       "   tenor_years  total_minutes  avg_price_per_min  total_calls  \n",
       "0           10          717.2           0.105354          303  \n",
       "1            8          625.2           0.094754          332  \n",
       "2           11          539.4           0.115480          333  \n",
       "3            7          564.8           0.118272          255  \n",
       "4            6          512.0           0.101738          359  \n",
       "\n",
       "[5 rows x 26 columns]"
      ]
     },
     "execution_count": 5,
     "metadata": {},
     "output_type": "execute_result"
    }
   ],
   "source": [
    "df.head()"
   ]
  },
  {
   "cell_type": "markdown",
   "metadata": {
    "heading_collapsed": true
   },
   "source": [
    "# Checking Correlation"
   ]
  },
  {
   "cell_type": "code",
   "execution_count": 5,
   "metadata": {
    "hidden": true
   },
   "outputs": [
    {
     "data": {
      "text/plain": [
       "<matplotlib.axes._subplots.AxesSubplot at 0x1a188777b8>"
      ]
     },
     "execution_count": 5,
     "metadata": {},
     "output_type": "execute_result"
    },
    {
     "data": {
      "image/png": "[encoded data removed]",
      "text/plain": [
       "<Figure size 792x648 with 2 Axes>"
      ]
     },
     "metadata": {},
     "output_type": "display_data"
    }
   ],
   "source": [
    "sns.set(style=\"white\")\n",
    "\n",
    "# Compute the correlation matrix\n",
    "corr = df.corr()\n",
    "\n",
    "# Generate a mask for the upper triangle\n",
    "mask = np.triu(np.ones_like(corr, dtype=np.bool))\n",
    "\n",
    "# Set up the matplotlib figure\n",
    "f, ax = plt.subplots(figsize=(11, 9))\n",
    "cmap = sns.diverging_palette(220, 10, as_cmap=True)\n",
    "\n",
    "# Draw the heatmap with the mask and correct aspect ratio\n",
    "sns.heatmap(corr,mask=mask,cmap=cmap, vmax=1,vmin=-1, center=0,square=True,\n",
    "            linewidths=.5)"
   ]
  },
  {
   "cell_type": "code",
   "execution_count": 388,
   "metadata": {
    "hidden": true
   },
   "outputs": [],
   "source": [
    "dfchurn = df.loc[df['churn']==True]"
   ]
  },
  {
   "cell_type": "code",
   "execution_count": 389,
   "metadata": {
    "hidden": true
   },
   "outputs": [
    {
     "data": {
      "text/plain": [
       "<matplotlib.axes._subplots.AxesSubplot at 0x1a23f0eeb8>"
      ]
     },
     "execution_count": 389,
     "metadata": {},
     "output_type": "execute_result"
    },
    {
     "data": {
      "image/png": "[encoded data removed]",
      "text/plain": [
       "<Figure size 792x648 with 2 Axes>"
      ]
     },
     "metadata": {},
     "output_type": "display_data"
    }
   ],
   "source": [
    "sns.set(style=\"white\")\n",
    "\n",
    "# Compute the correlation matrix\n",
    "corr = dfchurn.drop('churn',axis=1).corr()\n",
    "\n",
    "# Generate a mask for the upper triangle\n",
    "mask = np.triu(np.ones_like(corr, dtype=np.bool))\n",
    "\n",
    "# Set up the matplotlib figure\n",
    "f, ax = plt.subplots(figsize=(11, 9))\n",
    "cmap = sns.diverging_palette(220, 10, as_cmap=True)\n",
    "\n",
    "# Draw the heatmap with the mask and correct aspect ratio\n",
    "sns.heatmap(corr,cmap=cmap, vmax=1,vmin=-1, center=0,square=True,\n",
    "            linewidths=.5)"
   ]
  },
  {
   "cell_type": "markdown",
   "metadata": {},
   "source": [
    "# Getting Data Ready for Modelling"
   ]
  },
  {
   "cell_type": "code",
   "execution_count": 6,
   "metadata": {},
   "outputs": [
    {
     "data": {
      "text/plain": [
       "Index(['state', 'account_length', 'area_code', 'phone_number',\n",
       "       'international_plan', 'voice_mail_plan', 'number_vmail_messages',\n",
       "       'total_day_minutes', 'total_day_calls', 'total_day_charge',\n",
       "       'total_eve_minutes', 'total_eve_calls', 'total_eve_charge',\n",
       "       'total_night_minutes', 'total_night_calls', 'total_night_charge',\n",
       "       'total_intl_minutes', 'total_intl_calls', 'total_intl_charge',\n",
       "       'customer_service_calls', 'churn', 'total_charge', 'tenor_years',\n",
       "       'total_minutes', 'avg_price_per_min', 'total_calls'],\n",
       "      dtype='object')"
      ]
     },
     "execution_count": 6,
     "metadata": {},
     "output_type": "execute_result"
    }
   ],
   "source": [
    "df.columns"
   ]
  },
  {
   "cell_type": "code",
   "execution_count": 7,
   "metadata": {},
   "outputs": [],
   "source": [
    "cols =['international_plan','voice_mail_plan','total_day_minutes','total_eve_minutes','total_night_minutes',\n",
    " 'total_intl_minutes','total_intl_calls','customer_service_calls','total_charge','state']"
   ]
  },
  {
   "cell_type": "code",
   "execution_count": 8,
   "metadata": {},
   "outputs": [
    {
     "data": {
      "text/html": [
       "<div>\n",
       "<style scoped>\n",
       "    .dataframe tbody tr th:only-of-type {\n",
       "        vertical-align: middle;\n",
       "    }\n",
       "\n",
       "    .dataframe tbody tr th {\n",
       "        vertical-align: top;\n",
       "    }\n",
       "\n",
       "    .dataframe thead th {\n",
       "        text-align: right;\n",
       "    }\n",
       "</style>\n",
       "<table border=\"1\" class=\"dataframe\">\n",
       "  <thead>\n",
       "    <tr style=\"text-align: right;\">\n",
       "      <th></th>\n",
       "      <th>international_plan</th>\n",
       "      <th>voice_mail_plan</th>\n",
       "      <th>total_day_minutes</th>\n",
       "      <th>total_eve_minutes</th>\n",
       "      <th>total_night_minutes</th>\n",
       "      <th>total_intl_minutes</th>\n",
       "      <th>total_intl_calls</th>\n",
       "      <th>customer_service_calls</th>\n",
       "      <th>total_charge</th>\n",
       "      <th>state</th>\n",
       "    </tr>\n",
       "  </thead>\n",
       "  <tbody>\n",
       "    <tr>\n",
       "      <td>0</td>\n",
       "      <td>0</td>\n",
       "      <td>1</td>\n",
       "      <td>265.1</td>\n",
       "      <td>197.4</td>\n",
       "      <td>244.7</td>\n",
       "      <td>10.0</td>\n",
       "      <td>3</td>\n",
       "      <td>1</td>\n",
       "      <td>75.56</td>\n",
       "      <td>KS</td>\n",
       "    </tr>\n",
       "    <tr>\n",
       "      <td>1</td>\n",
       "      <td>0</td>\n",
       "      <td>1</td>\n",
       "      <td>161.6</td>\n",
       "      <td>195.5</td>\n",
       "      <td>254.4</td>\n",
       "      <td>13.7</td>\n",
       "      <td>3</td>\n",
       "      <td>1</td>\n",
       "      <td>59.24</td>\n",
       "      <td>OH</td>\n",
       "    </tr>\n",
       "    <tr>\n",
       "      <td>2</td>\n",
       "      <td>0</td>\n",
       "      <td>0</td>\n",
       "      <td>243.4</td>\n",
       "      <td>121.2</td>\n",
       "      <td>162.6</td>\n",
       "      <td>12.2</td>\n",
       "      <td>5</td>\n",
       "      <td>0</td>\n",
       "      <td>62.29</td>\n",
       "      <td>NJ</td>\n",
       "    </tr>\n",
       "    <tr>\n",
       "      <td>3</td>\n",
       "      <td>1</td>\n",
       "      <td>0</td>\n",
       "      <td>299.4</td>\n",
       "      <td>61.9</td>\n",
       "      <td>196.9</td>\n",
       "      <td>6.6</td>\n",
       "      <td>7</td>\n",
       "      <td>2</td>\n",
       "      <td>66.80</td>\n",
       "      <td>OH</td>\n",
       "    </tr>\n",
       "    <tr>\n",
       "      <td>4</td>\n",
       "      <td>1</td>\n",
       "      <td>0</td>\n",
       "      <td>166.7</td>\n",
       "      <td>148.3</td>\n",
       "      <td>186.9</td>\n",
       "      <td>10.1</td>\n",
       "      <td>3</td>\n",
       "      <td>3</td>\n",
       "      <td>52.09</td>\n",
       "      <td>OK</td>\n",
       "    </tr>\n",
       "  </tbody>\n",
       "</table>\n",
       "</div>"
      ],
      "text/plain": [
       "   international_plan  voice_mail_plan  total_day_minutes  total_eve_minutes  \\\n",
       "0                   0                1              265.1              197.4   \n",
       "1                   0                1              161.6              195.5   \n",
       "2                   0                0              243.4              121.2   \n",
       "3                   1                0              299.4               61.9   \n",
       "4                   1                0              166.7              148.3   \n",
       "\n",
       "   total_night_minutes  total_intl_minutes  total_intl_calls  \\\n",
       "0                244.7                10.0                 3   \n",
       "1                254.4                13.7                 3   \n",
       "2                162.6                12.2                 5   \n",
       "3                196.9                 6.6                 7   \n",
       "4                186.9                10.1                 3   \n",
       "\n",
       "   customer_service_calls  total_charge state  \n",
       "0                       1         75.56    KS  \n",
       "1                       1         59.24    OH  \n",
       "2                       0         62.29    NJ  \n",
       "3                       2         66.80    OH  \n",
       "4                       3         52.09    OK  "
      ]
     },
     "execution_count": 8,
     "metadata": {},
     "output_type": "execute_result"
    }
   ],
   "source": [
    "dfnew = df[cols]\n",
    "dfnew.head()"
   ]
  },
  {
   "cell_type": "code",
   "execution_count": 9,
   "metadata": {},
   "outputs": [],
   "source": [
    "dfnew = pd.get_dummies(dfnew)"
   ]
  },
  {
   "cell_type": "code",
   "execution_count": 10,
   "metadata": {},
   "outputs": [],
   "source": [
    "y = df['churn']\n",
    "X = dfnew"
   ]
  },
  {
   "cell_type": "code",
   "execution_count": 11,
   "metadata": {},
   "outputs": [],
   "source": [
    "X_train, X_test, y_train, y_test = train_test_split(X,y,test_size=0.2,stratify=df['churn'],random_state=100)"
   ]
  },
  {
   "cell_type": "markdown",
   "metadata": {},
   "source": [
    "# Dealing with class imbalance"
   ]
  },
  {
   "cell_type": "code",
   "execution_count": 12,
   "metadata": {},
   "outputs": [
    {
     "data": {
      "text/plain": [
       "0    2850\n",
       "1     483\n",
       "Name: churn, dtype: int64"
      ]
     },
     "execution_count": 12,
     "metadata": {},
     "output_type": "execute_result"
    }
   ],
   "source": [
    "y.value_counts()"
   ]
  },
  {
   "cell_type": "code",
   "execution_count": 13,
   "metadata": {},
   "outputs": [],
   "source": [
    "smote = SMOTE()"
   ]
  },
  {
   "cell_type": "code",
   "execution_count": 14,
   "metadata": {},
   "outputs": [],
   "source": [
    "X_train_smote , y_train_smote = smote.fit_sample(X_train,y_train)"
   ]
  },
  {
   "cell_type": "code",
   "execution_count": 15,
   "metadata": {},
   "outputs": [],
   "source": [
    "from collections import Counter"
   ]
  },
  {
   "cell_type": "code",
   "execution_count": 16,
   "metadata": {},
   "outputs": [],
   "source": [
    "y_train_smote_counter = Counter(y_train_smote)"
   ]
  },
  {
   "cell_type": "code",
   "execution_count": 17,
   "metadata": {},
   "outputs": [
    {
     "data": {
      "text/plain": [
       "(0    2280\n",
       " 1     386\n",
       " Name: churn, dtype: int64, Counter({0: 2280, 1: 2280}))"
      ]
     },
     "execution_count": 17,
     "metadata": {},
     "output_type": "execute_result"
    }
   ],
   "source": [
    "y_train.value_counts(), y_train_smote_counter"
   ]
  },
  {
   "cell_type": "markdown",
   "metadata": {
    "heading_collapsed": true
   },
   "source": [
    "# Logistic Regression"
   ]
  },
  {
   "cell_type": "code",
   "execution_count": 18,
   "metadata": {
    "hidden": true
   },
   "outputs": [],
   "source": [
    "#Creating logistice regression pipeline\n",
    "logreg_pipeline = Pipeline([('ss', StandardScaler()), \n",
    "                              ('logreg',LogisticRegression(solver='liblinear'))])"
   ]
  },
  {
   "cell_type": "code",
   "execution_count": 19,
   "metadata": {
    "hidden": true
   },
   "outputs": [],
   "source": [
    "params = [{\"logreg__penalty\":[\"l1\",\"l2\"],\n",
    "         \"logreg__fit_intercept\":[True,False],\n",
    "         \"logreg__C\":[0.5,1.0,2.0,5.0,10.0]}]"
   ]
  },
  {
   "cell_type": "code",
   "execution_count": 20,
   "metadata": {
    "hidden": true
   },
   "outputs": [],
   "source": [
    "logreg_cv =GridSearchCV(estimator=logreg_pipeline,param_grid=params,n_jobs=-1,scoring = make_scorer(recall_score),cv=5)"
   ]
  },
  {
   "cell_type": "code",
   "execution_count": 21,
   "metadata": {
    "hidden": true
   },
   "outputs": [
    {
     "data": {
      "text/plain": [
       "GridSearchCV(cv=5, error_score='raise-deprecating',\n",
       "             estimator=Pipeline(memory=None,\n",
       "                                steps=[('ss',\n",
       "                                        StandardScaler(copy=True,\n",
       "                                                       with_mean=True,\n",
       "                                                       with_std=True)),\n",
       "                                       ('logreg',\n",
       "                                        LogisticRegression(C=1.0,\n",
       "                                                           class_weight=None,\n",
       "                                                           dual=False,\n",
       "                                                           fit_intercept=True,\n",
       "                                                           intercept_scaling=1,\n",
       "                                                           l1_ratio=None,\n",
       "                                                           max_iter=100,\n",
       "                                                           multi_class='warn',\n",
       "                                                           n_jobs=None,\n",
       "                                                           penalty='l2',\n",
       "                                                           random_state=None,\n",
       "                                                           solver='liblinear',\n",
       "                                                           tol=0.0001,\n",
       "                                                           verbose=0,\n",
       "                                                           warm_start=False))],\n",
       "                                verbose=False),\n",
       "             iid='warn', n_jobs=-1,\n",
       "             param_grid=[{'logreg__C': [0.5, 1.0, 2.0, 5.0, 10.0],\n",
       "                          'logreg__fit_intercept': [True, False],\n",
       "                          'logreg__penalty': ['l1', 'l2']}],\n",
       "             pre_dispatch='2*n_jobs', refit=True, return_train_score=False,\n",
       "             scoring=make_scorer(recall_score), verbose=0)"
      ]
     },
     "execution_count": 21,
     "metadata": {},
     "output_type": "execute_result"
    }
   ],
   "source": [
    "logreg_cv.fit(X_train_smote,y_train_smote)"
   ]
  },
  {
   "cell_type": "code",
   "execution_count": 22,
   "metadata": {
    "hidden": true
   },
   "outputs": [
    {
     "data": {
      "text/plain": [
       "{'logreg__C': 1.0, 'logreg__fit_intercept': False, 'logreg__penalty': 'l1'}"
      ]
     },
     "execution_count": 22,
     "metadata": {},
     "output_type": "execute_result"
    }
   ],
   "source": [
    "logreg_best = logreg_cv.best_estimator_\n",
    "logreg_cv.best_params_"
   ]
  },
  {
   "cell_type": "code",
   "execution_count": 23,
   "metadata": {
    "hidden": true
   },
   "outputs": [
    {
     "data": {
      "text/plain": [
       "(0.7958333333333333, 0.7556221889055472)"
      ]
     },
     "execution_count": 23,
     "metadata": {},
     "output_type": "execute_result"
    }
   ],
   "source": [
    "logreg_best.score(X_train_smote,y_train_smote),logreg_best.score(X_test,y_test)"
   ]
  },
  {
   "cell_type": "code",
   "execution_count": 24,
   "metadata": {
    "hidden": true
   },
   "outputs": [],
   "source": [
    "log_smote_pred = logreg_best.predict(X_test)"
   ]
  },
  {
   "cell_type": "code",
   "execution_count": 25,
   "metadata": {
    "hidden": true
   },
   "outputs": [
    {
     "name": "stdout",
     "output_type": "stream",
     "text": [
      "9.758771929824562 of False Negatives\n"
     ]
    },
    {
     "data": {
      "image/png": "[encoded data removed]",
      "text/plain": [
       "<Figure size 432x288 with 2 Axes>"
      ]
     },
     "metadata": {
      "needs_background": "light"
     },
     "output_type": "display_data"
    },
    {
     "name": "stdout",
     "output_type": "stream",
     "text": [
      "Precision Score: 0.7906074967686342\n",
      "Recall Score: 0.8048245614035088\n",
      "Accuracy Score: 0.7958333333333333\n",
      "F1 Score: 0.7976526841990873\n"
     ]
    }
   ],
   "source": [
    "plot_confusion_matrix(y_train_smote,logreg_best.predict(X_train_smote),data='Train')\n",
    "print_metrics(y_train_smote,logreg_best.predict(X_train_smote))"
   ]
  },
  {
   "cell_type": "code",
   "execution_count": 26,
   "metadata": {
    "hidden": true
   },
   "outputs": [
    {
     "name": "stdout",
     "output_type": "stream",
     "text": [
      "3.2983508245877062 of False Negatives\n"
     ]
    },
    {
     "data": {
      "image/png": "[encoded data removed]",
      "text/plain": [
       "<Figure size 432x288 with 2 Axes>"
      ]
     },
     "metadata": {
      "needs_background": "light"
     },
     "output_type": "display_data"
    },
    {
     "name": "stdout",
     "output_type": "stream",
     "text": [
      "Precision Score: 0.3472222222222222\n",
      "Recall Score: 0.7731958762886598\n",
      "Accuracy Score: 0.7556221889055472\n",
      "F1 Score: 0.47923322683706066\n"
     ]
    }
   ],
   "source": [
    "plot_confusion_matrix(y_test,log_smote_pred)\n",
    "print_metrics(y_test,log_smote_pred)"
   ]
  },
  {
   "cell_type": "code",
   "execution_count": 27,
   "metadata": {
    "hidden": true
   },
   "outputs": [
    {
     "name": "stdout",
     "output_type": "stream",
     "text": [
      "3.5403540354035403 of False Negatives\n"
     ]
    },
    {
     "data": {
      "image/png": "[encoded data removed]",
      "text/plain": [
       "<Figure size 432x288 with 2 Axes>"
      ]
     },
     "metadata": {
      "needs_background": "light"
     },
     "output_type": "display_data"
    },
    {
     "name": "stdout",
     "output_type": "stream",
     "text": [
      "Precision Score: 0.36794354838709675\n",
      "Recall Score: 0.7556935817805382\n",
      "Accuracy Score: 0.7764776477647765\n",
      "F1 Score: 0.49491525423728816\n"
     ]
    }
   ],
   "source": [
    "plot_confusion_matrix(y,logreg_best.predict(X),data='Train')\n",
    "print_metrics(y,logreg_best.predict(X))"
   ]
  },
  {
   "cell_type": "code",
   "execution_count": 28,
   "metadata": {
    "hidden": true
   },
   "outputs": [],
   "source": [
    "# Calculate the probability scores of each point in the training set\n",
    "y_train_score = logreg_best.decision_function(X_train_smote)\n",
    "\n",
    "# Calculate the fpr, tpr, and thresholds for the training set\n",
    "train_fpr, train_tpr, thresholds = roc_curve(y_train_smote, y_train_score)\n",
    "\n",
    "# Calculate the probability scores of each point in the test set\n",
    "y_test_score =logreg_best.decision_function(X_test)\n",
    "\n",
    "# Calculate the fpr, tpr, and thresholds for the test set\n",
    "test_fpr, test_tpr, test_thresholds = roc_curve(y_test, y_test_score)"
   ]
  },
  {
   "cell_type": "code",
   "execution_count": 29,
   "metadata": {
    "hidden": true
   },
   "outputs": [
    {
     "name": "stdout",
     "output_type": "stream",
     "text": [
      "AUC: 0.8622689673745769\n"
     ]
    },
    {
     "data": {
      "image/png": "[encoded data removed]",
      "text/plain": [
       "<Figure size 720x576 with 1 Axes>"
      ]
     },
     "metadata": {},
     "output_type": "display_data"
    }
   ],
   "source": [
    "# Seaborn's beautiful styling\n",
    "sns.set_style('darkgrid', {'axes.facecolor': '0.9'})\n",
    "\n",
    "# ROC curve for training set\n",
    "plt.figure(figsize=(10, 8))\n",
    "lw = 2\n",
    "plt.plot(train_fpr, train_tpr, color='darkorange',\n",
    "         lw=lw, label='ROC curve')\n",
    "plt.plot([0, 1], [0, 1], color='navy', lw=lw, linestyle='--')\n",
    "plt.xlim([0.0, 1.0])\n",
    "plt.ylim([0.0, 1.05])\n",
    "plt.yticks([i/20.0 for i in range(21)])\n",
    "plt.xticks([i/20.0 for i in range(21)])\n",
    "plt.xlabel('False Positive Rate')\n",
    "plt.ylabel('True Positive Rate')\n",
    "plt.title('Receiver operating characteristic (ROC) Curve for Training Set')\n",
    "plt.legend(loc='lower right')\n",
    "print('AUC: {}'.format(auc(train_fpr, train_tpr)))\n",
    "plt.show()"
   ]
  },
  {
   "cell_type": "code",
   "execution_count": 30,
   "metadata": {
    "hidden": true
   },
   "outputs": [
    {
     "name": "stdout",
     "output_type": "stream",
     "text": [
      "Test AUC: 0.8156086091517453\n",
      "\n"
     ]
    },
    {
     "data": {
      "image/png": "[encoded data removed]",
      "text/plain": [
       "<Figure size 720x576 with 1 Axes>"
      ]
     },
     "metadata": {},
     "output_type": "display_data"
    }
   ],
   "source": [
    "# ROC curve for test set\n",
    "plt.figure(figsize=(10, 8))\n",
    "lw = 2\n",
    "plt.plot(test_fpr, test_tpr, color='darkorange',\n",
    "         lw=lw, label='ROC curve')\n",
    "plt.plot([0, 1], [0, 1], color='navy', lw=lw, linestyle='--')\n",
    "plt.xlim([0.0, 1.0])\n",
    "plt.ylim([0.0, 1.05])\n",
    "plt.yticks([i/20.0 for i in range(21)])\n",
    "plt.xticks([i/20.0 for i in range(21)])\n",
    "plt.xlabel('False Positive Rate')\n",
    "plt.ylabel('True Positive Rate')\n",
    "plt.title('Receiver operating characteristic (ROC) Curve for Test Set')\n",
    "plt.legend(loc='lower right')\n",
    "print('Test AUC: {}'.format(auc(test_fpr, test_tpr)))\n",
    "print('')\n",
    "plt.show()"
   ]
  },
  {
   "cell_type": "code",
   "execution_count": null,
   "metadata": {
    "hidden": true
   },
   "outputs": [],
   "source": []
  },
  {
   "cell_type": "markdown",
   "metadata": {},
   "source": [
    "# Random Forest"
   ]
  },
  {
   "cell_type": "code",
   "execution_count": 31,
   "metadata": {},
   "outputs": [],
   "source": [
    "rf_pipeline = Pipeline([('ss', StandardScaler()),('RF',RandomForestClassifier())])"
   ]
  },
  {
   "cell_type": "code",
   "execution_count": 32,
   "metadata": {},
   "outputs": [],
   "source": [
    "params = [{'RF__max_depth': [4, 5, 6], 'RF__criterion':['gini','entropy'],\n",
    "         'RF__min_samples_split': [2, 5, 10], \n",
    "         'RF__min_samples_leaf': [1, 3, 5]}]"
   ]
  },
  {
   "cell_type": "code",
   "execution_count": 33,
   "metadata": {},
   "outputs": [],
   "source": [
    "rf_cv = GridSearchCV(estimator=rf_pipeline,param_grid=params,scoring=make_scorer(recall_score),cv=5)"
   ]
  },
  {
   "cell_type": "code",
   "execution_count": 34,
   "metadata": {},
   "outputs": [
    {
     "data": {
      "text/plain": [
       "GridSearchCV(cv=5, error_score='raise-deprecating',\n",
       "             estimator=Pipeline(memory=None,\n",
       "                                steps=[('ss',\n",
       "                                        StandardScaler(copy=True,\n",
       "                                                       with_mean=True,\n",
       "                                                       with_std=True)),\n",
       "                                       ('RF',\n",
       "                                        RandomForestClassifier(bootstrap=True,\n",
       "                                                               class_weight=None,\n",
       "                                                               criterion='gini',\n",
       "                                                               max_depth=None,\n",
       "                                                               max_features='auto',\n",
       "                                                               max_leaf_nodes=None,\n",
       "                                                               min_impurity_decrease=0.0,\n",
       "                                                               min_impurity_split=None,\n",
       "                                                               min_samples_leaf...\n",
       "                                                               n_jobs=None,\n",
       "                                                               oob_score=False,\n",
       "                                                               random_state=None,\n",
       "                                                               verbose=0,\n",
       "                                                               warm_start=False))],\n",
       "                                verbose=False),\n",
       "             iid='warn', n_jobs=None,\n",
       "             param_grid=[{'RF__criterion': ['gini', 'entropy'],\n",
       "                          'RF__max_depth': [4, 5, 6],\n",
       "                          'RF__min_samples_leaf': [1, 3, 5],\n",
       "                          'RF__min_samples_split': [2, 5, 10]}],\n",
       "             pre_dispatch='2*n_jobs', refit=True, return_train_score=False,\n",
       "             scoring=make_scorer(recall_score), verbose=0)"
      ]
     },
     "execution_count": 34,
     "metadata": {},
     "output_type": "execute_result"
    }
   ],
   "source": [
    "rf_cv.fit(X_train,y_train)"
   ]
  },
  {
   "cell_type": "code",
   "execution_count": 35,
   "metadata": {},
   "outputs": [
    {
     "data": {
      "text/plain": [
       "{'RF__criterion': 'gini',\n",
       " 'RF__max_depth': 6,\n",
       " 'RF__min_samples_leaf': 1,\n",
       " 'RF__min_samples_split': 5}"
      ]
     },
     "execution_count": 35,
     "metadata": {},
     "output_type": "execute_result"
    }
   ],
   "source": [
    "rf_best = rf_cv.best_estimator_\n",
    "rf_cv.best_params_"
   ]
  },
  {
   "cell_type": "code",
   "execution_count": 36,
   "metadata": {},
   "outputs": [
    {
     "data": {
      "text/plain": [
       "(0.9122280570142536, 0.9220389805097451)"
      ]
     },
     "execution_count": 36,
     "metadata": {},
     "output_type": "execute_result"
    }
   ],
   "source": [
    "rf_best.score(X_train,y_train),rf_best.score(X_test,y_test)"
   ]
  },
  {
   "cell_type": "code",
   "execution_count": 37,
   "metadata": {},
   "outputs": [],
   "source": [
    "rf_preds = rf_best.predict(X_test)"
   ]
  },
  {
   "cell_type": "code",
   "execution_count": 38,
   "metadata": {},
   "outputs": [
    {
     "name": "stdout",
     "output_type": "stream",
     "text": [
      "8.739684921230308 of False Negatives\n"
     ]
    },
    {
     "data": {
      "image/png": "[encoded data removed]",
      "text/plain": [
       "<Figure size 432x288 with 2 Axes>"
      ]
     },
     "metadata": {},
     "output_type": "display_data"
    },
    {
     "name": "stdout",
     "output_type": "stream",
     "text": [
      "Precision Score: 0.9935064935064936\n",
      "Recall Score: 0.3963730569948187\n",
      "Accuracy Score: 0.9122280570142536\n",
      "F1 Score: 0.5666666666666668\n"
     ]
    }
   ],
   "source": [
    "plot_confusion_matrix(y_train,rf_best.predict(X_train),data='Train')\n",
    "print_metrics(y_train,rf_best.predict(X_train))"
   ]
  },
  {
   "cell_type": "code",
   "execution_count": 39,
   "metadata": {},
   "outputs": [
    {
     "name": "stdout",
     "output_type": "stream",
     "text": [
      "7.646176911544228 of False Negatives\n"
     ]
    },
    {
     "data": {
      "image/png": "[encoded data removed]",
      "text/plain": [
       "<Figure size 432x288 with 2 Axes>"
      ]
     },
     "metadata": {},
     "output_type": "display_data"
    },
    {
     "name": "stdout",
     "output_type": "stream",
     "text": [
      "Precision Score: 0.9787234042553191\n",
      "Recall Score: 0.4742268041237113\n",
      "Accuracy Score: 0.9220389805097451\n",
      "F1 Score: 0.6388888888888888\n"
     ]
    }
   ],
   "source": [
    "plot_confusion_matrix(y_test,rf_preds)\n",
    "print_metrics(y_test,rf_preds)"
   ]
  },
  {
   "cell_type": "code",
   "execution_count": 40,
   "metadata": {},
   "outputs": [
    {
     "name": "stdout",
     "output_type": "stream",
     "text": [
      "8.52085208520852 of False Negatives\n"
     ]
    },
    {
     "data": {
      "image/png": "[encoded data removed]",
      "text/plain": [
       "<Figure size 432x288 with 2 Axes>"
      ]
     },
     "metadata": {},
     "output_type": "display_data"
    },
    {
     "name": "stdout",
     "output_type": "stream",
     "text": [
      "Precision Score: 0.9900497512437811\n",
      "Recall Score: 0.41200828157349895\n",
      "Accuracy Score: 0.9141914191419142\n",
      "F1 Score: 0.5818713450292398\n"
     ]
    }
   ],
   "source": [
    "plot_confusion_matrix(y,rf_best.predict(X),data='Train')\n",
    "print_metrics(y,rf_best.predict(X))"
   ]
  },
  {
   "cell_type": "markdown",
   "metadata": {},
   "source": [
    "# RF with SMOTE"
   ]
  },
  {
   "cell_type": "code",
   "execution_count": 41,
   "metadata": {},
   "outputs": [
    {
     "data": {
      "text/plain": [
       "GridSearchCV(cv=5, error_score='raise-deprecating',\n",
       "             estimator=Pipeline(memory=None,\n",
       "                                steps=[('ss',\n",
       "                                        StandardScaler(copy=True,\n",
       "                                                       with_mean=True,\n",
       "                                                       with_std=True)),\n",
       "                                       ('RF',\n",
       "                                        RandomForestClassifier(bootstrap=True,\n",
       "                                                               class_weight=None,\n",
       "                                                               criterion='gini',\n",
       "                                                               max_depth=None,\n",
       "                                                               max_features='auto',\n",
       "                                                               max_leaf_nodes=None,\n",
       "                                                               min_impurity_decrease=0.0,\n",
       "                                                               min_impurity_split=None,\n",
       "                                                               min_samples_leaf...\n",
       "                                                               n_jobs=None,\n",
       "                                                               oob_score=False,\n",
       "                                                               random_state=None,\n",
       "                                                               verbose=0,\n",
       "                                                               warm_start=False))],\n",
       "                                verbose=False),\n",
       "             iid='warn', n_jobs=None,\n",
       "             param_grid=[{'RF__criterion': ['gini', 'entropy'],\n",
       "                          'RF__max_depth': [4, 5, 6],\n",
       "                          'RF__min_samples_leaf': [1, 3, 5],\n",
       "                          'RF__min_samples_split': [2, 5, 10]}],\n",
       "             pre_dispatch='2*n_jobs', refit=True, return_train_score=False,\n",
       "             scoring=make_scorer(recall_score), verbose=0)"
      ]
     },
     "execution_count": 41,
     "metadata": {},
     "output_type": "execute_result"
    }
   ],
   "source": [
    "rf_cv.fit(X_train_smote,y_train_smote)"
   ]
  },
  {
   "cell_type": "code",
   "execution_count": 42,
   "metadata": {},
   "outputs": [
    {
     "data": {
      "text/plain": [
       "{'RF__criterion': 'entropy',\n",
       " 'RF__max_depth': 6,\n",
       " 'RF__min_samples_leaf': 3,\n",
       " 'RF__min_samples_split': 5}"
      ]
     },
     "execution_count": 42,
     "metadata": {},
     "output_type": "execute_result"
    }
   ],
   "source": [
    "rf_best = rf_cv.best_estimator_\n",
    "rf_cv.best_params_"
   ]
  },
  {
   "cell_type": "code",
   "execution_count": 43,
   "metadata": {},
   "outputs": [
    {
     "data": {
      "text/plain": [
       "(0.8585526315789473, 0.8725637181409296)"
      ]
     },
     "execution_count": 43,
     "metadata": {},
     "output_type": "execute_result"
    }
   ],
   "source": [
    "rf_best.score(X_train_smote,y_train_smote),rf_best.score(X_test,y_test)"
   ]
  },
  {
   "cell_type": "code",
   "execution_count": 44,
   "metadata": {},
   "outputs": [],
   "source": [
    "rf_preds = rf_best.predict(X_test)"
   ]
  },
  {
   "cell_type": "code",
   "execution_count": 45,
   "metadata": {},
   "outputs": [
    {
     "name": "stdout",
     "output_type": "stream",
     "text": [
      "10.701754385964913 of False Negatives\n"
     ]
    },
    {
     "data": {
      "image/png": "[encoded data removed]",
      "text/plain": [
       "<Figure size 432x288 with 2 Axes>"
      ]
     },
     "metadata": {},
     "output_type": "display_data"
    },
    {
     "name": "stdout",
     "output_type": "stream",
     "text": [
      "Precision Score: 0.9194458696767573\n",
      "Recall Score: 0.7859649122807018\n",
      "Accuracy Score: 0.8585526315789473\n",
      "F1 Score: 0.8474816741546465\n"
     ]
    }
   ],
   "source": [
    "plot_confusion_matrix(y_train_smote,rf_best.predict(X_train_smote),data='Train')\n",
    "print_metrics(y_train_smote,rf_best.predict(X_train_smote))"
   ]
  },
  {
   "cell_type": "code",
   "execution_count": 46,
   "metadata": {},
   "outputs": [
    {
     "name": "stdout",
     "output_type": "stream",
     "text": [
      "4.94752623688156 of False Negatives\n"
     ]
    },
    {
     "data": {
      "image/png": "[encoded data removed]",
      "text/plain": [
       "<Figure size 432x288 with 2 Axes>"
      ]
     },
     "metadata": {},
     "output_type": "display_data"
    },
    {
     "name": "stdout",
     "output_type": "stream",
     "text": [
      "Precision Score: 0.5517241379310345\n",
      "Recall Score: 0.6597938144329897\n",
      "Accuracy Score: 0.8725637181409296\n",
      "F1 Score: 0.6009389671361501\n"
     ]
    }
   ],
   "source": [
    "plot_confusion_matrix(y_test,rf_preds)\n",
    "print_metrics(y_test,rf_preds)"
   ]
  },
  {
   "cell_type": "code",
   "execution_count": 47,
   "metadata": {},
   "outputs": [
    {
     "name": "stdout",
     "output_type": "stream",
     "text": [
      "4.9504950495049505 of False Negatives\n"
     ]
    },
    {
     "data": {
      "image/png": "[encoded data removed]",
      "text/plain": [
       "<Figure size 432x288 with 2 Axes>"
      ]
     },
     "metadata": {},
     "output_type": "display_data"
    },
    {
     "name": "stdout",
     "output_type": "stream",
     "text": [
      "Precision Score: 0.603415559772296\n",
      "Recall Score: 0.6583850931677019\n",
      "Accuracy Score: 0.8877887788778878\n",
      "F1 Score: 0.6297029702970297\n"
     ]
    }
   ],
   "source": [
    "plot_confusion_matrix(y,rf_best.predict(X),data='Full')\n",
    "print_metrics(y,rf_best.predict(X))"
   ]
  },
  {
   "cell_type": "code",
   "execution_count": 53,
   "metadata": {},
   "outputs": [],
   "source": [
    "def plot_feature_importances(model):\n",
    "    n_features = X_train.shape[1]\n",
    "    plt.figure(figsize=(8,8))\n",
    "    plt.barh(range(n_features), model.feature_importances_, align='center') \n",
    "    plt.yticks(np.arange(n_features), X_train.columns.values) \n",
    "    plt.xlabel('Feature importance')\n",
    "    plt.ylabel('Feature')\n"
   ]
  },
  {
   "cell_type": "code",
   "execution_count": 54,
   "metadata": {},
   "outputs": [
    {
     "data": {
      "image/png": "[encoded data removed]",
      "text/plain": [
       "<Figure size 576x576 with 1 Axes>"
      ]
     },
     "metadata": {},
     "output_type": "display_data"
    }
   ],
   "source": [
    "plot_feature_importances(rf_best[1])"
   ]
  },
  {
   "cell_type": "code",
   "execution_count": 55,
   "metadata": {},
   "outputs": [
    {
     "name": "stdout",
     "output_type": "stream",
     "text": [
      "              precision    recall  f1-score   support\n",
      "\n",
      "           0       0.94      0.91      0.92       570\n",
      "           1       0.55      0.66      0.60        97\n",
      "\n",
      "    accuracy                           0.87       667\n",
      "   macro avg       0.75      0.78      0.76       667\n",
      "weighted avg       0.88      0.87      0.88       667\n",
      "\n"
     ]
    }
   ],
   "source": [
    "print(classification_report(y_test,rf_preds))"
   ]
  },
  {
   "cell_type": "markdown",
   "metadata": {},
   "source": [
    "# Bayesian"
   ]
  },
  {
   "cell_type": "code",
   "execution_count": 56,
   "metadata": {},
   "outputs": [],
   "source": [
    "bayes = GaussianNB()"
   ]
  },
  {
   "cell_type": "code",
   "execution_count": 57,
   "metadata": {},
   "outputs": [
    {
     "data": {
      "text/plain": [
       "GaussianNB(priors=None, var_smoothing=1e-09)"
      ]
     },
     "execution_count": 57,
     "metadata": {},
     "output_type": "execute_result"
    }
   ],
   "source": [
    "bayes.fit(X_train_smote,y_train_smote)"
   ]
  },
  {
   "cell_type": "code",
   "execution_count": 58,
   "metadata": {},
   "outputs": [
    {
     "data": {
      "text/plain": [
       "(0.6732456140350878, 0.5697151424287856)"
      ]
     },
     "execution_count": 58,
     "metadata": {},
     "output_type": "execute_result"
    }
   ],
   "source": [
    "bayes.score(X_train_smote,y_train_smote),bayes.score(X_test,y_test)"
   ]
  },
  {
   "cell_type": "code",
   "execution_count": 60,
   "metadata": {},
   "outputs": [],
   "source": [
    "y_test_bayes = bayes.predict(X_test)\n"
   ]
  },
  {
   "cell_type": "code",
   "execution_count": 61,
   "metadata": {},
   "outputs": [
    {
     "data": {
      "image/png": "[encoded data removed]",
      "text/plain": [
       "<Figure size 576x360 with 2 Axes>"
      ]
     },
     "metadata": {},
     "output_type": "display_data"
    }
   ],
   "source": [
    "labels = [\"nochurn\", \"churn\"]\n",
    "plot_confusion_matrix2(y_test, y_test_bayes, labels=labels)\n"
   ]
  },
  {
   "cell_type": "code",
   "execution_count": 62,
   "metadata": {},
   "outputs": [],
   "source": [
    "df_test = X_test.copy()"
   ]
  },
  {
   "cell_type": "code",
   "execution_count": 63,
   "metadata": {},
   "outputs": [],
   "source": [
    "churn_probs = bayes.predict_proba(X_test)[:, 1]\n",
    "df_test['label'] = y_test\n",
    "df_test['churn_prob'] = churn_probs"
   ]
  },
  {
   "cell_type": "code",
   "execution_count": 64,
   "metadata": {
    "scrolled": true
   },
   "outputs": [
    {
     "data": {
      "text/html": [
       "<div>\n",
       "<style scoped>\n",
       "    .dataframe tbody tr th:only-of-type {\n",
       "        vertical-align: middle;\n",
       "    }\n",
       "\n",
       "    .dataframe tbody tr th {\n",
       "        vertical-align: top;\n",
       "    }\n",
       "\n",
       "    .dataframe thead th {\n",
       "        text-align: right;\n",
       "    }\n",
       "</style>\n",
       "<table border=\"1\" class=\"dataframe\">\n",
       "  <thead>\n",
       "    <tr style=\"text-align: right;\">\n",
       "      <th></th>\n",
       "      <th>international_plan</th>\n",
       "      <th>voice_mail_plan</th>\n",
       "      <th>total_day_minutes</th>\n",
       "      <th>total_eve_minutes</th>\n",
       "      <th>total_night_minutes</th>\n",
       "      <th>total_intl_minutes</th>\n",
       "      <th>total_intl_calls</th>\n",
       "      <th>customer_service_calls</th>\n",
       "      <th>total_charge</th>\n",
       "      <th>state_AK</th>\n",
       "      <th>...</th>\n",
       "      <th>state_TX</th>\n",
       "      <th>state_UT</th>\n",
       "      <th>state_VA</th>\n",
       "      <th>state_VT</th>\n",
       "      <th>state_WA</th>\n",
       "      <th>state_WI</th>\n",
       "      <th>state_WV</th>\n",
       "      <th>state_WY</th>\n",
       "      <th>label</th>\n",
       "      <th>churn_prob</th>\n",
       "    </tr>\n",
       "  </thead>\n",
       "  <tbody>\n",
       "    <tr>\n",
       "      <td>2753</td>\n",
       "      <td>0</td>\n",
       "      <td>0</td>\n",
       "      <td>7.8</td>\n",
       "      <td>171.4</td>\n",
       "      <td>186.5</td>\n",
       "      <td>12.9</td>\n",
       "      <td>2</td>\n",
       "      <td>2</td>\n",
       "      <td>27.77</td>\n",
       "      <td>0</td>\n",
       "      <td>...</td>\n",
       "      <td>0</td>\n",
       "      <td>0</td>\n",
       "      <td>0</td>\n",
       "      <td>0</td>\n",
       "      <td>0</td>\n",
       "      <td>0</td>\n",
       "      <td>0</td>\n",
       "      <td>0</td>\n",
       "      <td>0</td>\n",
       "      <td>0.808553</td>\n",
       "    </tr>\n",
       "    <tr>\n",
       "      <td>2575</td>\n",
       "      <td>0</td>\n",
       "      <td>0</td>\n",
       "      <td>131.6</td>\n",
       "      <td>179.3</td>\n",
       "      <td>251.2</td>\n",
       "      <td>15.5</td>\n",
       "      <td>3</td>\n",
       "      <td>1</td>\n",
       "      <td>53.10</td>\n",
       "      <td>0</td>\n",
       "      <td>...</td>\n",
       "      <td>0</td>\n",
       "      <td>0</td>\n",
       "      <td>0</td>\n",
       "      <td>0</td>\n",
       "      <td>0</td>\n",
       "      <td>0</td>\n",
       "      <td>0</td>\n",
       "      <td>0</td>\n",
       "      <td>1</td>\n",
       "      <td>1.000000</td>\n",
       "    </tr>\n",
       "    <tr>\n",
       "      <td>1888</td>\n",
       "      <td>0</td>\n",
       "      <td>0</td>\n",
       "      <td>191.1</td>\n",
       "      <td>282.8</td>\n",
       "      <td>84.8</td>\n",
       "      <td>12.0</td>\n",
       "      <td>4</td>\n",
       "      <td>2</td>\n",
       "      <td>63.59</td>\n",
       "      <td>0</td>\n",
       "      <td>...</td>\n",
       "      <td>0</td>\n",
       "      <td>0</td>\n",
       "      <td>0</td>\n",
       "      <td>0</td>\n",
       "      <td>1</td>\n",
       "      <td>0</td>\n",
       "      <td>0</td>\n",
       "      <td>0</td>\n",
       "      <td>0</td>\n",
       "      <td>1.000000</td>\n",
       "    </tr>\n",
       "    <tr>\n",
       "      <td>126</td>\n",
       "      <td>0</td>\n",
       "      <td>0</td>\n",
       "      <td>70.7</td>\n",
       "      <td>157.5</td>\n",
       "      <td>154.8</td>\n",
       "      <td>9.1</td>\n",
       "      <td>3</td>\n",
       "      <td>4</td>\n",
       "      <td>34.84</td>\n",
       "      <td>0</td>\n",
       "      <td>...</td>\n",
       "      <td>0</td>\n",
       "      <td>0</td>\n",
       "      <td>0</td>\n",
       "      <td>0</td>\n",
       "      <td>0</td>\n",
       "      <td>0</td>\n",
       "      <td>0</td>\n",
       "      <td>0</td>\n",
       "      <td>1</td>\n",
       "      <td>1.000000</td>\n",
       "    </tr>\n",
       "    <tr>\n",
       "      <td>2116</td>\n",
       "      <td>0</td>\n",
       "      <td>0</td>\n",
       "      <td>195.6</td>\n",
       "      <td>126.4</td>\n",
       "      <td>148.6</td>\n",
       "      <td>14.2</td>\n",
       "      <td>4</td>\n",
       "      <td>1</td>\n",
       "      <td>54.51</td>\n",
       "      <td>0</td>\n",
       "      <td>...</td>\n",
       "      <td>0</td>\n",
       "      <td>0</td>\n",
       "      <td>0</td>\n",
       "      <td>0</td>\n",
       "      <td>0</td>\n",
       "      <td>0</td>\n",
       "      <td>0</td>\n",
       "      <td>0</td>\n",
       "      <td>0</td>\n",
       "      <td>0.999999</td>\n",
       "    </tr>\n",
       "  </tbody>\n",
       "</table>\n",
       "<p>5 rows × 62 columns</p>\n",
       "</div>"
      ],
      "text/plain": [
       "      international_plan  voice_mail_plan  total_day_minutes  \\\n",
       "2753                   0                0                7.8   \n",
       "2575                   0                0              131.6   \n",
       "1888                   0                0              191.1   \n",
       "126                    0                0               70.7   \n",
       "2116                   0                0              195.6   \n",
       "\n",
       "      total_eve_minutes  total_night_minutes  total_intl_minutes  \\\n",
       "2753              171.4                186.5                12.9   \n",
       "2575              179.3                251.2                15.5   \n",
       "1888              282.8                 84.8                12.0   \n",
       "126               157.5                154.8                 9.1   \n",
       "2116              126.4                148.6                14.2   \n",
       "\n",
       "      total_intl_calls  customer_service_calls  total_charge  state_AK  ...  \\\n",
       "2753                 2                       2         27.77         0  ...   \n",
       "2575                 3                       1         53.10         0  ...   \n",
       "1888                 4                       2         63.59         0  ...   \n",
       "126                  3                       4         34.84         0  ...   \n",
       "2116                 4                       1         54.51         0  ...   \n",
       "\n",
       "      state_TX  state_UT  state_VA  state_VT  state_WA  state_WI  state_WV  \\\n",
       "2753         0         0         0         0         0         0         0   \n",
       "2575         0         0         0         0         0         0         0   \n",
       "1888         0         0         0         0         1         0         0   \n",
       "126          0         0         0         0         0         0         0   \n",
       "2116         0         0         0         0         0         0         0   \n",
       "\n",
       "      state_WY  label  churn_prob  \n",
       "2753         0      0    0.808553  \n",
       "2575         0      1    1.000000  \n",
       "1888         0      0    1.000000  \n",
       "126          0      1    1.000000  \n",
       "2116         0      0    0.999999  \n",
       "\n",
       "[5 rows x 62 columns]"
      ]
     },
     "execution_count": 64,
     "metadata": {},
     "output_type": "execute_result"
    }
   ],
   "source": [
    "df_test.head()"
   ]
  },
  {
   "cell_type": "code",
   "execution_count": 65,
   "metadata": {},
   "outputs": [
    {
     "data": {
      "image/png": "[encoded data removed]",
      "text/plain": [
       "<Figure size 360x360 with 1 Axes>"
      ]
     },
     "metadata": {},
     "output_type": "display_data"
    }
   ],
   "source": [
    "sns.catplot(x='churn_prob', y='label', orient='h', data=df_test, kind='violin')\n",
    "plt.show()"
   ]
  },
  {
   "cell_type": "code",
   "execution_count": 66,
   "metadata": {},
   "outputs": [
    {
     "data": {
      "text/html": [
       "<div>\n",
       "<style scoped>\n",
       "    .dataframe tbody tr th:only-of-type {\n",
       "        vertical-align: middle;\n",
       "    }\n",
       "\n",
       "    .dataframe tbody tr th {\n",
       "        vertical-align: top;\n",
       "    }\n",
       "\n",
       "    .dataframe thead th {\n",
       "        text-align: right;\n",
       "    }\n",
       "</style>\n",
       "<table border=\"1\" class=\"dataframe\">\n",
       "  <thead>\n",
       "    <tr style=\"text-align: right;\">\n",
       "      <th></th>\n",
       "      <th>international_plan</th>\n",
       "      <th>voice_mail_plan</th>\n",
       "      <th>total_day_minutes</th>\n",
       "      <th>total_eve_minutes</th>\n",
       "      <th>total_night_minutes</th>\n",
       "      <th>total_intl_minutes</th>\n",
       "      <th>total_intl_calls</th>\n",
       "      <th>customer_service_calls</th>\n",
       "      <th>total_charge</th>\n",
       "      <th>state_AK</th>\n",
       "      <th>...</th>\n",
       "      <th>state_UT</th>\n",
       "      <th>state_VA</th>\n",
       "      <th>state_VT</th>\n",
       "      <th>state_WA</th>\n",
       "      <th>state_WI</th>\n",
       "      <th>state_WV</th>\n",
       "      <th>state_WY</th>\n",
       "      <th>label</th>\n",
       "      <th>churn_prob</th>\n",
       "      <th>predicted_label</th>\n",
       "    </tr>\n",
       "  </thead>\n",
       "  <tbody>\n",
       "    <tr>\n",
       "      <td>2753</td>\n",
       "      <td>0</td>\n",
       "      <td>0</td>\n",
       "      <td>7.8</td>\n",
       "      <td>171.4</td>\n",
       "      <td>186.5</td>\n",
       "      <td>12.9</td>\n",
       "      <td>2</td>\n",
       "      <td>2</td>\n",
       "      <td>27.77</td>\n",
       "      <td>0</td>\n",
       "      <td>...</td>\n",
       "      <td>0</td>\n",
       "      <td>0</td>\n",
       "      <td>0</td>\n",
       "      <td>0</td>\n",
       "      <td>0</td>\n",
       "      <td>0</td>\n",
       "      <td>0</td>\n",
       "      <td>0</td>\n",
       "      <td>0.808553</td>\n",
       "      <td>1</td>\n",
       "    </tr>\n",
       "    <tr>\n",
       "      <td>2575</td>\n",
       "      <td>0</td>\n",
       "      <td>0</td>\n",
       "      <td>131.6</td>\n",
       "      <td>179.3</td>\n",
       "      <td>251.2</td>\n",
       "      <td>15.5</td>\n",
       "      <td>3</td>\n",
       "      <td>1</td>\n",
       "      <td>53.10</td>\n",
       "      <td>0</td>\n",
       "      <td>...</td>\n",
       "      <td>0</td>\n",
       "      <td>0</td>\n",
       "      <td>0</td>\n",
       "      <td>0</td>\n",
       "      <td>0</td>\n",
       "      <td>0</td>\n",
       "      <td>0</td>\n",
       "      <td>1</td>\n",
       "      <td>1.000000</td>\n",
       "      <td>1</td>\n",
       "    </tr>\n",
       "    <tr>\n",
       "      <td>1888</td>\n",
       "      <td>0</td>\n",
       "      <td>0</td>\n",
       "      <td>191.1</td>\n",
       "      <td>282.8</td>\n",
       "      <td>84.8</td>\n",
       "      <td>12.0</td>\n",
       "      <td>4</td>\n",
       "      <td>2</td>\n",
       "      <td>63.59</td>\n",
       "      <td>0</td>\n",
       "      <td>...</td>\n",
       "      <td>0</td>\n",
       "      <td>0</td>\n",
       "      <td>0</td>\n",
       "      <td>1</td>\n",
       "      <td>0</td>\n",
       "      <td>0</td>\n",
       "      <td>0</td>\n",
       "      <td>0</td>\n",
       "      <td>1.000000</td>\n",
       "      <td>1</td>\n",
       "    </tr>\n",
       "    <tr>\n",
       "      <td>126</td>\n",
       "      <td>0</td>\n",
       "      <td>0</td>\n",
       "      <td>70.7</td>\n",
       "      <td>157.5</td>\n",
       "      <td>154.8</td>\n",
       "      <td>9.1</td>\n",
       "      <td>3</td>\n",
       "      <td>4</td>\n",
       "      <td>34.84</td>\n",
       "      <td>0</td>\n",
       "      <td>...</td>\n",
       "      <td>0</td>\n",
       "      <td>0</td>\n",
       "      <td>0</td>\n",
       "      <td>0</td>\n",
       "      <td>0</td>\n",
       "      <td>0</td>\n",
       "      <td>0</td>\n",
       "      <td>1</td>\n",
       "      <td>1.000000</td>\n",
       "      <td>1</td>\n",
       "    </tr>\n",
       "    <tr>\n",
       "      <td>2116</td>\n",
       "      <td>0</td>\n",
       "      <td>0</td>\n",
       "      <td>195.6</td>\n",
       "      <td>126.4</td>\n",
       "      <td>148.6</td>\n",
       "      <td>14.2</td>\n",
       "      <td>4</td>\n",
       "      <td>1</td>\n",
       "      <td>54.51</td>\n",
       "      <td>0</td>\n",
       "      <td>...</td>\n",
       "      <td>0</td>\n",
       "      <td>0</td>\n",
       "      <td>0</td>\n",
       "      <td>0</td>\n",
       "      <td>0</td>\n",
       "      <td>0</td>\n",
       "      <td>0</td>\n",
       "      <td>0</td>\n",
       "      <td>0.999999</td>\n",
       "      <td>1</td>\n",
       "    </tr>\n",
       "  </tbody>\n",
       "</table>\n",
       "<p>5 rows × 63 columns</p>\n",
       "</div>"
      ],
      "text/plain": [
       "      international_plan  voice_mail_plan  total_day_minutes  \\\n",
       "2753                   0                0                7.8   \n",
       "2575                   0                0              131.6   \n",
       "1888                   0                0              191.1   \n",
       "126                    0                0               70.7   \n",
       "2116                   0                0              195.6   \n",
       "\n",
       "      total_eve_minutes  total_night_minutes  total_intl_minutes  \\\n",
       "2753              171.4                186.5                12.9   \n",
       "2575              179.3                251.2                15.5   \n",
       "1888              282.8                 84.8                12.0   \n",
       "126               157.5                154.8                 9.1   \n",
       "2116              126.4                148.6                14.2   \n",
       "\n",
       "      total_intl_calls  customer_service_calls  total_charge  state_AK  ...  \\\n",
       "2753                 2                       2         27.77         0  ...   \n",
       "2575                 3                       1         53.10         0  ...   \n",
       "1888                 4                       2         63.59         0  ...   \n",
       "126                  3                       4         34.84         0  ...   \n",
       "2116                 4                       1         54.51         0  ...   \n",
       "\n",
       "      state_UT  state_VA  state_VT  state_WA  state_WI  state_WV  state_WY  \\\n",
       "2753         0         0         0         0         0         0         0   \n",
       "2575         0         0         0         0         0         0         0   \n",
       "1888         0         0         0         1         0         0         0   \n",
       "126          0         0         0         0         0         0         0   \n",
       "2116         0         0         0         0         0         0         0   \n",
       "\n",
       "      label  churn_prob  predicted_label  \n",
       "2753      0    0.808553                1  \n",
       "2575      1    1.000000                1  \n",
       "1888      0    1.000000                1  \n",
       "126       1    1.000000                1  \n",
       "2116      0    0.999999                1  \n",
       "\n",
       "[5 rows x 63 columns]"
      ]
     },
     "execution_count": 66,
     "metadata": {},
     "output_type": "execute_result"
    }
   ],
   "source": [
    "df_test['predicted_label'] = bayes.predict(X_test)\n",
    "df_test.head()"
   ]
  },
  {
   "cell_type": "code",
   "execution_count": 67,
   "metadata": {},
   "outputs": [
    {
     "data": {
      "text/html": [
       "<div>\n",
       "<style scoped>\n",
       "    .dataframe tbody tr th:only-of-type {\n",
       "        vertical-align: middle;\n",
       "    }\n",
       "\n",
       "    .dataframe tbody tr th {\n",
       "        vertical-align: top;\n",
       "    }\n",
       "\n",
       "    .dataframe thead th {\n",
       "        text-align: right;\n",
       "    }\n",
       "</style>\n",
       "<table border=\"1\" class=\"dataframe\">\n",
       "  <thead>\n",
       "    <tr style=\"text-align: right;\">\n",
       "      <th></th>\n",
       "      <th>international_plan</th>\n",
       "      <th>voice_mail_plan</th>\n",
       "      <th>total_day_minutes</th>\n",
       "      <th>total_eve_minutes</th>\n",
       "      <th>total_night_minutes</th>\n",
       "      <th>total_intl_minutes</th>\n",
       "      <th>total_intl_calls</th>\n",
       "      <th>customer_service_calls</th>\n",
       "      <th>total_charge</th>\n",
       "      <th>state_AK</th>\n",
       "      <th>...</th>\n",
       "      <th>state_VA</th>\n",
       "      <th>state_VT</th>\n",
       "      <th>state_WA</th>\n",
       "      <th>state_WI</th>\n",
       "      <th>state_WV</th>\n",
       "      <th>state_WY</th>\n",
       "      <th>label</th>\n",
       "      <th>churn_prob</th>\n",
       "      <th>predicted_label</th>\n",
       "      <th>correct</th>\n",
       "    </tr>\n",
       "  </thead>\n",
       "  <tbody>\n",
       "    <tr>\n",
       "      <td>2753</td>\n",
       "      <td>0</td>\n",
       "      <td>0</td>\n",
       "      <td>7.8</td>\n",
       "      <td>171.4</td>\n",
       "      <td>186.5</td>\n",
       "      <td>12.9</td>\n",
       "      <td>2</td>\n",
       "      <td>2</td>\n",
       "      <td>27.77</td>\n",
       "      <td>0</td>\n",
       "      <td>...</td>\n",
       "      <td>0</td>\n",
       "      <td>0</td>\n",
       "      <td>0</td>\n",
       "      <td>0</td>\n",
       "      <td>0</td>\n",
       "      <td>0</td>\n",
       "      <td>0</td>\n",
       "      <td>0.808553</td>\n",
       "      <td>1</td>\n",
       "      <td>False</td>\n",
       "    </tr>\n",
       "    <tr>\n",
       "      <td>2575</td>\n",
       "      <td>0</td>\n",
       "      <td>0</td>\n",
       "      <td>131.6</td>\n",
       "      <td>179.3</td>\n",
       "      <td>251.2</td>\n",
       "      <td>15.5</td>\n",
       "      <td>3</td>\n",
       "      <td>1</td>\n",
       "      <td>53.10</td>\n",
       "      <td>0</td>\n",
       "      <td>...</td>\n",
       "      <td>0</td>\n",
       "      <td>0</td>\n",
       "      <td>0</td>\n",
       "      <td>0</td>\n",
       "      <td>0</td>\n",
       "      <td>0</td>\n",
       "      <td>1</td>\n",
       "      <td>1.000000</td>\n",
       "      <td>1</td>\n",
       "      <td>True</td>\n",
       "    </tr>\n",
       "    <tr>\n",
       "      <td>1888</td>\n",
       "      <td>0</td>\n",
       "      <td>0</td>\n",
       "      <td>191.1</td>\n",
       "      <td>282.8</td>\n",
       "      <td>84.8</td>\n",
       "      <td>12.0</td>\n",
       "      <td>4</td>\n",
       "      <td>2</td>\n",
       "      <td>63.59</td>\n",
       "      <td>0</td>\n",
       "      <td>...</td>\n",
       "      <td>0</td>\n",
       "      <td>0</td>\n",
       "      <td>1</td>\n",
       "      <td>0</td>\n",
       "      <td>0</td>\n",
       "      <td>0</td>\n",
       "      <td>0</td>\n",
       "      <td>1.000000</td>\n",
       "      <td>1</td>\n",
       "      <td>False</td>\n",
       "    </tr>\n",
       "    <tr>\n",
       "      <td>126</td>\n",
       "      <td>0</td>\n",
       "      <td>0</td>\n",
       "      <td>70.7</td>\n",
       "      <td>157.5</td>\n",
       "      <td>154.8</td>\n",
       "      <td>9.1</td>\n",
       "      <td>3</td>\n",
       "      <td>4</td>\n",
       "      <td>34.84</td>\n",
       "      <td>0</td>\n",
       "      <td>...</td>\n",
       "      <td>0</td>\n",
       "      <td>0</td>\n",
       "      <td>0</td>\n",
       "      <td>0</td>\n",
       "      <td>0</td>\n",
       "      <td>0</td>\n",
       "      <td>1</td>\n",
       "      <td>1.000000</td>\n",
       "      <td>1</td>\n",
       "      <td>True</td>\n",
       "    </tr>\n",
       "    <tr>\n",
       "      <td>2116</td>\n",
       "      <td>0</td>\n",
       "      <td>0</td>\n",
       "      <td>195.6</td>\n",
       "      <td>126.4</td>\n",
       "      <td>148.6</td>\n",
       "      <td>14.2</td>\n",
       "      <td>4</td>\n",
       "      <td>1</td>\n",
       "      <td>54.51</td>\n",
       "      <td>0</td>\n",
       "      <td>...</td>\n",
       "      <td>0</td>\n",
       "      <td>0</td>\n",
       "      <td>0</td>\n",
       "      <td>0</td>\n",
       "      <td>0</td>\n",
       "      <td>0</td>\n",
       "      <td>0</td>\n",
       "      <td>0.999999</td>\n",
       "      <td>1</td>\n",
       "      <td>False</td>\n",
       "    </tr>\n",
       "  </tbody>\n",
       "</table>\n",
       "<p>5 rows × 64 columns</p>\n",
       "</div>"
      ],
      "text/plain": [
       "      international_plan  voice_mail_plan  total_day_minutes  \\\n",
       "2753                   0                0                7.8   \n",
       "2575                   0                0              131.6   \n",
       "1888                   0                0              191.1   \n",
       "126                    0                0               70.7   \n",
       "2116                   0                0              195.6   \n",
       "\n",
       "      total_eve_minutes  total_night_minutes  total_intl_minutes  \\\n",
       "2753              171.4                186.5                12.9   \n",
       "2575              179.3                251.2                15.5   \n",
       "1888              282.8                 84.8                12.0   \n",
       "126               157.5                154.8                 9.1   \n",
       "2116              126.4                148.6                14.2   \n",
       "\n",
       "      total_intl_calls  customer_service_calls  total_charge  state_AK  ...  \\\n",
       "2753                 2                       2         27.77         0  ...   \n",
       "2575                 3                       1         53.10         0  ...   \n",
       "1888                 4                       2         63.59         0  ...   \n",
       "126                  3                       4         34.84         0  ...   \n",
       "2116                 4                       1         54.51         0  ...   \n",
       "\n",
       "      state_VA  state_VT  state_WA  state_WI  state_WV  state_WY  label  \\\n",
       "2753         0         0         0         0         0         0      0   \n",
       "2575         0         0         0         0         0         0      1   \n",
       "1888         0         0         1         0         0         0      0   \n",
       "126          0         0         0         0         0         0      1   \n",
       "2116         0         0         0         0         0         0      0   \n",
       "\n",
       "      churn_prob  predicted_label  correct  \n",
       "2753    0.808553                1    False  \n",
       "2575    1.000000                1     True  \n",
       "1888    1.000000                1    False  \n",
       "126     1.000000                1     True  \n",
       "2116    0.999999                1    False  \n",
       "\n",
       "[5 rows x 64 columns]"
      ]
     },
     "execution_count": 67,
     "metadata": {},
     "output_type": "execute_result"
    }
   ],
   "source": [
    "df_test['correct'] = df_test['label']==df_test['predicted_label']\n",
    "df_test.head()"
   ]
  },
  {
   "cell_type": "code",
   "execution_count": 68,
   "metadata": {},
   "outputs": [
    {
     "data": {
      "text/plain": [
       "<matplotlib.axes._subplots.AxesSubplot at 0x1a1f56f240>"
      ]
     },
     "execution_count": 68,
     "metadata": {},
     "output_type": "execute_result"
    },
    {
     "data": {
      "image/png": "[encoded data removed]",
      "text/plain": [
       "<Figure size 432x288 with 1 Axes>"
      ]
     },
     "metadata": {},
     "output_type": "display_data"
    }
   ],
   "source": [
    "df_test_inc_churn = df_test.loc[(df_test['correct']==False) & (df_test['label']==1)]\n",
    "df_test_inc_churn['churn_prob'].plot('hist')"
   ]
  },
  {
   "cell_type": "code",
   "execution_count": 69,
   "metadata": {},
   "outputs": [],
   "source": [
    "# let's try a 20% threshold to make our labels\n",
    "\n",
    "def bayes_labels(X_test, thresh=0.30):\n",
    "    \"\"\"\n",
    "    custom predict method\n",
    "    \"\"\"\n",
    "    probs = bayes.predict_proba(X_test)[:, 1]\n",
    "    labels = []\n",
    "    for prob in probs:\n",
    "        if prob >= thresh:\n",
    "            labels.append(1)\n",
    "        else:\n",
    "            labels.append(0)\n",
    "    return labels"
   ]
  },
  {
   "cell_type": "code",
   "execution_count": 70,
   "metadata": {},
   "outputs": [],
   "source": [
    "bayes.predict_custom = bayes_labels"
   ]
  },
  {
   "cell_type": "code",
   "execution_count": 73,
   "metadata": {
    "scrolled": false
   },
   "outputs": [
    {
     "name": "stdout",
     "output_type": "stream",
     "text": [
      "5.697151424287856 of False Negatives\n"
     ]
    },
    {
     "data": {
      "image/png": "[encoded data removed]",
      "text/plain": [
       "<Figure size 432x288 with 2 Axes>"
      ]
     },
     "metadata": {},
     "output_type": "display_data"
    },
    {
     "name": "stdout",
     "output_type": "stream",
     "text": [
      "4.6476761619190405 of False Negatives\n"
     ]
    },
    {
     "data": {
      "image/png": "[encoded data removed]",
      "text/plain": [
       "<Figure size 432x288 with 2 Axes>"
      ]
     },
     "metadata": {},
     "output_type": "display_data"
    }
   ],
   "source": [
    "new_labels = bayes.predict_custom(X_test,thresh=0.01)\n",
    "plot_confusion_matrix(y_test, y_test_bayes)\n",
    "plot_confusion_matrix(y_test, new_labels)"
   ]
  },
  {
   "cell_type": "code",
   "execution_count": null,
   "metadata": {},
   "outputs": [],
   "source": []
  },
  {
   "cell_type": "markdown",
   "metadata": {},
   "source": [
    "# XG Boost - built in class imbalance"
   ]
  },
  {
   "cell_type": "code",
   "execution_count": 117,
   "metadata": {},
   "outputs": [
    {
     "data": {
      "text/plain": [
       "5.9067357512953365"
      ]
     },
     "execution_count": 117,
     "metadata": {},
     "output_type": "execute_result"
    }
   ],
   "source": [
    "train_classifiers = y_train.value_counts()\n",
    "scaler = train_classifiers[0]/train_classifiers[1]\n",
    "scaler"
   ]
  },
  {
   "cell_type": "code",
   "execution_count": 118,
   "metadata": {},
   "outputs": [
    {
     "data": {
      "text/plain": [
       "5.9067357512953365"
      ]
     },
     "execution_count": 118,
     "metadata": {},
     "output_type": "execute_result"
    }
   ],
   "source": [
    "scaler = train_classifiers[0]/train_classifiers[1]\n",
    "scaler"
   ]
  },
  {
   "cell_type": "code",
   "execution_count": 119,
   "metadata": {},
   "outputs": [],
   "source": [
    "xgb_pipeline = Pipeline([('ss',StandardScaler()),('xgb',xgb.XGBClassifier(objective='binary:logistic',scale_pos_weight=scaler))])\n"
   ]
  },
  {
   "cell_type": "code",
   "execution_count": 120,
   "metadata": {},
   "outputs": [],
   "source": [
    "params = {\n",
    "    \"xgb__learning_rate\": [0.001,0.05,0.01,0.1,0.5],\n",
    "    'xgb__max_depth': [3,5,7],\n",
    "    'xgb__subsample': [1],\n",
    "    'xgb__n_estimators': [5, 50, 100, 250,500,750],\n",
    "}"
   ]
  },
  {
   "cell_type": "code",
   "execution_count": 121,
   "metadata": {},
   "outputs": [],
   "source": [
    "xgb_cv = GridSearchCV(estimator =xgb_pipeline,param_grid=params,n_jobs=-1,scoring=make_scorer(recall_score),cv=5)"
   ]
  },
  {
   "cell_type": "code",
   "execution_count": 122,
   "metadata": {},
   "outputs": [
    {
     "data": {
      "text/plain": [
       "GridSearchCV(cv=5, error_score='raise-deprecating',\n",
       "             estimator=Pipeline(memory=None,\n",
       "                                steps=[('ss',\n",
       "                                        StandardScaler(copy=True,\n",
       "                                                       with_mean=True,\n",
       "                                                       with_std=True)),\n",
       "                                       ('xgb',\n",
       "                                        XGBClassifier(base_score=0.5,\n",
       "                                                      booster='gbtree',\n",
       "                                                      colsample_bylevel=1,\n",
       "                                                      colsample_bynode=1,\n",
       "                                                      colsample_bytree=1,\n",
       "                                                      gamma=0,\n",
       "                                                      learning_rate=0.1,\n",
       "                                                      max_delta_step=0,\n",
       "                                                      max_depth=3,\n",
       "                                                      min_child_weight=1,\n",
       "                                                      missing=None,\n",
       "                                                      n_...\n",
       "                                                      scale_pos_weight=5.9067357512953365,\n",
       "                                                      seed=None, silent=None,\n",
       "                                                      subsample=1,\n",
       "                                                      verbosity=1))],\n",
       "                                verbose=False),\n",
       "             iid='warn', n_jobs=-1,\n",
       "             param_grid={'xgb__learning_rate': [0.001, 0.05, 0.01, 0.1, 0.5],\n",
       "                         'xgb__max_depth': [3, 5, 7],\n",
       "                         'xgb__n_estimators': [5, 50, 100, 250, 500, 750],\n",
       "                         'xgb__subsample': [1]},\n",
       "             pre_dispatch='2*n_jobs', refit=True, return_train_score=False,\n",
       "             scoring=make_scorer(recall_score), verbose=0)"
      ]
     },
     "execution_count": 122,
     "metadata": {},
     "output_type": "execute_result"
    }
   ],
   "source": [
    "xgb_cv.fit(X_train,y_train)\n"
   ]
  },
  {
   "cell_type": "code",
   "execution_count": 123,
   "metadata": {},
   "outputs": [],
   "source": [
    "xgb_best = xgb_cv.best_estimator_"
   ]
  },
  {
   "cell_type": "code",
   "execution_count": 124,
   "metadata": {},
   "outputs": [
    {
     "data": {
      "text/plain": [
       "{'xgb__learning_rate': 0.001,\n",
       " 'xgb__max_depth': 3,\n",
       " 'xgb__n_estimators': 5,\n",
       " 'xgb__subsample': 1}"
      ]
     },
     "execution_count": 124,
     "metadata": {},
     "output_type": "execute_result"
    }
   ],
   "source": [
    "xgb_cv.best_params_"
   ]
  },
  {
   "cell_type": "code",
   "execution_count": 125,
   "metadata": {},
   "outputs": [
    {
     "data": {
      "text/plain": [
       "(0.9257314328582146, 0.9280359820089955)"
      ]
     },
     "execution_count": 125,
     "metadata": {},
     "output_type": "execute_result"
    }
   ],
   "source": [
    "xgb_best.score(X_train,y_train),xgb_best.score(X_test,y_test)"
   ]
  },
  {
   "cell_type": "code",
   "execution_count": 126,
   "metadata": {},
   "outputs": [],
   "source": [
    "xgb_preds = xgb_best.predict(X_test)"
   ]
  },
  {
   "cell_type": "code",
   "execution_count": 127,
   "metadata": {},
   "outputs": [
    {
     "name": "stdout",
     "output_type": "stream",
     "text": [
      "2.213053263315829 of False Negatives\n"
     ]
    },
    {
     "data": {
      "image/png": "[encoded data removed]",
      "text/plain": [
       "<Figure size 432x288 with 2 Axes>"
      ]
     },
     "metadata": {},
     "output_type": "display_data"
    },
    {
     "name": "stdout",
     "output_type": "stream",
     "text": [
      "Precision Score: 0.7017167381974249\n",
      "Recall Score: 0.8471502590673575\n",
      "Accuracy Score: 0.9257314328582146\n",
      "F1 Score: 0.767605633802817\n"
     ]
    }
   ],
   "source": [
    "plot_confusion_matrix(y_train,xgb_best.predict(X_train),data='Train')\n",
    "print_metrics(y_train,xgb_best.predict(X_train))"
   ]
  },
  {
   "cell_type": "code",
   "execution_count": 128,
   "metadata": {},
   "outputs": [
    {
     "name": "stdout",
     "output_type": "stream",
     "text": [
      "1.3493253373313343 of False Negatives\n"
     ]
    },
    {
     "data": {
      "image/png": "[encoded data removed]",
      "text/plain": [
       "<Figure size 432x288 with 2 Axes>"
      ]
     },
     "metadata": {},
     "output_type": "display_data"
    },
    {
     "name": "stdout",
     "output_type": "stream",
     "text": [
      "Precision Score: 0.6929133858267716\n",
      "Recall Score: 0.9072164948453608\n",
      "Accuracy Score: 0.9280359820089955\n",
      "F1 Score: 0.7857142857142857\n"
     ]
    }
   ],
   "source": [
    "plot_confusion_matrix(y_test,xgb_preds,data='Test')\n",
    "print_metrics(y_test,xgb_preds)"
   ]
  },
  {
   "cell_type": "code",
   "execution_count": 129,
   "metadata": {},
   "outputs": [
    {
     "name": "stdout",
     "output_type": "stream",
     "text": [
      "2.04020402040204 of False Negatives\n"
     ]
    },
    {
     "data": {
      "image/png": "[encoded data removed]",
      "text/plain": [
       "<Figure size 432x288 with 2 Axes>"
      ]
     },
     "metadata": {},
     "output_type": "display_data"
    },
    {
     "name": "stdout",
     "output_type": "stream",
     "text": [
      "Precision Score: 0.6998313659359191\n",
      "Recall Score: 0.8592132505175983\n",
      "Accuracy Score: 0.9261926192619262\n",
      "F1 Score: 0.7713754646840149\n"
     ]
    }
   ],
   "source": [
    "plot_confusion_matrix(y,xgb_best.predict(X),data='Train')\n",
    "print_metrics(y,xgb_best.predict(X))"
   ]
  },
  {
   "cell_type": "code",
   "execution_count": 130,
   "metadata": {},
   "outputs": [
    {
     "data": {
      "image/png": "[encoded data removed]",
      "text/plain": [
       "<Figure size 576x576 with 1 Axes>"
      ]
     },
     "metadata": {},
     "output_type": "display_data"
    }
   ],
   "source": [
    "plot_feature_importances(xgb_best[1])"
   ]
  },
  {
   "cell_type": "code",
   "execution_count": 88,
   "metadata": {},
   "outputs": [
    {
     "data": {
      "text/plain": [
       "array([0.21637742, 0.06655852, 0.        , 0.        , 0.        ,\n",
       "       0.        , 0.        , 0.37632507, 0.34073892, 0.        ,\n",
       "       0.        , 0.        , 0.        , 0.        , 0.        ,\n",
       "       0.        , 0.        , 0.        , 0.        , 0.        ,\n",
       "       0.        , 0.        , 0.        , 0.        , 0.        ,\n",
       "       0.        , 0.        , 0.        , 0.        , 0.        ,\n",
       "       0.        , 0.        , 0.        , 0.        , 0.        ,\n",
       "       0.        , 0.        , 0.        , 0.        , 0.        ,\n",
       "       0.        , 0.        , 0.        , 0.        , 0.        ,\n",
       "       0.        , 0.        , 0.        , 0.        , 0.        ,\n",
       "       0.        , 0.        , 0.        , 0.        , 0.        ,\n",
       "       0.        , 0.        , 0.        , 0.        , 0.        ],\n",
       "      dtype=float32)"
      ]
     },
     "execution_count": 88,
     "metadata": {},
     "output_type": "execute_result"
    }
   ],
   "source": [
    "xgb_best[1].feature_importances_"
   ]
  },
  {
   "cell_type": "code",
   "execution_count": 89,
   "metadata": {},
   "outputs": [
    {
     "data": {
      "text/plain": [
       "array(['international_plan', 'voice_mail_plan', 'total_day_minutes',\n",
       "       'total_eve_minutes', 'total_night_minutes', 'total_intl_minutes',\n",
       "       'total_intl_calls', 'customer_service_calls', 'total_charge',\n",
       "       'state_AK', 'state_AL', 'state_AR', 'state_AZ', 'state_CA',\n",
       "       'state_CO', 'state_CT', 'state_DC', 'state_DE', 'state_FL',\n",
       "       'state_GA', 'state_HI', 'state_IA', 'state_ID', 'state_IL',\n",
       "       'state_IN', 'state_KS', 'state_KY', 'state_LA', 'state_MA',\n",
       "       'state_MD', 'state_ME', 'state_MI', 'state_MN', 'state_MO',\n",
       "       'state_MS', 'state_MT', 'state_NC', 'state_ND', 'state_NE',\n",
       "       'state_NH', 'state_NJ', 'state_NM', 'state_NV', 'state_NY',\n",
       "       'state_OH', 'state_OK', 'state_OR', 'state_PA', 'state_RI',\n",
       "       'state_SC', 'state_SD', 'state_TN', 'state_TX', 'state_UT',\n",
       "       'state_VA', 'state_VT', 'state_WA', 'state_WI', 'state_WV',\n",
       "       'state_WY'], dtype=object)"
      ]
     },
     "execution_count": 89,
     "metadata": {},
     "output_type": "execute_result"
    }
   ],
   "source": [
    "X_train.columns.values\n"
   ]
  },
  {
   "cell_type": "markdown",
   "metadata": {},
   "source": [
    "# XGBoost with SMOTE"
   ]
  },
  {
   "cell_type": "code",
   "execution_count": 105,
   "metadata": {},
   "outputs": [],
   "source": [
    "xgb_smote_pipeline = Pipeline([('ss',StandardScaler()),('xgb',xgb.XGBClassifier(objective='binary:logistic'))])\n"
   ]
  },
  {
   "cell_type": "code",
   "execution_count": 106,
   "metadata": {},
   "outputs": [],
   "source": [
    "\n",
    "xgb__smote_cv = GridSearchCV(estimator =xgb_smote_pipeline,param_grid=params,n_jobs=-1,\n",
    "                            scoring=make_scorer(recall_score),cv=5)"
   ]
  },
  {
   "cell_type": "code",
   "execution_count": 107,
   "metadata": {},
   "outputs": [
    {
     "data": {
      "text/plain": [
       "GridSearchCV(cv=5, error_score='raise-deprecating',\n",
       "             estimator=Pipeline(memory=None,\n",
       "                                steps=[('ss',\n",
       "                                        StandardScaler(copy=True,\n",
       "                                                       with_mean=True,\n",
       "                                                       with_std=True)),\n",
       "                                       ('xgb',\n",
       "                                        XGBClassifier(base_score=0.5,\n",
       "                                                      booster='gbtree',\n",
       "                                                      colsample_bylevel=1,\n",
       "                                                      colsample_bynode=1,\n",
       "                                                      colsample_bytree=1,\n",
       "                                                      gamma=0,\n",
       "                                                      learning_rate=0.1,\n",
       "                                                      max_delta_step=0,\n",
       "                                                      max_depth=3,\n",
       "                                                      min_child_weight=1,\n",
       "                                                      missing=None,\n",
       "                                                      n_...\n",
       "                                                      random_state=0,\n",
       "                                                      reg_alpha=0, reg_lambda=1,\n",
       "                                                      scale_pos_weight=1,\n",
       "                                                      seed=None, silent=None,\n",
       "                                                      subsample=1,\n",
       "                                                      verbosity=1))],\n",
       "                                verbose=False),\n",
       "             iid='warn', n_jobs=-1,\n",
       "             param_grid={'xgb__learning_rate': [0.05], 'xgb__max_depth': [7],\n",
       "                         'xgb__n_estimators': [250], 'xgb__subsample': [1]},\n",
       "             pre_dispatch='2*n_jobs', refit=True, return_train_score=False,\n",
       "             scoring=make_scorer(recall_score), verbose=0)"
      ]
     },
     "execution_count": 107,
     "metadata": {},
     "output_type": "execute_result"
    }
   ],
   "source": [
    "xgb__smote_cv.fit(X_train_smote,y_train_smote)"
   ]
  },
  {
   "cell_type": "code",
   "execution_count": 108,
   "metadata": {},
   "outputs": [],
   "source": [
    "xgb_best_smote = xgb__smote_cv.best_estimator_"
   ]
  },
  {
   "cell_type": "code",
   "execution_count": 109,
   "metadata": {},
   "outputs": [
    {
     "data": {
      "text/plain": [
       "{'xgb__learning_rate': 0.05,\n",
       " 'xgb__max_depth': 7,\n",
       " 'xgb__n_estimators': 250,\n",
       " 'xgb__subsample': 1}"
      ]
     },
     "execution_count": 109,
     "metadata": {},
     "output_type": "execute_result"
    }
   ],
   "source": [
    "xgb__smote_cv.best_params_"
   ]
  },
  {
   "cell_type": "code",
   "execution_count": 110,
   "metadata": {},
   "outputs": [
    {
     "data": {
      "text/plain": [
       "(0.9929824561403509, 0.9850074962518741)"
      ]
     },
     "execution_count": 110,
     "metadata": {},
     "output_type": "execute_result"
    }
   ],
   "source": [
    "xgb_best_smote.score(X_train_smote,y_train_smote),xgb_best_smote.score(X_test,y_test)"
   ]
  },
  {
   "cell_type": "code",
   "execution_count": 111,
   "metadata": {},
   "outputs": [],
   "source": [
    "xgb_preds_smote = xgb_best_smote.predict(X_test)"
   ]
  },
  {
   "cell_type": "code",
   "execution_count": 112,
   "metadata": {},
   "outputs": [
    {
     "name": "stdout",
     "output_type": "stream",
     "text": [
      "0.7017543859649122 of False Negatives\n"
     ]
    },
    {
     "data": {
      "image/png": "[encoded data removed]",
      "text/plain": [
       "<Figure size 432x288 with 2 Axes>"
      ]
     },
     "metadata": {},
     "output_type": "display_data"
    },
    {
     "name": "stdout",
     "output_type": "stream",
     "text": [
      "Precision Score: 1.0\n",
      "Recall Score: 0.9859649122807017\n",
      "Accuracy Score: 0.9929824561403509\n",
      "F1 Score: 0.9929328621908127\n"
     ]
    }
   ],
   "source": [
    "plot_confusion_matrix(y_train_smote,xgb_best_smote.predict(X_train_smote),data='Train')\n",
    "print_metrics(y_train_smote,xgb_best_smote.predict(X_train_smote))"
   ]
  },
  {
   "cell_type": "code",
   "execution_count": 113,
   "metadata": {},
   "outputs": [
    {
     "name": "stdout",
     "output_type": "stream",
     "text": [
      "1.3493253373313343 of False Negatives\n"
     ]
    },
    {
     "data": {
      "image/png": "[encoded data removed]",
      "text/plain": [
       "<Figure size 432x288 with 2 Axes>"
      ]
     },
     "metadata": {},
     "output_type": "display_data"
    },
    {
     "name": "stdout",
     "output_type": "stream",
     "text": [
      "Precision Score: 0.9887640449438202\n",
      "Recall Score: 0.9072164948453608\n",
      "Accuracy Score: 0.9850074962518741\n",
      "F1 Score: 0.9462365591397849\n"
     ]
    }
   ],
   "source": [
    "plot_confusion_matrix(y_test,xgb_preds_smote,data='Test')\n",
    "print_metrics(y_test,xgb_preds_smote)"
   ]
  },
  {
   "cell_type": "code",
   "execution_count": 114,
   "metadata": {},
   "outputs": [
    {
     "name": "stdout",
     "output_type": "stream",
     "text": [
      "1.2301230123012301 of False Negatives\n"
     ]
    },
    {
     "data": {
      "image/png": "[encoded data removed]",
      "text/plain": [
       "<Figure size 432x288 with 2 Axes>"
      ]
     },
     "metadata": {},
     "output_type": "display_data"
    },
    {
     "name": "stdout",
     "output_type": "stream",
     "text": [
      "Precision Score: 0.9977426636568849\n",
      "Recall Score: 0.9151138716356108\n",
      "Accuracy Score: 0.9873987398739874\n",
      "F1 Score: 0.9546436285097192\n"
     ]
    }
   ],
   "source": [
    "plot_confusion_matrix(y,xgb_best_smote.predict(X))\n",
    "print_metrics(y,xgb_best_smote.predict(X))"
   ]
  },
  {
   "cell_type": "code",
   "execution_count": 115,
   "metadata": {},
   "outputs": [
    {
     "name": "stdout",
     "output_type": "stream",
     "text": [
      "1.2003000750187547 of False Negatives\n"
     ]
    },
    {
     "data": {
      "image/png": "[encoded data removed]",
      "text/plain": [
       "<Figure size 432x288 with 2 Axes>"
      ]
     },
     "metadata": {},
     "output_type": "display_data"
    },
    {
     "name": "stdout",
     "output_type": "stream",
     "text": [
      "Precision Score: 1.0\n",
      "Recall Score: 0.917098445595855\n",
      "Accuracy Score: 0.9879969992498124\n",
      "F1 Score: 0.9567567567567568\n"
     ]
    }
   ],
   "source": [
    "plot_confusion_matrix(y_train,xgb_best_smote.predict(X_train))\n",
    "print_metrics(y_train,xgb_best_smote.predict(X_train))"
   ]
  },
  {
   "cell_type": "code",
   "execution_count": 116,
   "metadata": {},
   "outputs": [
    {
     "data": {
      "image/png": "[encoded data removed]",
      "text/plain": [
       "<Figure size 576x576 with 1 Axes>"
      ]
     },
     "metadata": {},
     "output_type": "display_data"
    }
   ],
   "source": [
    "plot_feature_importances(xgb_best_smote[1])"
   ]
  },
  {
   "cell_type": "markdown",
   "metadata": {
    "heading_collapsed": true
   },
   "source": [
    "# Is there a threshold to reduce False Negatives?"
   ]
  },
  {
   "cell_type": "code",
   "execution_count": 213,
   "metadata": {
    "hidden": true
   },
   "outputs": [],
   "source": [
    "# let's try a 20% threshold to make our labels\n",
    "\n",
    "def xgb_labels(X_test, thresh=0.2):\n",
    "    \"\"\"\n",
    "    custom predict method\n",
    "    \"\"\"\n",
    "    probs = xgb_best_smote.predict_proba(X_test)[:, 1]\n",
    "    labels = []\n",
    "    for prob in probs:\n",
    "        if prob >= thresh:\n",
    "            labels.append(1)\n",
    "        else:\n",
    "            labels.append(0)\n",
    "    return labels"
   ]
  },
  {
   "cell_type": "code",
   "execution_count": 214,
   "metadata": {
    "hidden": true
   },
   "outputs": [
    {
     "name": "stdout",
     "output_type": "stream",
     "text": [
      "1.199400299850075 of False Negatives\n"
     ]
    },
    {
     "data": {
      "image/png": "[encoded data removed]",
      "text/plain": [
       "<Figure size 432x288 with 2 Axes>"
      ]
     },
     "metadata": {
      "needs_background": "light"
     },
     "output_type": "display_data"
    }
   ],
   "source": [
    "xgb_best.predict_custom = xgb_labels\n",
    "new_labels = xgb_best.predict_custom(X_test,thresh=0.1)\n",
    "plot_confusion_matrix(y_test, new_labels)"
   ]
  },
  {
   "cell_type": "code",
   "execution_count": 215,
   "metadata": {
    "hidden": true
   },
   "outputs": [],
   "source": [
    "xgb_best_smote.predict_custom = xgb_labels"
   ]
  },
  {
   "cell_type": "code",
   "execution_count": 216,
   "metadata": {
    "hidden": true
   },
   "outputs": [
    {
     "name": "stdout",
     "output_type": "stream",
     "text": [
      "1.3493253373313343 of False Negatives\n"
     ]
    },
    {
     "data": {
      "image/png": "[encoded data removed]",
      "text/plain": [
       "<Figure size 432x288 with 2 Axes>"
      ]
     },
     "metadata": {
      "needs_background": "light"
     },
     "output_type": "display_data"
    }
   ],
   "source": [
    "plot_confusion_matrix(y_test,xgb_preds_smote)"
   ]
  },
  {
   "cell_type": "code",
   "execution_count": 354,
   "metadata": {
    "hidden": true
   },
   "outputs": [
    {
     "name": "stdout",
     "output_type": "stream",
     "text": [
      "0.30007501875468867 of False Negatives\n"
     ]
    },
    {
     "data": {
      "image/png": "[encoded data removed]",
      "text/plain": [
       "<Figure size 432x288 with 2 Axes>"
      ]
     },
     "metadata": {
      "needs_background": "light"
     },
     "output_type": "display_data"
    }
   ],
   "source": [
    "new_labels = xgb_best_smote.predict_custom(X_train,thresh=0.25)\n",
    "plot_confusion_matrix(y_train, new_labels)"
   ]
  },
  {
   "cell_type": "code",
   "execution_count": 355,
   "metadata": {
    "hidden": true
   },
   "outputs": [
    {
     "name": "stdout",
     "output_type": "stream",
     "text": [
      "0.29985007496251875 of False Negatives\n"
     ]
    },
    {
     "data": {
      "image/png": "[encoded data removed]",
      "text/plain": [
       "<Figure size 432x288 with 2 Axes>"
      ]
     },
     "metadata": {
      "needs_background": "light"
     },
     "output_type": "display_data"
    }
   ],
   "source": [
    "new_labels = xgb_best_smote.predict_custom(X_test,thresh=0.01)\n",
    "plot_confusion_matrix(y_test, new_labels)"
   ]
  },
  {
   "cell_type": "code",
   "execution_count": 356,
   "metadata": {
    "hidden": true
   },
   "outputs": [
    {
     "name": "stdout",
     "output_type": "stream",
     "text": [
      "0.14992503748125938 of False Negatives\n"
     ]
    },
    {
     "data": {
      "image/png": "[encoded data removed]",
      "text/plain": [
       "<Figure size 432x288 with 2 Axes>"
      ]
     },
     "metadata": {
      "needs_background": "light"
     },
     "output_type": "display_data"
    }
   ],
   "source": [
    "new_labels = xgb_best_smote.predict_custom(X_test,thresh=0.008)\n",
    "plot_confusion_matrix(y_test, new_labels)"
   ]
  },
  {
   "cell_type": "markdown",
   "metadata": {
    "hidden": true
   },
   "source": [
    "IT is clear that as FN go to 0 , FP get extremely large. This is because our model predicts nearly everything as \n",
    "a churn - to make sure that we dont accidentally say they wont churn if they will\n",
    "This makes our model a bit redundant"
   ]
  },
  {
   "cell_type": "markdown",
   "metadata": {},
   "source": [
    "# Exploring the False Negatives for Test Set"
   ]
  },
  {
   "cell_type": "code",
   "execution_count": 357,
   "metadata": {},
   "outputs": [],
   "source": [
    "d = {'y_test':y_test,'y_pred':xgb_preds_smote}"
   ]
  },
  {
   "cell_type": "code",
   "execution_count": 358,
   "metadata": {},
   "outputs": [],
   "source": [
    "dfpreds = pd.DataFrame(data=d)"
   ]
  },
  {
   "cell_type": "code",
   "execution_count": 359,
   "metadata": {},
   "outputs": [],
   "source": [
    "dfpreds['correct'] = dfpreds['y_test']==dfpreds['y_pred']"
   ]
  },
  {
   "cell_type": "code",
   "execution_count": 360,
   "metadata": {},
   "outputs": [
    {
     "data": {
      "text/plain": [
       "True     654\n",
       "False     13\n",
       "Name: correct, dtype: int64"
      ]
     },
     "execution_count": 360,
     "metadata": {},
     "output_type": "execute_result"
    }
   ],
   "source": [
    "dfpreds['correct'].value_counts()"
   ]
  },
  {
   "cell_type": "code",
   "execution_count": 372,
   "metadata": {},
   "outputs": [],
   "source": [
    "dfcorrect = dfpreds.loc[(dfpreds['correct']==False)&(dfpredswhole['y_pred']==0)]"
   ]
  },
  {
   "cell_type": "code",
   "execution_count": 373,
   "metadata": {},
   "outputs": [],
   "source": [
    "indexlist = dfcorrect.index.values.tolist()  # an ndarray method, you probably shouldn't depend on this\n"
   ]
  },
  {
   "cell_type": "code",
   "execution_count": 374,
   "metadata": {},
   "outputs": [],
   "source": [
    "FN = dfcorrect.loc[dfcorrect['y_pred']==0]"
   ]
  },
  {
   "cell_type": "code",
   "execution_count": 375,
   "metadata": {
    "scrolled": true
   },
   "outputs": [
    {
     "data": {
      "text/html": [
       "<div>\n",
       "<style scoped>\n",
       "    .dataframe tbody tr th:only-of-type {\n",
       "        vertical-align: middle;\n",
       "    }\n",
       "\n",
       "    .dataframe tbody tr th {\n",
       "        vertical-align: top;\n",
       "    }\n",
       "\n",
       "    .dataframe thead th {\n",
       "        text-align: right;\n",
       "    }\n",
       "</style>\n",
       "<table border=\"1\" class=\"dataframe\">\n",
       "  <thead>\n",
       "    <tr style=\"text-align: right;\">\n",
       "      <th></th>\n",
       "      <th>y_test</th>\n",
       "      <th>y_pred</th>\n",
       "      <th>correct</th>\n",
       "    </tr>\n",
       "  </thead>\n",
       "  <tbody>\n",
       "    <tr>\n",
       "      <td>2575</td>\n",
       "      <td>1</td>\n",
       "      <td>0</td>\n",
       "      <td>False</td>\n",
       "    </tr>\n",
       "    <tr>\n",
       "      <td>1939</td>\n",
       "      <td>1</td>\n",
       "      <td>0</td>\n",
       "      <td>False</td>\n",
       "    </tr>\n",
       "    <tr>\n",
       "      <td>2357</td>\n",
       "      <td>1</td>\n",
       "      <td>0</td>\n",
       "      <td>False</td>\n",
       "    </tr>\n",
       "    <tr>\n",
       "      <td>3070</td>\n",
       "      <td>1</td>\n",
       "      <td>0</td>\n",
       "      <td>False</td>\n",
       "    </tr>\n",
       "    <tr>\n",
       "      <td>1551</td>\n",
       "      <td>1</td>\n",
       "      <td>0</td>\n",
       "      <td>False</td>\n",
       "    </tr>\n",
       "    <tr>\n",
       "      <td>2377</td>\n",
       "      <td>1</td>\n",
       "      <td>0</td>\n",
       "      <td>False</td>\n",
       "    </tr>\n",
       "    <tr>\n",
       "      <td>2535</td>\n",
       "      <td>1</td>\n",
       "      <td>0</td>\n",
       "      <td>False</td>\n",
       "    </tr>\n",
       "    <tr>\n",
       "      <td>198</td>\n",
       "      <td>1</td>\n",
       "      <td>0</td>\n",
       "      <td>False</td>\n",
       "    </tr>\n",
       "    <tr>\n",
       "      <td>1030</td>\n",
       "      <td>1</td>\n",
       "      <td>0</td>\n",
       "      <td>False</td>\n",
       "    </tr>\n",
       "  </tbody>\n",
       "</table>\n",
       "</div>"
      ],
      "text/plain": [
       "      y_test  y_pred  correct\n",
       "2575       1       0    False\n",
       "1939       1       0    False\n",
       "2357       1       0    False\n",
       "3070       1       0    False\n",
       "1551       1       0    False\n",
       "2377       1       0    False\n",
       "2535       1       0    False\n",
       "198        1       0    False\n",
       "1030       1       0    False"
      ]
     },
     "execution_count": 375,
     "metadata": {},
     "output_type": "execute_result"
    }
   ],
   "source": [
    "FN"
   ]
  },
  {
   "cell_type": "code",
   "execution_count": 376,
   "metadata": {},
   "outputs": [
    {
     "data": {
      "text/plain": [
       "[2575, 1939, 2357, 3070, 1551, 2377, 2535, 198, 1030]"
      ]
     },
     "execution_count": 376,
     "metadata": {},
     "output_type": "execute_result"
    }
   ],
   "source": [
    "indexlist = FN.index.values.tolist()  # an ndarray method, you probably shouldn't depend on this\n",
    "indexlist"
   ]
  },
  {
   "cell_type": "code",
   "execution_count": 377,
   "metadata": {},
   "outputs": [],
   "source": [
    "dfFN = df.loc[indexlist]"
   ]
  },
  {
   "cell_type": "code",
   "execution_count": 378,
   "metadata": {},
   "outputs": [
    {
     "data": {
      "text/html": [
       "<div>\n",
       "<style scoped>\n",
       "    .dataframe tbody tr th:only-of-type {\n",
       "        vertical-align: middle;\n",
       "    }\n",
       "\n",
       "    .dataframe tbody tr th {\n",
       "        vertical-align: top;\n",
       "    }\n",
       "\n",
       "    .dataframe thead th {\n",
       "        text-align: right;\n",
       "    }\n",
       "</style>\n",
       "<table border=\"1\" class=\"dataframe\">\n",
       "  <thead>\n",
       "    <tr style=\"text-align: right;\">\n",
       "      <th></th>\n",
       "      <th>index</th>\n",
       "      <th>state</th>\n",
       "      <th>account_length</th>\n",
       "      <th>area_code</th>\n",
       "      <th>phone_number</th>\n",
       "      <th>international_plan</th>\n",
       "      <th>voice_mail_plan</th>\n",
       "      <th>number_vmail_messages</th>\n",
       "      <th>total_day_minutes</th>\n",
       "      <th>total_day_calls</th>\n",
       "      <th>...</th>\n",
       "      <th>total_intl_minutes</th>\n",
       "      <th>total_intl_calls</th>\n",
       "      <th>total_intl_charge</th>\n",
       "      <th>customer_service_calls</th>\n",
       "      <th>churn</th>\n",
       "      <th>total_charge</th>\n",
       "      <th>tenor_years</th>\n",
       "      <th>total_minutes</th>\n",
       "      <th>avg_price_per_min</th>\n",
       "      <th>total_calls</th>\n",
       "    </tr>\n",
       "  </thead>\n",
       "  <tbody>\n",
       "    <tr>\n",
       "      <td>2575</td>\n",
       "      <td>2575</td>\n",
       "      <td>MS</td>\n",
       "      <td>131</td>\n",
       "      <td>415</td>\n",
       "      <td>333-9002</td>\n",
       "      <td>0</td>\n",
       "      <td>0</td>\n",
       "      <td>0</td>\n",
       "      <td>131.6</td>\n",
       "      <td>95</td>\n",
       "      <td>...</td>\n",
       "      <td>15.5</td>\n",
       "      <td>3</td>\n",
       "      <td>4.19</td>\n",
       "      <td>1</td>\n",
       "      <td>1</td>\n",
       "      <td>53.10</td>\n",
       "      <td>10</td>\n",
       "      <td>577.6</td>\n",
       "      <td>0.091932</td>\n",
       "      <td>336</td>\n",
       "    </tr>\n",
       "    <tr>\n",
       "      <td>1939</td>\n",
       "      <td>1939</td>\n",
       "      <td>AZ</td>\n",
       "      <td>113</td>\n",
       "      <td>510</td>\n",
       "      <td>403-9719</td>\n",
       "      <td>0</td>\n",
       "      <td>0</td>\n",
       "      <td>0</td>\n",
       "      <td>128.7</td>\n",
       "      <td>100</td>\n",
       "      <td>...</td>\n",
       "      <td>9.2</td>\n",
       "      <td>4</td>\n",
       "      <td>2.48</td>\n",
       "      <td>2</td>\n",
       "      <td>1</td>\n",
       "      <td>51.67</td>\n",
       "      <td>9</td>\n",
       "      <td>543.1</td>\n",
       "      <td>0.095139</td>\n",
       "      <td>306</td>\n",
       "    </tr>\n",
       "    <tr>\n",
       "      <td>2357</td>\n",
       "      <td>2357</td>\n",
       "      <td>WI</td>\n",
       "      <td>153</td>\n",
       "      <td>510</td>\n",
       "      <td>349-3112</td>\n",
       "      <td>0</td>\n",
       "      <td>0</td>\n",
       "      <td>0</td>\n",
       "      <td>159.5</td>\n",
       "      <td>103</td>\n",
       "      <td>...</td>\n",
       "      <td>10.1</td>\n",
       "      <td>2</td>\n",
       "      <td>2.73</td>\n",
       "      <td>1</td>\n",
       "      <td>1</td>\n",
       "      <td>61.22</td>\n",
       "      <td>12</td>\n",
       "      <td>621.8</td>\n",
       "      <td>0.098456</td>\n",
       "      <td>321</td>\n",
       "    </tr>\n",
       "    <tr>\n",
       "      <td>3070</td>\n",
       "      <td>3070</td>\n",
       "      <td>MD</td>\n",
       "      <td>154</td>\n",
       "      <td>510</td>\n",
       "      <td>411-2977</td>\n",
       "      <td>0</td>\n",
       "      <td>0</td>\n",
       "      <td>0</td>\n",
       "      <td>154.5</td>\n",
       "      <td>122</td>\n",
       "      <td>...</td>\n",
       "      <td>12.0</td>\n",
       "      <td>2</td>\n",
       "      <td>3.24</td>\n",
       "      <td>3</td>\n",
       "      <td>1</td>\n",
       "      <td>55.73</td>\n",
       "      <td>12</td>\n",
       "      <td>558.7</td>\n",
       "      <td>0.099749</td>\n",
       "      <td>300</td>\n",
       "    </tr>\n",
       "    <tr>\n",
       "      <td>1551</td>\n",
       "      <td>1551</td>\n",
       "      <td>MI</td>\n",
       "      <td>225</td>\n",
       "      <td>415</td>\n",
       "      <td>371-2500</td>\n",
       "      <td>0</td>\n",
       "      <td>0</td>\n",
       "      <td>0</td>\n",
       "      <td>165.4</td>\n",
       "      <td>106</td>\n",
       "      <td>...</td>\n",
       "      <td>8.7</td>\n",
       "      <td>3</td>\n",
       "      <td>2.35</td>\n",
       "      <td>0</td>\n",
       "      <td>1</td>\n",
       "      <td>63.18</td>\n",
       "      <td>18</td>\n",
       "      <td>657.8</td>\n",
       "      <td>0.096047</td>\n",
       "      <td>311</td>\n",
       "    </tr>\n",
       "    <tr>\n",
       "      <td>2377</td>\n",
       "      <td>2377</td>\n",
       "      <td>ND</td>\n",
       "      <td>101</td>\n",
       "      <td>415</td>\n",
       "      <td>364-5510</td>\n",
       "      <td>0</td>\n",
       "      <td>1</td>\n",
       "      <td>36</td>\n",
       "      <td>123.7</td>\n",
       "      <td>125</td>\n",
       "      <td>...</td>\n",
       "      <td>8.8</td>\n",
       "      <td>4</td>\n",
       "      <td>2.38</td>\n",
       "      <td>1</td>\n",
       "      <td>1</td>\n",
       "      <td>50.70</td>\n",
       "      <td>8</td>\n",
       "      <td>585.6</td>\n",
       "      <td>0.086578</td>\n",
       "      <td>362</td>\n",
       "    </tr>\n",
       "    <tr>\n",
       "      <td>2535</td>\n",
       "      <td>2535</td>\n",
       "      <td>RI</td>\n",
       "      <td>125</td>\n",
       "      <td>408</td>\n",
       "      <td>410-3159</td>\n",
       "      <td>0</td>\n",
       "      <td>0</td>\n",
       "      <td>0</td>\n",
       "      <td>113.0</td>\n",
       "      <td>108</td>\n",
       "      <td>...</td>\n",
       "      <td>9.2</td>\n",
       "      <td>5</td>\n",
       "      <td>2.48</td>\n",
       "      <td>2</td>\n",
       "      <td>1</td>\n",
       "      <td>43.12</td>\n",
       "      <td>10</td>\n",
       "      <td>448.0</td>\n",
       "      <td>0.096250</td>\n",
       "      <td>281</td>\n",
       "    </tr>\n",
       "    <tr>\n",
       "      <td>198</td>\n",
       "      <td>198</td>\n",
       "      <td>ME</td>\n",
       "      <td>131</td>\n",
       "      <td>510</td>\n",
       "      <td>353-7292</td>\n",
       "      <td>1</td>\n",
       "      <td>1</td>\n",
       "      <td>26</td>\n",
       "      <td>292.9</td>\n",
       "      <td>101</td>\n",
       "      <td>...</td>\n",
       "      <td>13.8</td>\n",
       "      <td>7</td>\n",
       "      <td>3.73</td>\n",
       "      <td>4</td>\n",
       "      <td>1</td>\n",
       "      <td>81.98</td>\n",
       "      <td>10</td>\n",
       "      <td>761.7</td>\n",
       "      <td>0.107628</td>\n",
       "      <td>332</td>\n",
       "    </tr>\n",
       "    <tr>\n",
       "      <td>1030</td>\n",
       "      <td>1030</td>\n",
       "      <td>VA</td>\n",
       "      <td>99</td>\n",
       "      <td>415</td>\n",
       "      <td>400-6257</td>\n",
       "      <td>0</td>\n",
       "      <td>1</td>\n",
       "      <td>42</td>\n",
       "      <td>216.0</td>\n",
       "      <td>125</td>\n",
       "      <td>...</td>\n",
       "      <td>9.3</td>\n",
       "      <td>4</td>\n",
       "      <td>2.51</td>\n",
       "      <td>2</td>\n",
       "      <td>1</td>\n",
       "      <td>68.68</td>\n",
       "      <td>8</td>\n",
       "      <td>673.1</td>\n",
       "      <td>0.102035</td>\n",
       "      <td>333</td>\n",
       "    </tr>\n",
       "  </tbody>\n",
       "</table>\n",
       "<p>9 rows × 27 columns</p>\n",
       "</div>"
      ],
      "text/plain": [
       "      index state  account_length  area_code phone_number  international_plan  \\\n",
       "2575   2575    MS             131        415     333-9002                   0   \n",
       "1939   1939    AZ             113        510     403-9719                   0   \n",
       "2357   2357    WI             153        510     349-3112                   0   \n",
       "3070   3070    MD             154        510     411-2977                   0   \n",
       "1551   1551    MI             225        415     371-2500                   0   \n",
       "2377   2377    ND             101        415     364-5510                   0   \n",
       "2535   2535    RI             125        408     410-3159                   0   \n",
       "198     198    ME             131        510     353-7292                   1   \n",
       "1030   1030    VA              99        415     400-6257                   0   \n",
       "\n",
       "      voice_mail_plan  number_vmail_messages  total_day_minutes  \\\n",
       "2575                0                      0              131.6   \n",
       "1939                0                      0              128.7   \n",
       "2357                0                      0              159.5   \n",
       "3070                0                      0              154.5   \n",
       "1551                0                      0              165.4   \n",
       "2377                1                     36              123.7   \n",
       "2535                0                      0              113.0   \n",
       "198                 1                     26              292.9   \n",
       "1030                1                     42              216.0   \n",
       "\n",
       "      total_day_calls  ...  total_intl_minutes  total_intl_calls  \\\n",
       "2575               95  ...                15.5                 3   \n",
       "1939              100  ...                 9.2                 4   \n",
       "2357              103  ...                10.1                 2   \n",
       "3070              122  ...                12.0                 2   \n",
       "1551              106  ...                 8.7                 3   \n",
       "2377              125  ...                 8.8                 4   \n",
       "2535              108  ...                 9.2                 5   \n",
       "198               101  ...                13.8                 7   \n",
       "1030              125  ...                 9.3                 4   \n",
       "\n",
       "      total_intl_charge  customer_service_calls  churn  total_charge  \\\n",
       "2575               4.19                       1      1         53.10   \n",
       "1939               2.48                       2      1         51.67   \n",
       "2357               2.73                       1      1         61.22   \n",
       "3070               3.24                       3      1         55.73   \n",
       "1551               2.35                       0      1         63.18   \n",
       "2377               2.38                       1      1         50.70   \n",
       "2535               2.48                       2      1         43.12   \n",
       "198                3.73                       4      1         81.98   \n",
       "1030               2.51                       2      1         68.68   \n",
       "\n",
       "      tenor_years  total_minutes  avg_price_per_min  total_calls  \n",
       "2575           10          577.6           0.091932          336  \n",
       "1939            9          543.1           0.095139          306  \n",
       "2357           12          621.8           0.098456          321  \n",
       "3070           12          558.7           0.099749          300  \n",
       "1551           18          657.8           0.096047          311  \n",
       "2377            8          585.6           0.086578          362  \n",
       "2535           10          448.0           0.096250          281  \n",
       "198            10          761.7           0.107628          332  \n",
       "1030            8          673.1           0.102035          333  \n",
       "\n",
       "[9 rows x 27 columns]"
      ]
     },
     "execution_count": 378,
     "metadata": {},
     "output_type": "execute_result"
    }
   ],
   "source": [
    "dfFN"
   ]
  },
  {
   "cell_type": "code",
   "execution_count": 379,
   "metadata": {},
   "outputs": [
    {
     "data": {
      "text/plain": [
       "58.448807017543864"
      ]
     },
     "execution_count": 379,
     "metadata": {},
     "output_type": "execute_result"
    }
   ],
   "source": [
    "df.loc[df['churn']==0]['total_charge'].mean()"
   ]
  },
  {
   "cell_type": "code",
   "execution_count": 380,
   "metadata": {},
   "outputs": [
    {
     "data": {
      "text/html": [
       "<div>\n",
       "<style scoped>\n",
       "    .dataframe tbody tr th:only-of-type {\n",
       "        vertical-align: middle;\n",
       "    }\n",
       "\n",
       "    .dataframe tbody tr th {\n",
       "        vertical-align: top;\n",
       "    }\n",
       "\n",
       "    .dataframe thead th {\n",
       "        text-align: right;\n",
       "    }\n",
       "</style>\n",
       "<table border=\"1\" class=\"dataframe\">\n",
       "  <thead>\n",
       "    <tr style=\"text-align: right;\">\n",
       "      <th></th>\n",
       "      <th>index</th>\n",
       "      <th>state</th>\n",
       "      <th>account_length</th>\n",
       "      <th>area_code</th>\n",
       "      <th>phone_number</th>\n",
       "      <th>international_plan</th>\n",
       "      <th>voice_mail_plan</th>\n",
       "      <th>number_vmail_messages</th>\n",
       "      <th>total_day_minutes</th>\n",
       "      <th>total_day_calls</th>\n",
       "      <th>...</th>\n",
       "      <th>total_intl_minutes</th>\n",
       "      <th>total_intl_calls</th>\n",
       "      <th>total_intl_charge</th>\n",
       "      <th>customer_service_calls</th>\n",
       "      <th>churn</th>\n",
       "      <th>total_charge</th>\n",
       "      <th>tenor_years</th>\n",
       "      <th>total_minutes</th>\n",
       "      <th>avg_price_per_min</th>\n",
       "      <th>total_calls</th>\n",
       "    </tr>\n",
       "  </thead>\n",
       "  <tbody>\n",
       "    <tr>\n",
       "      <td>2575</td>\n",
       "      <td>2575</td>\n",
       "      <td>MS</td>\n",
       "      <td>131</td>\n",
       "      <td>415</td>\n",
       "      <td>333-9002</td>\n",
       "      <td>0</td>\n",
       "      <td>0</td>\n",
       "      <td>0</td>\n",
       "      <td>131.6</td>\n",
       "      <td>95</td>\n",
       "      <td>...</td>\n",
       "      <td>15.5</td>\n",
       "      <td>3</td>\n",
       "      <td>4.19</td>\n",
       "      <td>1</td>\n",
       "      <td>1</td>\n",
       "      <td>53.10</td>\n",
       "      <td>10</td>\n",
       "      <td>577.6</td>\n",
       "      <td>0.091932</td>\n",
       "      <td>336</td>\n",
       "    </tr>\n",
       "    <tr>\n",
       "      <td>1939</td>\n",
       "      <td>1939</td>\n",
       "      <td>AZ</td>\n",
       "      <td>113</td>\n",
       "      <td>510</td>\n",
       "      <td>403-9719</td>\n",
       "      <td>0</td>\n",
       "      <td>0</td>\n",
       "      <td>0</td>\n",
       "      <td>128.7</td>\n",
       "      <td>100</td>\n",
       "      <td>...</td>\n",
       "      <td>9.2</td>\n",
       "      <td>4</td>\n",
       "      <td>2.48</td>\n",
       "      <td>2</td>\n",
       "      <td>1</td>\n",
       "      <td>51.67</td>\n",
       "      <td>9</td>\n",
       "      <td>543.1</td>\n",
       "      <td>0.095139</td>\n",
       "      <td>306</td>\n",
       "    </tr>\n",
       "    <tr>\n",
       "      <td>3070</td>\n",
       "      <td>3070</td>\n",
       "      <td>MD</td>\n",
       "      <td>154</td>\n",
       "      <td>510</td>\n",
       "      <td>411-2977</td>\n",
       "      <td>0</td>\n",
       "      <td>0</td>\n",
       "      <td>0</td>\n",
       "      <td>154.5</td>\n",
       "      <td>122</td>\n",
       "      <td>...</td>\n",
       "      <td>12.0</td>\n",
       "      <td>2</td>\n",
       "      <td>3.24</td>\n",
       "      <td>3</td>\n",
       "      <td>1</td>\n",
       "      <td>55.73</td>\n",
       "      <td>12</td>\n",
       "      <td>558.7</td>\n",
       "      <td>0.099749</td>\n",
       "      <td>300</td>\n",
       "    </tr>\n",
       "    <tr>\n",
       "      <td>2377</td>\n",
       "      <td>2377</td>\n",
       "      <td>ND</td>\n",
       "      <td>101</td>\n",
       "      <td>415</td>\n",
       "      <td>364-5510</td>\n",
       "      <td>0</td>\n",
       "      <td>1</td>\n",
       "      <td>36</td>\n",
       "      <td>123.7</td>\n",
       "      <td>125</td>\n",
       "      <td>...</td>\n",
       "      <td>8.8</td>\n",
       "      <td>4</td>\n",
       "      <td>2.38</td>\n",
       "      <td>1</td>\n",
       "      <td>1</td>\n",
       "      <td>50.70</td>\n",
       "      <td>8</td>\n",
       "      <td>585.6</td>\n",
       "      <td>0.086578</td>\n",
       "      <td>362</td>\n",
       "    </tr>\n",
       "    <tr>\n",
       "      <td>2535</td>\n",
       "      <td>2535</td>\n",
       "      <td>RI</td>\n",
       "      <td>125</td>\n",
       "      <td>408</td>\n",
       "      <td>410-3159</td>\n",
       "      <td>0</td>\n",
       "      <td>0</td>\n",
       "      <td>0</td>\n",
       "      <td>113.0</td>\n",
       "      <td>108</td>\n",
       "      <td>...</td>\n",
       "      <td>9.2</td>\n",
       "      <td>5</td>\n",
       "      <td>2.48</td>\n",
       "      <td>2</td>\n",
       "      <td>1</td>\n",
       "      <td>43.12</td>\n",
       "      <td>10</td>\n",
       "      <td>448.0</td>\n",
       "      <td>0.096250</td>\n",
       "      <td>281</td>\n",
       "    </tr>\n",
       "  </tbody>\n",
       "</table>\n",
       "<p>5 rows × 27 columns</p>\n",
       "</div>"
      ],
      "text/plain": [
       "      index state  account_length  area_code phone_number  international_plan  \\\n",
       "2575   2575    MS             131        415     333-9002                   0   \n",
       "1939   1939    AZ             113        510     403-9719                   0   \n",
       "3070   3070    MD             154        510     411-2977                   0   \n",
       "2377   2377    ND             101        415     364-5510                   0   \n",
       "2535   2535    RI             125        408     410-3159                   0   \n",
       "\n",
       "      voice_mail_plan  number_vmail_messages  total_day_minutes  \\\n",
       "2575                0                      0              131.6   \n",
       "1939                0                      0              128.7   \n",
       "3070                0                      0              154.5   \n",
       "2377                1                     36              123.7   \n",
       "2535                0                      0              113.0   \n",
       "\n",
       "      total_day_calls  ...  total_intl_minutes  total_intl_calls  \\\n",
       "2575               95  ...                15.5                 3   \n",
       "1939              100  ...                 9.2                 4   \n",
       "3070              122  ...                12.0                 2   \n",
       "2377              125  ...                 8.8                 4   \n",
       "2535              108  ...                 9.2                 5   \n",
       "\n",
       "      total_intl_charge  customer_service_calls  churn  total_charge  \\\n",
       "2575               4.19                       1      1         53.10   \n",
       "1939               2.48                       2      1         51.67   \n",
       "3070               3.24                       3      1         55.73   \n",
       "2377               2.38                       1      1         50.70   \n",
       "2535               2.48                       2      1         43.12   \n",
       "\n",
       "      tenor_years  total_minutes  avg_price_per_min  total_calls  \n",
       "2575           10          577.6           0.091932          336  \n",
       "1939            9          543.1           0.095139          306  \n",
       "3070           12          558.7           0.099749          300  \n",
       "2377            8          585.6           0.086578          362  \n",
       "2535           10          448.0           0.096250          281  \n",
       "\n",
       "[5 rows x 27 columns]"
      ]
     },
     "execution_count": 380,
     "metadata": {},
     "output_type": "execute_result"
    }
   ],
   "source": [
    "dfFN.loc[dfFN['total_charge']<60]"
   ]
  },
  {
   "cell_type": "markdown",
   "metadata": {},
   "source": [
    "5 out of 9 data points had a total charge less than 60. This is the most important feature in our model and assumes charges above average will be more liekly to churn"
   ]
  },
  {
   "cell_type": "code",
   "execution_count": 381,
   "metadata": {},
   "outputs": [
    {
     "data": {
      "text/html": [
       "<div>\n",
       "<style scoped>\n",
       "    .dataframe tbody tr th:only-of-type {\n",
       "        vertical-align: middle;\n",
       "    }\n",
       "\n",
       "    .dataframe tbody tr th {\n",
       "        vertical-align: top;\n",
       "    }\n",
       "\n",
       "    .dataframe thead th {\n",
       "        text-align: right;\n",
       "    }\n",
       "</style>\n",
       "<table border=\"1\" class=\"dataframe\">\n",
       "  <thead>\n",
       "    <tr style=\"text-align: right;\">\n",
       "      <th></th>\n",
       "      <th>index</th>\n",
       "      <th>state</th>\n",
       "      <th>account_length</th>\n",
       "      <th>area_code</th>\n",
       "      <th>phone_number</th>\n",
       "      <th>international_plan</th>\n",
       "      <th>voice_mail_plan</th>\n",
       "      <th>number_vmail_messages</th>\n",
       "      <th>total_day_minutes</th>\n",
       "      <th>total_day_calls</th>\n",
       "      <th>...</th>\n",
       "      <th>total_intl_minutes</th>\n",
       "      <th>total_intl_calls</th>\n",
       "      <th>total_intl_charge</th>\n",
       "      <th>customer_service_calls</th>\n",
       "      <th>churn</th>\n",
       "      <th>total_charge</th>\n",
       "      <th>tenor_years</th>\n",
       "      <th>total_minutes</th>\n",
       "      <th>avg_price_per_min</th>\n",
       "      <th>total_calls</th>\n",
       "    </tr>\n",
       "  </thead>\n",
       "  <tbody>\n",
       "    <tr>\n",
       "      <td>198</td>\n",
       "      <td>198</td>\n",
       "      <td>ME</td>\n",
       "      <td>131</td>\n",
       "      <td>510</td>\n",
       "      <td>353-7292</td>\n",
       "      <td>1</td>\n",
       "      <td>1</td>\n",
       "      <td>26</td>\n",
       "      <td>292.9</td>\n",
       "      <td>101</td>\n",
       "      <td>...</td>\n",
       "      <td>13.8</td>\n",
       "      <td>7</td>\n",
       "      <td>3.73</td>\n",
       "      <td>4</td>\n",
       "      <td>1</td>\n",
       "      <td>81.98</td>\n",
       "      <td>10</td>\n",
       "      <td>761.7</td>\n",
       "      <td>0.107628</td>\n",
       "      <td>332</td>\n",
       "    </tr>\n",
       "  </tbody>\n",
       "</table>\n",
       "<p>1 rows × 27 columns</p>\n",
       "</div>"
      ],
      "text/plain": [
       "     index state  account_length  area_code phone_number  international_plan  \\\n",
       "198    198    ME             131        510     353-7292                   1   \n",
       "\n",
       "     voice_mail_plan  number_vmail_messages  total_day_minutes  \\\n",
       "198                1                     26              292.9   \n",
       "\n",
       "     total_day_calls  ...  total_intl_minutes  total_intl_calls  \\\n",
       "198              101  ...                13.8                 7   \n",
       "\n",
       "     total_intl_charge  customer_service_calls  churn  total_charge  \\\n",
       "198               3.73                       4      1         81.98   \n",
       "\n",
       "     tenor_years  total_minutes  avg_price_per_min  total_calls  \n",
       "198           10          761.7           0.107628          332  \n",
       "\n",
       "[1 rows x 27 columns]"
      ]
     },
     "execution_count": 381,
     "metadata": {},
     "output_type": "execute_result"
    }
   ],
   "source": [
    "dfFN.loc[dfFN['customer_service_calls']>3]"
   ]
  },
  {
   "cell_type": "markdown",
   "metadata": {},
   "source": [
    "Only 1 out of the 9 False Negatives made more than 3 customer services calls\n",
    "- This shows that our model struggles to classify points when customers dont make a lot of customer service calls"
   ]
  },
  {
   "cell_type": "code",
   "execution_count": 382,
   "metadata": {},
   "outputs": [
    {
     "data": {
      "text/html": [
       "<div>\n",
       "<style scoped>\n",
       "    .dataframe tbody tr th:only-of-type {\n",
       "        vertical-align: middle;\n",
       "    }\n",
       "\n",
       "    .dataframe tbody tr th {\n",
       "        vertical-align: top;\n",
       "    }\n",
       "\n",
       "    .dataframe thead th {\n",
       "        text-align: right;\n",
       "    }\n",
       "</style>\n",
       "<table border=\"1\" class=\"dataframe\">\n",
       "  <thead>\n",
       "    <tr style=\"text-align: right;\">\n",
       "      <th></th>\n",
       "      <th>index</th>\n",
       "      <th>state</th>\n",
       "      <th>account_length</th>\n",
       "      <th>area_code</th>\n",
       "      <th>phone_number</th>\n",
       "      <th>international_plan</th>\n",
       "      <th>voice_mail_plan</th>\n",
       "      <th>number_vmail_messages</th>\n",
       "      <th>total_day_minutes</th>\n",
       "      <th>total_day_calls</th>\n",
       "      <th>...</th>\n",
       "      <th>total_intl_minutes</th>\n",
       "      <th>total_intl_calls</th>\n",
       "      <th>total_intl_charge</th>\n",
       "      <th>customer_service_calls</th>\n",
       "      <th>churn</th>\n",
       "      <th>total_charge</th>\n",
       "      <th>tenor_years</th>\n",
       "      <th>total_minutes</th>\n",
       "      <th>avg_price_per_min</th>\n",
       "      <th>total_calls</th>\n",
       "    </tr>\n",
       "  </thead>\n",
       "  <tbody>\n",
       "    <tr>\n",
       "      <td>198</td>\n",
       "      <td>198</td>\n",
       "      <td>ME</td>\n",
       "      <td>131</td>\n",
       "      <td>510</td>\n",
       "      <td>353-7292</td>\n",
       "      <td>1</td>\n",
       "      <td>1</td>\n",
       "      <td>26</td>\n",
       "      <td>292.9</td>\n",
       "      <td>101</td>\n",
       "      <td>...</td>\n",
       "      <td>13.8</td>\n",
       "      <td>7</td>\n",
       "      <td>3.73</td>\n",
       "      <td>4</td>\n",
       "      <td>1</td>\n",
       "      <td>81.98</td>\n",
       "      <td>10</td>\n",
       "      <td>761.7</td>\n",
       "      <td>0.107628</td>\n",
       "      <td>332</td>\n",
       "    </tr>\n",
       "  </tbody>\n",
       "</table>\n",
       "<p>1 rows × 27 columns</p>\n",
       "</div>"
      ],
      "text/plain": [
       "     index state  account_length  area_code phone_number  international_plan  \\\n",
       "198    198    ME             131        510     353-7292                   1   \n",
       "\n",
       "     voice_mail_plan  number_vmail_messages  total_day_minutes  \\\n",
       "198                1                     26              292.9   \n",
       "\n",
       "     total_day_calls  ...  total_intl_minutes  total_intl_calls  \\\n",
       "198              101  ...                13.8                 7   \n",
       "\n",
       "     total_intl_charge  customer_service_calls  churn  total_charge  \\\n",
       "198               3.73                       4      1         81.98   \n",
       "\n",
       "     tenor_years  total_minutes  avg_price_per_min  total_calls  \n",
       "198           10          761.7           0.107628          332  \n",
       "\n",
       "[1 rows x 27 columns]"
      ]
     },
     "execution_count": 382,
     "metadata": {},
     "output_type": "execute_result"
    }
   ],
   "source": [
    "dfFN.loc[dfFN['international_plan']==1]"
   ]
  },
  {
   "cell_type": "markdown",
   "metadata": {},
   "source": [
    "Only 1 of the 9 values had an international plan.\n",
    "Again our model puts a lot of bias on international plans churning so this is why it is classified incorrectly"
   ]
  },
  {
   "cell_type": "markdown",
   "metadata": {},
   "source": [
    "# Conclusion:"
   ]
  },
  {
   "cell_type": "markdown",
   "metadata": {},
   "source": [
    "Looking at the False Negatives from our test set - that is we predicted them to stay and they churned, I wanted to see what these data points had in common\n",
    "\n",
    "8/9 of them had made less than 3 calls to customer service\n",
    "only 1/9 of them had an international plan\n",
    "5/9 paid less than the average charge for the whole dataset\n",
    "\n",
    "This leads me to belive that these points lie within the unpredictable - there is no partiular reason from a business case why they left, and is proabbly down to customer descretion and personal circumstances"
   ]
  },
  {
   "cell_type": "markdown",
   "metadata": {},
   "source": [
    "# Exploring False Negatives for Entire DataSet"
   ]
  },
  {
   "cell_type": "code",
   "execution_count": 131,
   "metadata": {},
   "outputs": [
    {
     "name": "stdout",
     "output_type": "stream",
     "text": [
      "1.2301230123012301 of False Negatives\n"
     ]
    },
    {
     "data": {
      "image/png": "[encoded data removed]",
      "text/plain": [
       "<Figure size 432x288 with 2 Axes>"
      ]
     },
     "metadata": {},
     "output_type": "display_data"
    },
    {
     "name": "stdout",
     "output_type": "stream",
     "text": [
      "Precision Score: 0.9977426636568849\n",
      "Recall Score: 0.9151138716356108\n",
      "Accuracy Score: 0.9873987398739874\n",
      "F1 Score: 0.9546436285097192\n"
     ]
    }
   ],
   "source": [
    "plot_confusion_matrix(y,xgb_best_smote.predict(X))\n",
    "print_metrics(y,xgb_best_smote.predict(X))"
   ]
  },
  {
   "cell_type": "code",
   "execution_count": 132,
   "metadata": {},
   "outputs": [],
   "source": [
    "d = {'y':y,'y_pred':xgb_best_smote.predict(X)}"
   ]
  },
  {
   "cell_type": "code",
   "execution_count": 133,
   "metadata": {},
   "outputs": [
    {
     "data": {
      "text/html": [
       "<div>\n",
       "<style scoped>\n",
       "    .dataframe tbody tr th:only-of-type {\n",
       "        vertical-align: middle;\n",
       "    }\n",
       "\n",
       "    .dataframe tbody tr th {\n",
       "        vertical-align: top;\n",
       "    }\n",
       "\n",
       "    .dataframe thead th {\n",
       "        text-align: right;\n",
       "    }\n",
       "</style>\n",
       "<table border=\"1\" class=\"dataframe\">\n",
       "  <thead>\n",
       "    <tr style=\"text-align: right;\">\n",
       "      <th></th>\n",
       "      <th>y</th>\n",
       "      <th>y_pred</th>\n",
       "    </tr>\n",
       "  </thead>\n",
       "  <tbody>\n",
       "    <tr>\n",
       "      <td>0</td>\n",
       "      <td>0</td>\n",
       "      <td>0</td>\n",
       "    </tr>\n",
       "    <tr>\n",
       "      <td>1</td>\n",
       "      <td>0</td>\n",
       "      <td>0</td>\n",
       "    </tr>\n",
       "    <tr>\n",
       "      <td>2</td>\n",
       "      <td>0</td>\n",
       "      <td>0</td>\n",
       "    </tr>\n",
       "    <tr>\n",
       "      <td>3</td>\n",
       "      <td>0</td>\n",
       "      <td>0</td>\n",
       "    </tr>\n",
       "    <tr>\n",
       "      <td>4</td>\n",
       "      <td>0</td>\n",
       "      <td>0</td>\n",
       "    </tr>\n",
       "    <tr>\n",
       "      <td>...</td>\n",
       "      <td>...</td>\n",
       "      <td>...</td>\n",
       "    </tr>\n",
       "    <tr>\n",
       "      <td>3328</td>\n",
       "      <td>0</td>\n",
       "      <td>0</td>\n",
       "    </tr>\n",
       "    <tr>\n",
       "      <td>3329</td>\n",
       "      <td>0</td>\n",
       "      <td>0</td>\n",
       "    </tr>\n",
       "    <tr>\n",
       "      <td>3330</td>\n",
       "      <td>0</td>\n",
       "      <td>0</td>\n",
       "    </tr>\n",
       "    <tr>\n",
       "      <td>3331</td>\n",
       "      <td>0</td>\n",
       "      <td>0</td>\n",
       "    </tr>\n",
       "    <tr>\n",
       "      <td>3332</td>\n",
       "      <td>0</td>\n",
       "      <td>0</td>\n",
       "    </tr>\n",
       "  </tbody>\n",
       "</table>\n",
       "<p>3333 rows × 2 columns</p>\n",
       "</div>"
      ],
      "text/plain": [
       "      y  y_pred\n",
       "0     0       0\n",
       "1     0       0\n",
       "2     0       0\n",
       "3     0       0\n",
       "4     0       0\n",
       "...  ..     ...\n",
       "3328  0       0\n",
       "3329  0       0\n",
       "3330  0       0\n",
       "3331  0       0\n",
       "3332  0       0\n",
       "\n",
       "[3333 rows x 2 columns]"
      ]
     },
     "execution_count": 133,
     "metadata": {},
     "output_type": "execute_result"
    }
   ],
   "source": [
    "dfpredswhole = pd.DataFrame(data=d)\n",
    "dfpredswhole"
   ]
  },
  {
   "cell_type": "code",
   "execution_count": 134,
   "metadata": {},
   "outputs": [],
   "source": [
    "dfpredswhole['correct'] = dfpredswhole['y']==dfpredswhole['y_pred']"
   ]
  },
  {
   "cell_type": "code",
   "execution_count": 135,
   "metadata": {},
   "outputs": [],
   "source": [
    "FN_whole = dfpredswhole.loc[(dfpredswhole['correct']==False) & (dfpredswhole['y_pred']==0)]"
   ]
  },
  {
   "cell_type": "code",
   "execution_count": 136,
   "metadata": {},
   "outputs": [
    {
     "data": {
      "text/plain": [
       "(41, 3)"
      ]
     },
     "execution_count": 136,
     "metadata": {},
     "output_type": "execute_result"
    }
   ],
   "source": [
    "FN_whole.shape"
   ]
  },
  {
   "cell_type": "code",
   "execution_count": 137,
   "metadata": {},
   "outputs": [],
   "source": [
    "indexlist = FN_whole.index.values.tolist() "
   ]
  },
  {
   "cell_type": "code",
   "execution_count": 138,
   "metadata": {},
   "outputs": [],
   "source": [
    "FN_whole_data = df.loc[indexlist]"
   ]
  },
  {
   "cell_type": "code",
   "execution_count": 139,
   "metadata": {},
   "outputs": [
    {
     "data": {
      "text/plain": [
       "58.448807017543864"
      ]
     },
     "execution_count": 139,
     "metadata": {},
     "output_type": "execute_result"
    }
   ],
   "source": [
    "df.loc[df['churn']==0]['total_charge'].mean()"
   ]
  },
  {
   "cell_type": "code",
   "execution_count": 140,
   "metadata": {},
   "outputs": [
    {
     "data": {
      "text/plain": [
       "(21, 26)"
      ]
     },
     "execution_count": 140,
     "metadata": {},
     "output_type": "execute_result"
    }
   ],
   "source": [
    "FN_whole_data.loc[FN_whole_data['total_charge']<60].shape"
   ]
  },
  {
   "cell_type": "markdown",
   "metadata": {},
   "source": [
    "21 out of the 41 data points had a total charge less than 60. This is the most important feature in our model and assumes charges above average will be more liekly to churn"
   ]
  },
  {
   "cell_type": "code",
   "execution_count": 141,
   "metadata": {},
   "outputs": [
    {
     "data": {
      "text/html": [
       "<div>\n",
       "<style scoped>\n",
       "    .dataframe tbody tr th:only-of-type {\n",
       "        vertical-align: middle;\n",
       "    }\n",
       "\n",
       "    .dataframe tbody tr th {\n",
       "        vertical-align: top;\n",
       "    }\n",
       "\n",
       "    .dataframe thead th {\n",
       "        text-align: right;\n",
       "    }\n",
       "</style>\n",
       "<table border=\"1\" class=\"dataframe\">\n",
       "  <thead>\n",
       "    <tr style=\"text-align: right;\">\n",
       "      <th></th>\n",
       "      <th>state</th>\n",
       "      <th>account_length</th>\n",
       "      <th>area_code</th>\n",
       "      <th>phone_number</th>\n",
       "      <th>international_plan</th>\n",
       "      <th>voice_mail_plan</th>\n",
       "      <th>number_vmail_messages</th>\n",
       "      <th>total_day_minutes</th>\n",
       "      <th>total_day_calls</th>\n",
       "      <th>total_day_charge</th>\n",
       "      <th>...</th>\n",
       "      <th>total_intl_minutes</th>\n",
       "      <th>total_intl_calls</th>\n",
       "      <th>total_intl_charge</th>\n",
       "      <th>customer_service_calls</th>\n",
       "      <th>churn</th>\n",
       "      <th>total_charge</th>\n",
       "      <th>tenor_years</th>\n",
       "      <th>total_minutes</th>\n",
       "      <th>avg_price_per_min</th>\n",
       "      <th>total_calls</th>\n",
       "    </tr>\n",
       "  </thead>\n",
       "  <tbody>\n",
       "    <tr>\n",
       "      <td>198</td>\n",
       "      <td>ME</td>\n",
       "      <td>131</td>\n",
       "      <td>510</td>\n",
       "      <td>353-7292</td>\n",
       "      <td>1</td>\n",
       "      <td>1</td>\n",
       "      <td>26</td>\n",
       "      <td>292.9</td>\n",
       "      <td>101</td>\n",
       "      <td>49.79</td>\n",
       "      <td>...</td>\n",
       "      <td>13.8</td>\n",
       "      <td>7</td>\n",
       "      <td>3.73</td>\n",
       "      <td>4</td>\n",
       "      <td>1</td>\n",
       "      <td>81.98</td>\n",
       "      <td>10</td>\n",
       "      <td>761.7</td>\n",
       "      <td>0.107628</td>\n",
       "      <td>332</td>\n",
       "    </tr>\n",
       "  </tbody>\n",
       "</table>\n",
       "<p>1 rows × 26 columns</p>\n",
       "</div>"
      ],
      "text/plain": [
       "    state  account_length  area_code phone_number  international_plan  \\\n",
       "198    ME             131        510     353-7292                   1   \n",
       "\n",
       "     voice_mail_plan  number_vmail_messages  total_day_minutes  \\\n",
       "198                1                     26              292.9   \n",
       "\n",
       "     total_day_calls  total_day_charge  ...  total_intl_minutes  \\\n",
       "198              101             49.79  ...                13.8   \n",
       "\n",
       "     total_intl_calls  total_intl_charge  customer_service_calls  churn  \\\n",
       "198                 7               3.73                       4      1   \n",
       "\n",
       "     total_charge  tenor_years  total_minutes  avg_price_per_min  total_calls  \n",
       "198         81.98           10          761.7           0.107628          332  \n",
       "\n",
       "[1 rows x 26 columns]"
      ]
     },
     "execution_count": 141,
     "metadata": {},
     "output_type": "execute_result"
    }
   ],
   "source": [
    "FN_whole_data.loc[FN_whole_data['customer_service_calls']>3]"
   ]
  },
  {
   "cell_type": "markdown",
   "metadata": {},
   "source": [
    "Only 1 out of the 41 False Negatives made more than 3 customer services calls\n",
    "- This shows that our model struggles to classify points when customers dont make a lot of customer service calls"
   ]
  },
  {
   "cell_type": "code",
   "execution_count": 142,
   "metadata": {},
   "outputs": [
    {
     "data": {
      "text/html": [
       "<div>\n",
       "<style scoped>\n",
       "    .dataframe tbody tr th:only-of-type {\n",
       "        vertical-align: middle;\n",
       "    }\n",
       "\n",
       "    .dataframe tbody tr th {\n",
       "        vertical-align: top;\n",
       "    }\n",
       "\n",
       "    .dataframe thead th {\n",
       "        text-align: right;\n",
       "    }\n",
       "</style>\n",
       "<table border=\"1\" class=\"dataframe\">\n",
       "  <thead>\n",
       "    <tr style=\"text-align: right;\">\n",
       "      <th></th>\n",
       "      <th>state</th>\n",
       "      <th>account_length</th>\n",
       "      <th>area_code</th>\n",
       "      <th>phone_number</th>\n",
       "      <th>international_plan</th>\n",
       "      <th>voice_mail_plan</th>\n",
       "      <th>number_vmail_messages</th>\n",
       "      <th>total_day_minutes</th>\n",
       "      <th>total_day_calls</th>\n",
       "      <th>total_day_charge</th>\n",
       "      <th>...</th>\n",
       "      <th>total_intl_minutes</th>\n",
       "      <th>total_intl_calls</th>\n",
       "      <th>total_intl_charge</th>\n",
       "      <th>customer_service_calls</th>\n",
       "      <th>churn</th>\n",
       "      <th>total_charge</th>\n",
       "      <th>tenor_years</th>\n",
       "      <th>total_minutes</th>\n",
       "      <th>avg_price_per_min</th>\n",
       "      <th>total_calls</th>\n",
       "    </tr>\n",
       "  </thead>\n",
       "  <tbody>\n",
       "    <tr>\n",
       "      <td>198</td>\n",
       "      <td>ME</td>\n",
       "      <td>131</td>\n",
       "      <td>510</td>\n",
       "      <td>353-7292</td>\n",
       "      <td>1</td>\n",
       "      <td>1</td>\n",
       "      <td>26</td>\n",
       "      <td>292.9</td>\n",
       "      <td>101</td>\n",
       "      <td>49.79</td>\n",
       "      <td>...</td>\n",
       "      <td>13.8</td>\n",
       "      <td>7</td>\n",
       "      <td>3.73</td>\n",
       "      <td>4</td>\n",
       "      <td>1</td>\n",
       "      <td>81.98</td>\n",
       "      <td>10</td>\n",
       "      <td>761.7</td>\n",
       "      <td>0.107628</td>\n",
       "      <td>332</td>\n",
       "    </tr>\n",
       "  </tbody>\n",
       "</table>\n",
       "<p>1 rows × 26 columns</p>\n",
       "</div>"
      ],
      "text/plain": [
       "    state  account_length  area_code phone_number  international_plan  \\\n",
       "198    ME             131        510     353-7292                   1   \n",
       "\n",
       "     voice_mail_plan  number_vmail_messages  total_day_minutes  \\\n",
       "198                1                     26              292.9   \n",
       "\n",
       "     total_day_calls  total_day_charge  ...  total_intl_minutes  \\\n",
       "198              101             49.79  ...                13.8   \n",
       "\n",
       "     total_intl_calls  total_intl_charge  customer_service_calls  churn  \\\n",
       "198                 7               3.73                       4      1   \n",
       "\n",
       "     total_charge  tenor_years  total_minutes  avg_price_per_min  total_calls  \n",
       "198         81.98           10          761.7           0.107628          332  \n",
       "\n",
       "[1 rows x 26 columns]"
      ]
     },
     "execution_count": 142,
     "metadata": {},
     "output_type": "execute_result"
    }
   ],
   "source": [
    "FN_whole_data.loc[FN_whole_data['international_plan']==1]"
   ]
  },
  {
   "cell_type": "markdown",
   "metadata": {},
   "source": [
    "Only 1 of the 41 values had an international plan.\n",
    "Again our model puts a lot of bias on international plans churning so this is why it is classified incorrectly"
   ]
  },
  {
   "cell_type": "code",
   "execution_count": 143,
   "metadata": {},
   "outputs": [
    {
     "data": {
      "text/html": [
       "<div>\n",
       "<style scoped>\n",
       "    .dataframe tbody tr th:only-of-type {\n",
       "        vertical-align: middle;\n",
       "    }\n",
       "\n",
       "    .dataframe tbody tr th {\n",
       "        vertical-align: top;\n",
       "    }\n",
       "\n",
       "    .dataframe thead th {\n",
       "        text-align: right;\n",
       "    }\n",
       "</style>\n",
       "<table border=\"1\" class=\"dataframe\">\n",
       "  <thead>\n",
       "    <tr style=\"text-align: right;\">\n",
       "      <th></th>\n",
       "      <th>state</th>\n",
       "      <th>account_length</th>\n",
       "      <th>area_code</th>\n",
       "      <th>phone_number</th>\n",
       "      <th>international_plan</th>\n",
       "      <th>voice_mail_plan</th>\n",
       "      <th>number_vmail_messages</th>\n",
       "      <th>total_day_minutes</th>\n",
       "      <th>total_day_calls</th>\n",
       "      <th>total_day_charge</th>\n",
       "      <th>...</th>\n",
       "      <th>total_intl_minutes</th>\n",
       "      <th>total_intl_calls</th>\n",
       "      <th>total_intl_charge</th>\n",
       "      <th>customer_service_calls</th>\n",
       "      <th>churn</th>\n",
       "      <th>total_charge</th>\n",
       "      <th>tenor_years</th>\n",
       "      <th>total_minutes</th>\n",
       "      <th>avg_price_per_min</th>\n",
       "      <th>total_calls</th>\n",
       "    </tr>\n",
       "  </thead>\n",
       "  <tbody>\n",
       "    <tr>\n",
       "      <td>57</td>\n",
       "      <td>CO</td>\n",
       "      <td>121</td>\n",
       "      <td>408</td>\n",
       "      <td>370-7574</td>\n",
       "      <td>0</td>\n",
       "      <td>1</td>\n",
       "      <td>30</td>\n",
       "      <td>198.4</td>\n",
       "      <td>129</td>\n",
       "      <td>33.73</td>\n",
       "      <td>...</td>\n",
       "      <td>5.8</td>\n",
       "      <td>3</td>\n",
       "      <td>1.57</td>\n",
       "      <td>3</td>\n",
       "      <td>1</td>\n",
       "      <td>49.85</td>\n",
       "      <td>10</td>\n",
       "      <td>460.7</td>\n",
       "      <td>0.108205</td>\n",
       "      <td>286</td>\n",
       "    </tr>\n",
       "    <tr>\n",
       "      <td>198</td>\n",
       "      <td>ME</td>\n",
       "      <td>131</td>\n",
       "      <td>510</td>\n",
       "      <td>353-7292</td>\n",
       "      <td>1</td>\n",
       "      <td>1</td>\n",
       "      <td>26</td>\n",
       "      <td>292.9</td>\n",
       "      <td>101</td>\n",
       "      <td>49.79</td>\n",
       "      <td>...</td>\n",
       "      <td>13.8</td>\n",
       "      <td>7</td>\n",
       "      <td>3.73</td>\n",
       "      <td>4</td>\n",
       "      <td>1</td>\n",
       "      <td>81.98</td>\n",
       "      <td>10</td>\n",
       "      <td>761.7</td>\n",
       "      <td>0.107628</td>\n",
       "      <td>332</td>\n",
       "    </tr>\n",
       "    <tr>\n",
       "      <td>277</td>\n",
       "      <td>SD</td>\n",
       "      <td>144</td>\n",
       "      <td>408</td>\n",
       "      <td>339-3049</td>\n",
       "      <td>0</td>\n",
       "      <td>1</td>\n",
       "      <td>48</td>\n",
       "      <td>189.8</td>\n",
       "      <td>96</td>\n",
       "      <td>32.27</td>\n",
       "      <td>...</td>\n",
       "      <td>6.5</td>\n",
       "      <td>2</td>\n",
       "      <td>1.76</td>\n",
       "      <td>2</td>\n",
       "      <td>1</td>\n",
       "      <td>54.16</td>\n",
       "      <td>12</td>\n",
       "      <td>533.9</td>\n",
       "      <td>0.101442</td>\n",
       "      <td>271</td>\n",
       "    </tr>\n",
       "    <tr>\n",
       "      <td>466</td>\n",
       "      <td>FL</td>\n",
       "      <td>132</td>\n",
       "      <td>510</td>\n",
       "      <td>334-9505</td>\n",
       "      <td>0</td>\n",
       "      <td>1</td>\n",
       "      <td>36</td>\n",
       "      <td>226.2</td>\n",
       "      <td>103</td>\n",
       "      <td>38.45</td>\n",
       "      <td>...</td>\n",
       "      <td>10.5</td>\n",
       "      <td>5</td>\n",
       "      <td>2.84</td>\n",
       "      <td>3</td>\n",
       "      <td>1</td>\n",
       "      <td>68.38</td>\n",
       "      <td>11</td>\n",
       "      <td>677.1</td>\n",
       "      <td>0.100990</td>\n",
       "      <td>335</td>\n",
       "    </tr>\n",
       "    <tr>\n",
       "      <td>892</td>\n",
       "      <td>LA</td>\n",
       "      <td>109</td>\n",
       "      <td>415</td>\n",
       "      <td>395-6195</td>\n",
       "      <td>0</td>\n",
       "      <td>1</td>\n",
       "      <td>27</td>\n",
       "      <td>166.9</td>\n",
       "      <td>85</td>\n",
       "      <td>28.37</td>\n",
       "      <td>...</td>\n",
       "      <td>12.3</td>\n",
       "      <td>4</td>\n",
       "      <td>3.32</td>\n",
       "      <td>1</td>\n",
       "      <td>1</td>\n",
       "      <td>59.37</td>\n",
       "      <td>9</td>\n",
       "      <td>597.7</td>\n",
       "      <td>0.099331</td>\n",
       "      <td>278</td>\n",
       "    </tr>\n",
       "    <tr>\n",
       "      <td>968</td>\n",
       "      <td>NM</td>\n",
       "      <td>122</td>\n",
       "      <td>408</td>\n",
       "      <td>370-9755</td>\n",
       "      <td>0</td>\n",
       "      <td>1</td>\n",
       "      <td>33</td>\n",
       "      <td>174.9</td>\n",
       "      <td>103</td>\n",
       "      <td>29.73</td>\n",
       "      <td>...</td>\n",
       "      <td>13.5</td>\n",
       "      <td>3</td>\n",
       "      <td>3.65</td>\n",
       "      <td>1</td>\n",
       "      <td>1</td>\n",
       "      <td>61.89</td>\n",
       "      <td>10</td>\n",
       "      <td>601.2</td>\n",
       "      <td>0.102944</td>\n",
       "      <td>327</td>\n",
       "    </tr>\n",
       "    <tr>\n",
       "      <td>1030</td>\n",
       "      <td>VA</td>\n",
       "      <td>99</td>\n",
       "      <td>415</td>\n",
       "      <td>400-6257</td>\n",
       "      <td>0</td>\n",
       "      <td>1</td>\n",
       "      <td>42</td>\n",
       "      <td>216.0</td>\n",
       "      <td>125</td>\n",
       "      <td>36.72</td>\n",
       "      <td>...</td>\n",
       "      <td>9.3</td>\n",
       "      <td>4</td>\n",
       "      <td>2.51</td>\n",
       "      <td>2</td>\n",
       "      <td>1</td>\n",
       "      <td>68.68</td>\n",
       "      <td>8</td>\n",
       "      <td>673.1</td>\n",
       "      <td>0.102035</td>\n",
       "      <td>333</td>\n",
       "    </tr>\n",
       "    <tr>\n",
       "      <td>1254</td>\n",
       "      <td>MN</td>\n",
       "      <td>62</td>\n",
       "      <td>510</td>\n",
       "      <td>390-9811</td>\n",
       "      <td>0</td>\n",
       "      <td>1</td>\n",
       "      <td>33</td>\n",
       "      <td>186.4</td>\n",
       "      <td>84</td>\n",
       "      <td>31.69</td>\n",
       "      <td>...</td>\n",
       "      <td>11.1</td>\n",
       "      <td>3</td>\n",
       "      <td>3.00</td>\n",
       "      <td>2</td>\n",
       "      <td>1</td>\n",
       "      <td>64.68</td>\n",
       "      <td>5</td>\n",
       "      <td>685.2</td>\n",
       "      <td>0.094396</td>\n",
       "      <td>326</td>\n",
       "    </tr>\n",
       "    <tr>\n",
       "      <td>1263</td>\n",
       "      <td>MA</td>\n",
       "      <td>40</td>\n",
       "      <td>408</td>\n",
       "      <td>351-7005</td>\n",
       "      <td>0</td>\n",
       "      <td>1</td>\n",
       "      <td>31</td>\n",
       "      <td>224.7</td>\n",
       "      <td>69</td>\n",
       "      <td>38.20</td>\n",
       "      <td>...</td>\n",
       "      <td>7.5</td>\n",
       "      <td>5</td>\n",
       "      <td>2.03</td>\n",
       "      <td>1</td>\n",
       "      <td>1</td>\n",
       "      <td>57.07</td>\n",
       "      <td>3</td>\n",
       "      <td>487.0</td>\n",
       "      <td>0.117187</td>\n",
       "      <td>259</td>\n",
       "    </tr>\n",
       "    <tr>\n",
       "      <td>1454</td>\n",
       "      <td>UT</td>\n",
       "      <td>133</td>\n",
       "      <td>408</td>\n",
       "      <td>398-8745</td>\n",
       "      <td>0</td>\n",
       "      <td>1</td>\n",
       "      <td>44</td>\n",
       "      <td>174.0</td>\n",
       "      <td>80</td>\n",
       "      <td>29.58</td>\n",
       "      <td>...</td>\n",
       "      <td>14.1</td>\n",
       "      <td>7</td>\n",
       "      <td>3.81</td>\n",
       "      <td>2</td>\n",
       "      <td>1</td>\n",
       "      <td>61.27</td>\n",
       "      <td>11</td>\n",
       "      <td>621.6</td>\n",
       "      <td>0.098568</td>\n",
       "      <td>287</td>\n",
       "    </tr>\n",
       "    <tr>\n",
       "      <td>1532</td>\n",
       "      <td>CA</td>\n",
       "      <td>103</td>\n",
       "      <td>415</td>\n",
       "      <td>402-6744</td>\n",
       "      <td>0</td>\n",
       "      <td>1</td>\n",
       "      <td>18</td>\n",
       "      <td>149.9</td>\n",
       "      <td>84</td>\n",
       "      <td>25.48</td>\n",
       "      <td>...</td>\n",
       "      <td>11.5</td>\n",
       "      <td>7</td>\n",
       "      <td>3.11</td>\n",
       "      <td>0</td>\n",
       "      <td>1</td>\n",
       "      <td>50.84</td>\n",
       "      <td>8</td>\n",
       "      <td>503.8</td>\n",
       "      <td>0.100913</td>\n",
       "      <td>287</td>\n",
       "    </tr>\n",
       "    <tr>\n",
       "      <td>1850</td>\n",
       "      <td>NC</td>\n",
       "      <td>162</td>\n",
       "      <td>408</td>\n",
       "      <td>340-1876</td>\n",
       "      <td>0</td>\n",
       "      <td>1</td>\n",
       "      <td>26</td>\n",
       "      <td>179.7</td>\n",
       "      <td>144</td>\n",
       "      <td>30.55</td>\n",
       "      <td>...</td>\n",
       "      <td>9.3</td>\n",
       "      <td>8</td>\n",
       "      <td>2.51</td>\n",
       "      <td>1</td>\n",
       "      <td>1</td>\n",
       "      <td>61.15</td>\n",
       "      <td>13</td>\n",
       "      <td>619.4</td>\n",
       "      <td>0.098725</td>\n",
       "      <td>386</td>\n",
       "    </tr>\n",
       "    <tr>\n",
       "      <td>2377</td>\n",
       "      <td>ND</td>\n",
       "      <td>101</td>\n",
       "      <td>415</td>\n",
       "      <td>364-5510</td>\n",
       "      <td>0</td>\n",
       "      <td>1</td>\n",
       "      <td>36</td>\n",
       "      <td>123.7</td>\n",
       "      <td>125</td>\n",
       "      <td>21.03</td>\n",
       "      <td>...</td>\n",
       "      <td>8.8</td>\n",
       "      <td>4</td>\n",
       "      <td>2.38</td>\n",
       "      <td>1</td>\n",
       "      <td>1</td>\n",
       "      <td>50.70</td>\n",
       "      <td>8</td>\n",
       "      <td>585.6</td>\n",
       "      <td>0.086578</td>\n",
       "      <td>362</td>\n",
       "    </tr>\n",
       "    <tr>\n",
       "      <td>2405</td>\n",
       "      <td>ID</td>\n",
       "      <td>92</td>\n",
       "      <td>415</td>\n",
       "      <td>333-4594</td>\n",
       "      <td>0</td>\n",
       "      <td>1</td>\n",
       "      <td>29</td>\n",
       "      <td>201.3</td>\n",
       "      <td>130</td>\n",
       "      <td>34.22</td>\n",
       "      <td>...</td>\n",
       "      <td>6.4</td>\n",
       "      <td>6</td>\n",
       "      <td>1.73</td>\n",
       "      <td>1</td>\n",
       "      <td>1</td>\n",
       "      <td>59.11</td>\n",
       "      <td>7</td>\n",
       "      <td>541.3</td>\n",
       "      <td>0.109200</td>\n",
       "      <td>364</td>\n",
       "    </tr>\n",
       "    <tr>\n",
       "      <td>2745</td>\n",
       "      <td>PA</td>\n",
       "      <td>61</td>\n",
       "      <td>408</td>\n",
       "      <td>343-1347</td>\n",
       "      <td>0</td>\n",
       "      <td>1</td>\n",
       "      <td>40</td>\n",
       "      <td>105.0</td>\n",
       "      <td>78</td>\n",
       "      <td>17.85</td>\n",
       "      <td>...</td>\n",
       "      <td>10.2</td>\n",
       "      <td>2</td>\n",
       "      <td>2.75</td>\n",
       "      <td>2</td>\n",
       "      <td>1</td>\n",
       "      <td>43.78</td>\n",
       "      <td>5</td>\n",
       "      <td>469.9</td>\n",
       "      <td>0.093169</td>\n",
       "      <td>295</td>\n",
       "    </tr>\n",
       "    <tr>\n",
       "      <td>2865</td>\n",
       "      <td>NH</td>\n",
       "      <td>97</td>\n",
       "      <td>408</td>\n",
       "      <td>328-9267</td>\n",
       "      <td>0</td>\n",
       "      <td>1</td>\n",
       "      <td>32</td>\n",
       "      <td>90.0</td>\n",
       "      <td>87</td>\n",
       "      <td>15.30</td>\n",
       "      <td>...</td>\n",
       "      <td>8.6</td>\n",
       "      <td>6</td>\n",
       "      <td>2.32</td>\n",
       "      <td>2</td>\n",
       "      <td>1</td>\n",
       "      <td>49.44</td>\n",
       "      <td>8</td>\n",
       "      <td>560.1</td>\n",
       "      <td>0.088270</td>\n",
       "      <td>313</td>\n",
       "    </tr>\n",
       "  </tbody>\n",
       "</table>\n",
       "<p>16 rows × 26 columns</p>\n",
       "</div>"
      ],
      "text/plain": [
       "     state  account_length  area_code phone_number  international_plan  \\\n",
       "57      CO             121        408     370-7574                   0   \n",
       "198     ME             131        510     353-7292                   1   \n",
       "277     SD             144        408     339-3049                   0   \n",
       "466     FL             132        510     334-9505                   0   \n",
       "892     LA             109        415     395-6195                   0   \n",
       "968     NM             122        408     370-9755                   0   \n",
       "1030    VA              99        415     400-6257                   0   \n",
       "1254    MN              62        510     390-9811                   0   \n",
       "1263    MA              40        408     351-7005                   0   \n",
       "1454    UT             133        408     398-8745                   0   \n",
       "1532    CA             103        415     402-6744                   0   \n",
       "1850    NC             162        408     340-1876                   0   \n",
       "2377    ND             101        415     364-5510                   0   \n",
       "2405    ID              92        415     333-4594                   0   \n",
       "2745    PA              61        408     343-1347                   0   \n",
       "2865    NH              97        408     328-9267                   0   \n",
       "\n",
       "      voice_mail_plan  number_vmail_messages  total_day_minutes  \\\n",
       "57                  1                     30              198.4   \n",
       "198                 1                     26              292.9   \n",
       "277                 1                     48              189.8   \n",
       "466                 1                     36              226.2   \n",
       "892                 1                     27              166.9   \n",
       "968                 1                     33              174.9   \n",
       "1030                1                     42              216.0   \n",
       "1254                1                     33              186.4   \n",
       "1263                1                     31              224.7   \n",
       "1454                1                     44              174.0   \n",
       "1532                1                     18              149.9   \n",
       "1850                1                     26              179.7   \n",
       "2377                1                     36              123.7   \n",
       "2405                1                     29              201.3   \n",
       "2745                1                     40              105.0   \n",
       "2865                1                     32               90.0   \n",
       "\n",
       "      total_day_calls  total_day_charge  ...  total_intl_minutes  \\\n",
       "57                129             33.73  ...                 5.8   \n",
       "198               101             49.79  ...                13.8   \n",
       "277                96             32.27  ...                 6.5   \n",
       "466               103             38.45  ...                10.5   \n",
       "892                85             28.37  ...                12.3   \n",
       "968               103             29.73  ...                13.5   \n",
       "1030              125             36.72  ...                 9.3   \n",
       "1254               84             31.69  ...                11.1   \n",
       "1263               69             38.20  ...                 7.5   \n",
       "1454               80             29.58  ...                14.1   \n",
       "1532               84             25.48  ...                11.5   \n",
       "1850              144             30.55  ...                 9.3   \n",
       "2377              125             21.03  ...                 8.8   \n",
       "2405              130             34.22  ...                 6.4   \n",
       "2745               78             17.85  ...                10.2   \n",
       "2865               87             15.30  ...                 8.6   \n",
       "\n",
       "      total_intl_calls  total_intl_charge  customer_service_calls  churn  \\\n",
       "57                   3               1.57                       3      1   \n",
       "198                  7               3.73                       4      1   \n",
       "277                  2               1.76                       2      1   \n",
       "466                  5               2.84                       3      1   \n",
       "892                  4               3.32                       1      1   \n",
       "968                  3               3.65                       1      1   \n",
       "1030                 4               2.51                       2      1   \n",
       "1254                 3               3.00                       2      1   \n",
       "1263                 5               2.03                       1      1   \n",
       "1454                 7               3.81                       2      1   \n",
       "1532                 7               3.11                       0      1   \n",
       "1850                 8               2.51                       1      1   \n",
       "2377                 4               2.38                       1      1   \n",
       "2405                 6               1.73                       1      1   \n",
       "2745                 2               2.75                       2      1   \n",
       "2865                 6               2.32                       2      1   \n",
       "\n",
       "      total_charge  tenor_years  total_minutes  avg_price_per_min  total_calls  \n",
       "57           49.85           10          460.7           0.108205          286  \n",
       "198          81.98           10          761.7           0.107628          332  \n",
       "277          54.16           12          533.9           0.101442          271  \n",
       "466          68.38           11          677.1           0.100990          335  \n",
       "892          59.37            9          597.7           0.099331          278  \n",
       "968          61.89           10          601.2           0.102944          327  \n",
       "1030         68.68            8          673.1           0.102035          333  \n",
       "1254         64.68            5          685.2           0.094396          326  \n",
       "1263         57.07            3          487.0           0.117187          259  \n",
       "1454         61.27           11          621.6           0.098568          287  \n",
       "1532         50.84            8          503.8           0.100913          287  \n",
       "1850         61.15           13          619.4           0.098725          386  \n",
       "2377         50.70            8          585.6           0.086578          362  \n",
       "2405         59.11            7          541.3           0.109200          364  \n",
       "2745         43.78            5          469.9           0.093169          295  \n",
       "2865         49.44            8          560.1           0.088270          313  \n",
       "\n",
       "[16 rows x 26 columns]"
      ]
     },
     "execution_count": 143,
     "metadata": {},
     "output_type": "execute_result"
    }
   ],
   "source": [
    "FN_whole_data.loc[FN_whole_data['voice_mail_plan']==1]"
   ]
  },
  {
   "cell_type": "markdown",
   "metadata": {},
   "source": [
    "# Conclusion"
   ]
  },
  {
   "cell_type": "markdown",
   "metadata": {},
   "source": [
    "Many of these values were misclassified because they didnt fit the general mould of our model\n",
    "* International plan\n",
    "* High Total Charge\n",
    "* More than 3 customer service calls\n",
    "\n",
    "This could mean that their churn is not business related at all - and more down to personal circumstance - which we cannot account for.\n",
    "Alternatively, we need to expand our model to find more segements that cause churn"
   ]
  },
  {
   "cell_type": "code",
   "execution_count": null,
   "metadata": {},
   "outputs": [],
   "source": []
  }
 ],
 "metadata": {
  "kernelspec": {
   "display_name": "Python [conda env:learn-env] *",
   "language": "python",
   "name": "conda-env-learn-env-py"
  },
  "language_info": {
   "codemirror_mode": {
    "name": "ipython",
    "version": 3
   },
   "file_extension": ".py",
   "mimetype": "text/x-python",
   "name": "python",
   "nbconvert_exporter": "python",
   "pygments_lexer": "ipython3",
   "version": "3.6.9"
  }
 },
 "nbformat": 4,
 "nbformat_minor": 2
}
