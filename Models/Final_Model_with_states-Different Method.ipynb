{
 "cells": [
  {
   "cell_type": "code",
   "execution_count": 1,
   "metadata": {},
   "outputs": [
    {
     "name": "stderr",
     "output_type": "stream",
     "text": [
      "/opt/anaconda3/envs/learn-env/lib/python3.6/site-packages/sklearn/externals/six.py:31: DeprecationWarning: The module is deprecated in version 0.21 and will be removed in version 0.23 since we've dropped support for Python 2.7. Please rely on the official version of six (https://pypi.org/project/six/).\n",
      "  \"(https://pypi.org/project/six/).\", DeprecationWarning)\n"
     ]
    }
   ],
   "source": [
    "import numpy as np\n",
    "import pandas as pd\n",
    "import seaborn as sns\n",
    "import matplotlib.pyplot as plt\n",
    "\n",
    "import xgboost as xgb\n",
    "\n",
    "from sklearn.metrics import roc_curve, auc\n",
    "\n",
    "from sklearn.preprocessing import StandardScaler\n",
    "from sklearn.neighbors import KNeighborsClassifier\n",
    "from sklearn.model_selection import train_test_split, GridSearchCV\n",
    "from sklearn.ensemble import RandomForestClassifier\n",
    "from sklearn.pipeline import Pipeline\n",
    "from sklearn.naive_bayes import GaussianNB, BernoulliNB, MultinomialNB,ComplementNB\n",
    "\n",
    "from sklearn.metrics import confusion_matrix,accuracy_score,precision_score,recall_score,precision_recall_curve\n",
    "from sklearn.metrics import precision_recall_fscore_support,f1_score,fbeta_score\n",
    "from sklearn.metrics import make_scorer\n",
    "from sklearn.linear_model import LogisticRegression \n",
    "from imblearn.over_sampling import SMOTE\n",
    "from sklearn.metrics import classification_report\n",
    "\n",
    "from myFunctions import plot_confusion_matrix, print_metrics,plot_feature_importances\n",
    "\n",
    "%load_ext autoreload\n",
    "%autoreload 2\n",
    "\n",
    "import warnings\n",
    "warnings.filterwarnings('ignore')\n"
   ]
  },
  {
   "cell_type": "code",
   "execution_count": 2,
   "metadata": {},
   "outputs": [],
   "source": [
    "%reload_ext autoreload"
   ]
  },
  {
   "cell_type": "code",
   "execution_count": 3,
   "metadata": {},
   "outputs": [],
   "source": [
    "df = pd.read_csv('../Data/ModelData.csv',index_col=0)"
   ]
  },
  {
   "cell_type": "code",
   "execution_count": 4,
   "metadata": {},
   "outputs": [
    {
     "data": {
      "text/html": [
       "<div>\n",
       "<style scoped>\n",
       "    .dataframe tbody tr th:only-of-type {\n",
       "        vertical-align: middle;\n",
       "    }\n",
       "\n",
       "    .dataframe tbody tr th {\n",
       "        vertical-align: top;\n",
       "    }\n",
       "\n",
       "    .dataframe thead th {\n",
       "        text-align: right;\n",
       "    }\n",
       "</style>\n",
       "<table border=\"1\" class=\"dataframe\">\n",
       "  <thead>\n",
       "    <tr style=\"text-align: right;\">\n",
       "      <th></th>\n",
       "      <th>state</th>\n",
       "      <th>account_length</th>\n",
       "      <th>area_code</th>\n",
       "      <th>phone_number</th>\n",
       "      <th>international_plan</th>\n",
       "      <th>voice_mail_plan</th>\n",
       "      <th>number_vmail_messages</th>\n",
       "      <th>total_day_minutes</th>\n",
       "      <th>total_day_calls</th>\n",
       "      <th>total_day_charge</th>\n",
       "      <th>...</th>\n",
       "      <th>total_intl_minutes</th>\n",
       "      <th>total_intl_calls</th>\n",
       "      <th>total_intl_charge</th>\n",
       "      <th>customer_service_calls</th>\n",
       "      <th>churn</th>\n",
       "      <th>total_charge</th>\n",
       "      <th>tenor_years</th>\n",
       "      <th>total_minutes</th>\n",
       "      <th>avg_price_per_min</th>\n",
       "      <th>total_calls</th>\n",
       "    </tr>\n",
       "  </thead>\n",
       "  <tbody>\n",
       "    <tr>\n",
       "      <td>0</td>\n",
       "      <td>KS</td>\n",
       "      <td>128</td>\n",
       "      <td>415</td>\n",
       "      <td>382-4657</td>\n",
       "      <td>0</td>\n",
       "      <td>1</td>\n",
       "      <td>25</td>\n",
       "      <td>265.1</td>\n",
       "      <td>110</td>\n",
       "      <td>45.07</td>\n",
       "      <td>...</td>\n",
       "      <td>10.0</td>\n",
       "      <td>3</td>\n",
       "      <td>2.70</td>\n",
       "      <td>1</td>\n",
       "      <td>0</td>\n",
       "      <td>75.56</td>\n",
       "      <td>10</td>\n",
       "      <td>717.2</td>\n",
       "      <td>0.105354</td>\n",
       "      <td>303</td>\n",
       "    </tr>\n",
       "    <tr>\n",
       "      <td>1</td>\n",
       "      <td>OH</td>\n",
       "      <td>107</td>\n",
       "      <td>415</td>\n",
       "      <td>371-7191</td>\n",
       "      <td>0</td>\n",
       "      <td>1</td>\n",
       "      <td>26</td>\n",
       "      <td>161.6</td>\n",
       "      <td>123</td>\n",
       "      <td>27.47</td>\n",
       "      <td>...</td>\n",
       "      <td>13.7</td>\n",
       "      <td>3</td>\n",
       "      <td>3.70</td>\n",
       "      <td>1</td>\n",
       "      <td>0</td>\n",
       "      <td>59.24</td>\n",
       "      <td>8</td>\n",
       "      <td>625.2</td>\n",
       "      <td>0.094754</td>\n",
       "      <td>332</td>\n",
       "    </tr>\n",
       "    <tr>\n",
       "      <td>2</td>\n",
       "      <td>NJ</td>\n",
       "      <td>137</td>\n",
       "      <td>415</td>\n",
       "      <td>358-1921</td>\n",
       "      <td>0</td>\n",
       "      <td>0</td>\n",
       "      <td>0</td>\n",
       "      <td>243.4</td>\n",
       "      <td>114</td>\n",
       "      <td>41.38</td>\n",
       "      <td>...</td>\n",
       "      <td>12.2</td>\n",
       "      <td>5</td>\n",
       "      <td>3.29</td>\n",
       "      <td>0</td>\n",
       "      <td>0</td>\n",
       "      <td>62.29</td>\n",
       "      <td>11</td>\n",
       "      <td>539.4</td>\n",
       "      <td>0.115480</td>\n",
       "      <td>333</td>\n",
       "    </tr>\n",
       "    <tr>\n",
       "      <td>3</td>\n",
       "      <td>OH</td>\n",
       "      <td>84</td>\n",
       "      <td>408</td>\n",
       "      <td>375-9999</td>\n",
       "      <td>1</td>\n",
       "      <td>0</td>\n",
       "      <td>0</td>\n",
       "      <td>299.4</td>\n",
       "      <td>71</td>\n",
       "      <td>50.90</td>\n",
       "      <td>...</td>\n",
       "      <td>6.6</td>\n",
       "      <td>7</td>\n",
       "      <td>1.78</td>\n",
       "      <td>2</td>\n",
       "      <td>0</td>\n",
       "      <td>66.80</td>\n",
       "      <td>7</td>\n",
       "      <td>564.8</td>\n",
       "      <td>0.118272</td>\n",
       "      <td>255</td>\n",
       "    </tr>\n",
       "    <tr>\n",
       "      <td>4</td>\n",
       "      <td>OK</td>\n",
       "      <td>75</td>\n",
       "      <td>415</td>\n",
       "      <td>330-6626</td>\n",
       "      <td>1</td>\n",
       "      <td>0</td>\n",
       "      <td>0</td>\n",
       "      <td>166.7</td>\n",
       "      <td>113</td>\n",
       "      <td>28.34</td>\n",
       "      <td>...</td>\n",
       "      <td>10.1</td>\n",
       "      <td>3</td>\n",
       "      <td>2.73</td>\n",
       "      <td>3</td>\n",
       "      <td>0</td>\n",
       "      <td>52.09</td>\n",
       "      <td>6</td>\n",
       "      <td>512.0</td>\n",
       "      <td>0.101738</td>\n",
       "      <td>359</td>\n",
       "    </tr>\n",
       "  </tbody>\n",
       "</table>\n",
       "<p>5 rows × 26 columns</p>\n",
       "</div>"
      ],
      "text/plain": [
       "  state  account_length  area_code phone_number  international_plan  \\\n",
       "0    KS             128        415     382-4657                   0   \n",
       "1    OH             107        415     371-7191                   0   \n",
       "2    NJ             137        415     358-1921                   0   \n",
       "3    OH              84        408     375-9999                   1   \n",
       "4    OK              75        415     330-6626                   1   \n",
       "\n",
       "   voice_mail_plan  number_vmail_messages  total_day_minutes  total_day_calls  \\\n",
       "0                1                     25              265.1              110   \n",
       "1                1                     26              161.6              123   \n",
       "2                0                      0              243.4              114   \n",
       "3                0                      0              299.4               71   \n",
       "4                0                      0              166.7              113   \n",
       "\n",
       "   total_day_charge  ...  total_intl_minutes  total_intl_calls  \\\n",
       "0             45.07  ...                10.0                 3   \n",
       "1             27.47  ...                13.7                 3   \n",
       "2             41.38  ...                12.2                 5   \n",
       "3             50.90  ...                 6.6                 7   \n",
       "4             28.34  ...                10.1                 3   \n",
       "\n",
       "   total_intl_charge  customer_service_calls  churn  total_charge  \\\n",
       "0               2.70                       1      0         75.56   \n",
       "1               3.70                       1      0         59.24   \n",
       "2               3.29                       0      0         62.29   \n",
       "3               1.78                       2      0         66.80   \n",
       "4               2.73                       3      0         52.09   \n",
       "\n",
       "   tenor_years  total_minutes  avg_price_per_min  total_calls  \n",
       "0           10          717.2           0.105354          303  \n",
       "1            8          625.2           0.094754          332  \n",
       "2           11          539.4           0.115480          333  \n",
       "3            7          564.8           0.118272          255  \n",
       "4            6          512.0           0.101738          359  \n",
       "\n",
       "[5 rows x 26 columns]"
      ]
     },
     "execution_count": 4,
     "metadata": {},
     "output_type": "execute_result"
    }
   ],
   "source": [
    "df.head()"
   ]
  },
  {
   "cell_type": "markdown",
   "metadata": {
    "heading_collapsed": true
   },
   "source": [
    "# Checking Correlation"
   ]
  },
  {
   "cell_type": "code",
   "execution_count": 5,
   "metadata": {
    "hidden": true
   },
   "outputs": [
    {
     "data": {
      "text/plain": [
       "<matplotlib.axes._subplots.AxesSubplot at 0x1a188777b8>"
      ]
     },
     "execution_count": 5,
     "metadata": {},
     "output_type": "execute_result"
    },
    {
     "data": {
      "image/png": "[encoded data removed]",
      "text/plain": [
       "<Figure size 792x648 with 2 Axes>"
      ]
     },
     "metadata": {},
     "output_type": "display_data"
    }
   ],
   "source": [
    "sns.set(style=\"white\")\n",
    "\n",
    "# Compute the correlation matrix\n",
    "corr = df.corr()\n",
    "\n",
    "# Generate a mask for the upper triangle\n",
    "mask = np.triu(np.ones_like(corr, dtype=np.bool))\n",
    "\n",
    "# Set up the matplotlib figure\n",
    "f, ax = plt.subplots(figsize=(11, 9))\n",
    "cmap = sns.diverging_palette(220, 10, as_cmap=True)\n",
    "\n",
    "# Draw the heatmap with the mask and correct aspect ratio\n",
    "sns.heatmap(corr,mask=mask,cmap=cmap, vmax=1,vmin=-1, center=0,square=True,\n",
    "            linewidths=.5)"
   ]
  },
  {
   "cell_type": "code",
   "execution_count": 388,
   "metadata": {
    "hidden": true
   },
   "outputs": [],
   "source": [
    "dfchurn = df.loc[df['churn']==True]"
   ]
  },
  {
   "cell_type": "code",
   "execution_count": 389,
   "metadata": {
    "hidden": true
   },
   "outputs": [
    {
     "data": {
      "text/plain": [
       "<matplotlib.axes._subplots.AxesSubplot at 0x1a23f0eeb8>"
      ]
     },
     "execution_count": 389,
     "metadata": {},
     "output_type": "execute_result"
    },
    {
     "data": {
      "image/png": "[encoded data removed]",
      "text/plain": [
       "<Figure size 792x648 with 2 Axes>"
      ]
     },
     "metadata": {},
     "output_type": "display_data"
    }
   ],
   "source": [
    "sns.set(style=\"white\")\n",
    "\n",
    "# Compute the correlation matrix\n",
    "corr = dfchurn.drop('churn',axis=1).corr()\n",
    "\n",
    "# Generate a mask for the upper triangle\n",
    "mask = np.triu(np.ones_like(corr, dtype=np.bool))\n",
    "\n",
    "# Set up the matplotlib figure\n",
    "f, ax = plt.subplots(figsize=(11, 9))\n",
    "cmap = sns.diverging_palette(220, 10, as_cmap=True)\n",
    "\n",
    "# Draw the heatmap with the mask and correct aspect ratio\n",
    "sns.heatmap(corr,cmap=cmap, vmax=1,vmin=-1, center=0,square=True,\n",
    "            linewidths=.5)"
   ]
  },
  {
   "cell_type": "markdown",
   "metadata": {},
   "source": [
    "# Getting Data Ready for Modelling"
   ]
  },
  {
   "cell_type": "code",
   "execution_count": 5,
   "metadata": {},
   "outputs": [
    {
     "data": {
      "text/plain": [
       "Index(['state', 'account_length', 'area_code', 'phone_number',\n",
       "       'international_plan', 'voice_mail_plan', 'number_vmail_messages',\n",
       "       'total_day_minutes', 'total_day_calls', 'total_day_charge',\n",
       "       'total_eve_minutes', 'total_eve_calls', 'total_eve_charge',\n",
       "       'total_night_minutes', 'total_night_calls', 'total_night_charge',\n",
       "       'total_intl_minutes', 'total_intl_calls', 'total_intl_charge',\n",
       "       'customer_service_calls', 'churn', 'total_charge', 'tenor_years',\n",
       "       'total_minutes', 'avg_price_per_min', 'total_calls'],\n",
       "      dtype='object')"
      ]
     },
     "execution_count": 5,
     "metadata": {},
     "output_type": "execute_result"
    }
   ],
   "source": [
    "df.columns"
   ]
  },
  {
   "cell_type": "code",
   "execution_count": 6,
   "metadata": {},
   "outputs": [],
   "source": [
    "cols =['international_plan','voice_mail_plan','total_day_minutes','total_eve_minutes','total_night_minutes',\n",
    " 'total_intl_minutes','total_intl_calls','customer_service_calls','total_charge','state']"
   ]
  },
  {
   "cell_type": "code",
   "execution_count": 7,
   "metadata": {},
   "outputs": [
    {
     "data": {
      "text/html": [
       "<div>\n",
       "<style scoped>\n",
       "    .dataframe tbody tr th:only-of-type {\n",
       "        vertical-align: middle;\n",
       "    }\n",
       "\n",
       "    .dataframe tbody tr th {\n",
       "        vertical-align: top;\n",
       "    }\n",
       "\n",
       "    .dataframe thead th {\n",
       "        text-align: right;\n",
       "    }\n",
       "</style>\n",
       "<table border=\"1\" class=\"dataframe\">\n",
       "  <thead>\n",
       "    <tr style=\"text-align: right;\">\n",
       "      <th></th>\n",
       "      <th>international_plan</th>\n",
       "      <th>voice_mail_plan</th>\n",
       "      <th>total_day_minutes</th>\n",
       "      <th>total_eve_minutes</th>\n",
       "      <th>total_night_minutes</th>\n",
       "      <th>total_intl_minutes</th>\n",
       "      <th>total_intl_calls</th>\n",
       "      <th>customer_service_calls</th>\n",
       "      <th>total_charge</th>\n",
       "      <th>state</th>\n",
       "    </tr>\n",
       "  </thead>\n",
       "  <tbody>\n",
       "    <tr>\n",
       "      <td>0</td>\n",
       "      <td>0</td>\n",
       "      <td>1</td>\n",
       "      <td>265.1</td>\n",
       "      <td>197.4</td>\n",
       "      <td>244.7</td>\n",
       "      <td>10.0</td>\n",
       "      <td>3</td>\n",
       "      <td>1</td>\n",
       "      <td>75.56</td>\n",
       "      <td>KS</td>\n",
       "    </tr>\n",
       "    <tr>\n",
       "      <td>1</td>\n",
       "      <td>0</td>\n",
       "      <td>1</td>\n",
       "      <td>161.6</td>\n",
       "      <td>195.5</td>\n",
       "      <td>254.4</td>\n",
       "      <td>13.7</td>\n",
       "      <td>3</td>\n",
       "      <td>1</td>\n",
       "      <td>59.24</td>\n",
       "      <td>OH</td>\n",
       "    </tr>\n",
       "    <tr>\n",
       "      <td>2</td>\n",
       "      <td>0</td>\n",
       "      <td>0</td>\n",
       "      <td>243.4</td>\n",
       "      <td>121.2</td>\n",
       "      <td>162.6</td>\n",
       "      <td>12.2</td>\n",
       "      <td>5</td>\n",
       "      <td>0</td>\n",
       "      <td>62.29</td>\n",
       "      <td>NJ</td>\n",
       "    </tr>\n",
       "    <tr>\n",
       "      <td>3</td>\n",
       "      <td>1</td>\n",
       "      <td>0</td>\n",
       "      <td>299.4</td>\n",
       "      <td>61.9</td>\n",
       "      <td>196.9</td>\n",
       "      <td>6.6</td>\n",
       "      <td>7</td>\n",
       "      <td>2</td>\n",
       "      <td>66.80</td>\n",
       "      <td>OH</td>\n",
       "    </tr>\n",
       "    <tr>\n",
       "      <td>4</td>\n",
       "      <td>1</td>\n",
       "      <td>0</td>\n",
       "      <td>166.7</td>\n",
       "      <td>148.3</td>\n",
       "      <td>186.9</td>\n",
       "      <td>10.1</td>\n",
       "      <td>3</td>\n",
       "      <td>3</td>\n",
       "      <td>52.09</td>\n",
       "      <td>OK</td>\n",
       "    </tr>\n",
       "  </tbody>\n",
       "</table>\n",
       "</div>"
      ],
      "text/plain": [
       "   international_plan  voice_mail_plan  total_day_minutes  total_eve_minutes  \\\n",
       "0                   0                1              265.1              197.4   \n",
       "1                   0                1              161.6              195.5   \n",
       "2                   0                0              243.4              121.2   \n",
       "3                   1                0              299.4               61.9   \n",
       "4                   1                0              166.7              148.3   \n",
       "\n",
       "   total_night_minutes  total_intl_minutes  total_intl_calls  \\\n",
       "0                244.7                10.0                 3   \n",
       "1                254.4                13.7                 3   \n",
       "2                162.6                12.2                 5   \n",
       "3                196.9                 6.6                 7   \n",
       "4                186.9                10.1                 3   \n",
       "\n",
       "   customer_service_calls  total_charge state  \n",
       "0                       1         75.56    KS  \n",
       "1                       1         59.24    OH  \n",
       "2                       0         62.29    NJ  \n",
       "3                       2         66.80    OH  \n",
       "4                       3         52.09    OK  "
      ]
     },
     "execution_count": 7,
     "metadata": {},
     "output_type": "execute_result"
    }
   ],
   "source": [
    "dfnew = df[cols]\n",
    "dfnew.head()"
   ]
  },
  {
   "cell_type": "code",
   "execution_count": 8,
   "metadata": {},
   "outputs": [],
   "source": [
    "dfnew = pd.get_dummies(dfnew)"
   ]
  },
  {
   "cell_type": "code",
   "execution_count": 9,
   "metadata": {},
   "outputs": [],
   "source": [
    "y = df['churn']\n",
    "X = dfnew"
   ]
  },
  {
   "cell_type": "code",
   "execution_count": 10,
   "metadata": {},
   "outputs": [],
   "source": [
    "X_train, X_test, y_train, y_test = train_test_split(X,y,test_size=0.2,stratify=df['churn'],random_state=100)"
   ]
  },
  {
   "cell_type": "markdown",
   "metadata": {},
   "source": [
    "# Dealing with class imbalance"
   ]
  },
  {
   "cell_type": "code",
   "execution_count": 11,
   "metadata": {},
   "outputs": [
    {
     "data": {
      "text/plain": [
       "0    2850\n",
       "1     483\n",
       "Name: churn, dtype: int64"
      ]
     },
     "execution_count": 11,
     "metadata": {},
     "output_type": "execute_result"
    }
   ],
   "source": [
    "y.value_counts()"
   ]
  },
  {
   "cell_type": "code",
   "execution_count": 12,
   "metadata": {},
   "outputs": [],
   "source": [
    "smote = SMOTE()"
   ]
  },
  {
   "cell_type": "code",
   "execution_count": 13,
   "metadata": {},
   "outputs": [],
   "source": [
    "X_train_smote , y_train_smote = smote.fit_sample(X_train,y_train)"
   ]
  },
  {
   "cell_type": "code",
   "execution_count": 14,
   "metadata": {},
   "outputs": [],
   "source": [
    "from collections import Counter"
   ]
  },
  {
   "cell_type": "code",
   "execution_count": 15,
   "metadata": {},
   "outputs": [],
   "source": [
    "y_train_smote_counter = Counter(y_train_smote)"
   ]
  },
  {
   "cell_type": "code",
   "execution_count": 16,
   "metadata": {},
   "outputs": [
    {
     "data": {
      "text/plain": [
       "(0    2280\n",
       " 1     386\n",
       " Name: churn, dtype: int64, Counter({0: 2280, 1: 2280}))"
      ]
     },
     "execution_count": 16,
     "metadata": {},
     "output_type": "execute_result"
    }
   ],
   "source": [
    "y_train.value_counts(), y_train_smote_counter"
   ]
  },
  {
   "cell_type": "code",
   "execution_count": 17,
   "metadata": {},
   "outputs": [
    {
     "name": "stdout",
     "output_type": "stream",
     "text": [
      "Pipeline(memory=None,\n",
      "         steps=[('ss',\n",
      "                 StandardScaler(copy=True, with_mean=True, with_std=True)),\n",
      "                ('logreg',\n",
      "                 LogisticRegression(C=1.0, class_weight=None, dual=False,\n",
      "                                    fit_intercept=True, intercept_scaling=1,\n",
      "                                    l1_ratio=None, max_iter=100,\n",
      "                                    multi_class='warn', n_jobs=None,\n",
      "                                    penalty='l2', random_state=None,\n",
      "                                    solver='liblinear', tol=0.0001, verbose=0,\n",
      "                                    warm_start=False))],\n",
      "         verbose=False)\n",
      "Pipeline(memory=None,\n",
      "         steps=[('ss',\n",
      "                 StandardScaler(copy=True, with_mean=True, with_std=True)),\n",
      "                ('RF',\n",
      "                 RandomForestClassifier(bootstrap=True, class_weight=None,\n",
      "                                        criterion='gini', max_depth=None,\n",
      "                                        max_features='auto',\n",
      "                                        max_leaf_nodes=None,\n",
      "                                        min_impurity_decrease=0.0,\n",
      "                                        min_impurity_split=None,\n",
      "                                        min_samples_leaf=1, min_samples_split=2,\n",
      "                                        min_weight_fraction_leaf=0.0,\n",
      "                                        n_estimators='warn', n_jobs=None,\n",
      "                                        oob_score=False, random_state=None,\n",
      "                                        verbose=0, warm_start=False))],\n",
      "         verbose=False)\n",
      "Pipeline(memory=None,\n",
      "         steps=[('ss',\n",
      "                 StandardScaler(copy=True, with_mean=True, with_std=True)),\n",
      "                ('xgb',\n",
      "                 XGBClassifier(base_score=0.5, booster='gbtree',\n",
      "                               colsample_bylevel=1, colsample_bynode=1,\n",
      "                               colsample_bytree=1, gamma=0, learning_rate=0.1,\n",
      "                               max_delta_step=0, max_depth=3,\n",
      "                               min_child_weight=1, missing=None,\n",
      "                               n_estimators=100, n_jobs=1, nthread=None,\n",
      "                               objective='binary:logistic', random_state=0,\n",
      "                               reg_alpha=0, reg_lambda=1, scale_pos_weight=1,\n",
      "                               seed=None, silent=None, subsample=1,\n",
      "                               verbosity=1))],\n",
      "         verbose=False)\n",
      "Logistic Regresion pipeline test accuracy: 0.760\n",
      "Random Forest pipeline test accuracy: 0.960\n",
      "XGBoost pipeline test accuracy: 0.981\n"
     ]
    }
   ],
   "source": [
    "\n",
    "## KEEP IT FOR NOW\n",
    "# Construct some pipelines\n",
    "logreg_pipeline = Pipeline([('ss', StandardScaler()), \n",
    "                              ('logreg',LogisticRegression(solver='liblinear'))])\n",
    "        \n",
    "rf_pipeline = Pipeline([('ss', StandardScaler()),('RF',RandomForestClassifier())])\n",
    "\n",
    "xgb_pipeline = Pipeline([('ss',StandardScaler()),('xgb',xgb.XGBClassifier(objective='binary:logistic'))])\n",
    "\n",
    "# List of pipelines and pipeline names\n",
    "pipelines = [logreg_pipeline,rf_pipeline,xgb_pipeline]\n",
    "pipeline_names = ['Logistic Regresion','Random Forest','XGBoost']\n",
    "\n",
    "# Loop to fit each of the three pipelines\n",
    "for pipe in pipelines:\n",
    "    print(pipe)\n",
    "    pipe.fit(X_train_smote, y_train_smote)\n",
    "\n",
    "# Compare accuracies\n",
    "for index, val in enumerate(pipelines):\n",
    "    print('%s pipeline test accuracy: %.3f' % (pipeline_names[index], val.score(X_test, y_test)))"
   ]
  },
  {
   "cell_type": "code",
   "execution_count": 21,
   "metadata": {},
   "outputs": [
    {
     "name": "stdout",
     "output_type": "stream",
     "text": [
      "Best accuracy: 0.968\n",
      "\n",
      "Best params:\n",
      " {'xgb__learning_rate': 0.05, 'xgb__max_depth': 7, 'xgb__n_estimators': 750, 'xgb__subsample': 1}\n"
     ]
    }
   ],
   "source": [
    "# Your code here\n",
    "# ⏰ This cell may take a long time to run!\n",
    "xgb_pipeline = Pipeline([('ss',StandardScaler()),('xgb',xgb.XGBClassifier(objective='binary:logistic'))])\n",
    "\n",
    "# Set grid search params\n",
    "params = {\n",
    "    \"xgb__learning_rate\": [0.001,0.05,0.01,0.1,0.5],\n",
    "    'xgb__max_depth': [3,5,7],\n",
    "    'xgb__subsample': [1],\n",
    "    'xgb__n_estimators': [5, 50, 100, 250,500,750],\n",
    "}\n",
    "\n",
    "# Construct grid search\n",
    "gs_rf = GridSearchCV(estimator=xgb_pipeline, \n",
    "                     param_grid=params, \n",
    "                     n_jobs=-1,\n",
    "                            scoring=make_scorer(recall_score),cv=5)\n",
    "\n",
    "# Fit using grid search\n",
    "gs_rf.fit(X_train_smote, y_train_smote)\n",
    "\n",
    "# Best accuracy\n",
    "print('Best accuracy: %.3f' % gs_rf.best_score_)\n",
    "\n",
    "# Best params\n",
    "print('\\nBest params:\\n', gs_rf.best_params_)"
   ]
  },
  {
   "cell_type": "code",
   "execution_count": 22,
   "metadata": {},
   "outputs": [],
   "source": [
    "xgb_best_smote = gs_rf.best_estimator_"
   ]
  },
  {
   "cell_type": "code",
   "execution_count": 24,
   "metadata": {},
   "outputs": [
    {
     "data": {
      "text/plain": [
       "(1.0, 0.9835082458770614, 1.0)"
      ]
     },
     "execution_count": 24,
     "metadata": {},
     "output_type": "execute_result"
    }
   ],
   "source": [
    "xgb_best_smote.score(X_train_smote,y_train_smote),xgb_best_smote.score(X_test,y_test),xgb_best_smote.score(X_train,y_train)"
   ]
  },
  {
   "cell_type": "code",
   "execution_count": 25,
   "metadata": {},
   "outputs": [],
   "source": [
    "xgb_preds_smote = xgb_best_smote.predict(X_test)"
   ]
  },
  {
   "cell_type": "code",
   "execution_count": 26,
   "metadata": {},
   "outputs": [
    {
     "name": "stdout",
     "output_type": "stream",
     "text": [
      "0.0 of False Negatives\n"
     ]
    },
    {
     "data": {
      "image/png": "[encoded data removed]",
      "text/plain": [
       "<Figure size 432x288 with 2 Axes>"
      ]
     },
     "metadata": {
      "needs_background": "light"
     },
     "output_type": "display_data"
    },
    {
     "name": "stdout",
     "output_type": "stream",
     "text": [
      "Precision Score: 1.0\n",
      "Recall Score: 1.0\n",
      "Accuracy Score: 1.0\n",
      "F1 Score: 1.0\n"
     ]
    }
   ],
   "source": [
    "plot_confusion_matrix(y_train_smote,xgb_best_smote.predict(X_train_smote),data='Train')\n",
    "print_metrics(y_train_smote,xgb_best_smote.predict(X_train_smote))"
   ]
  },
  {
   "cell_type": "code",
   "execution_count": 27,
   "metadata": {},
   "outputs": [
    {
     "name": "stdout",
     "output_type": "stream",
     "text": [
      "1.3493253373313343 of False Negatives\n"
     ]
    },
    {
     "data": {
      "image/png": "[encoded data removed]",
      "text/plain": [
       "<Figure size 432x288 with 2 Axes>"
      ]
     },
     "metadata": {
      "needs_background": "light"
     },
     "output_type": "display_data"
    },
    {
     "name": "stdout",
     "output_type": "stream",
     "text": [
      "Precision Score: 0.9777777777777777\n",
      "Recall Score: 0.9072164948453608\n",
      "Accuracy Score: 0.9835082458770614\n",
      "F1 Score: 0.9411764705882353\n"
     ]
    }
   ],
   "source": [
    "plot_confusion_matrix(y_test,xgb_preds_smote,data='Test')\n",
    "print_metrics(y_test,xgb_preds_smote)"
   ]
  },
  {
   "cell_type": "code",
   "execution_count": 28,
   "metadata": {},
   "outputs": [
    {
     "name": "stdout",
     "output_type": "stream",
     "text": [
      "0.27002700270027 of False Negatives\n"
     ]
    },
    {
     "data": {
      "image/png": "[encoded data removed]",
      "text/plain": [
       "<Figure size 432x288 with 2 Axes>"
      ]
     },
     "metadata": {
      "needs_background": "light"
     },
     "output_type": "display_data"
    },
    {
     "name": "stdout",
     "output_type": "stream",
     "text": [
      "Precision Score: 0.9957983193277311\n",
      "Recall Score: 0.9813664596273292\n",
      "Accuracy Score: 0.9966996699669967\n",
      "F1 Score: 0.9885297184567259\n"
     ]
    }
   ],
   "source": [
    "plot_confusion_matrix(y,xgb_best_smote.predict(X))\n",
    "print_metrics(y,xgb_best_smote.predict(X))"
   ]
  },
  {
   "cell_type": "code",
   "execution_count": 32,
   "metadata": {},
   "outputs": [
    {
     "name": "stdout",
     "output_type": "stream",
     "text": [
      "0.0 of False Negatives\n"
     ]
    },
    {
     "data": {
      "image/png": "[encoded data removed]",
      "text/plain": [
       "<Figure size 432x288 with 2 Axes>"
      ]
     },
     "metadata": {
      "needs_background": "light"
     },
     "output_type": "display_data"
    },
    {
     "name": "stdout",
     "output_type": "stream",
     "text": [
      "Precision Score: 1.0\n",
      "Recall Score: 1.0\n",
      "Accuracy Score: 1.0\n",
      "F1 Score: 1.0\n"
     ]
    }
   ],
   "source": [
    "plot_confusion_matrix(y_train,xgb_best_smote.predict(X_train))\n",
    "print_metrics(y_train,xgb_best_smote.predict(X_train))"
   ]
  },
  {
   "cell_type": "code",
   "execution_count": 40,
   "metadata": {},
   "outputs": [],
   "source": [
    "def plot_feature_importances(model):\n",
    "    n_features = X_train.shape[1]\n",
    "    plt.figure(figsize=(15,15))\n",
    "    plt.barh(range(n_features), model.feature_importances_, align='center') \n",
    "    plt.yticks(np.arange(n_features), X_train.columns.values) \n",
    "    plt.xlabel('Feature importance')\n",
    "    plt.ylabel('Feature')"
   ]
  },
  {
   "cell_type": "code",
   "execution_count": 41,
   "metadata": {},
   "outputs": [
    {
     "data": {
      "image/png": "[encoded data removed]",
      "text/plain": [
       "<Figure size 1080x1080 with 1 Axes>"
      ]
     },
     "metadata": {
      "needs_background": "light"
     },
     "output_type": "display_data"
    }
   ],
   "source": [
    "plot_feature_importances(xgb_best_smote[1])"
   ]
  },
  {
   "cell_type": "markdown",
   "metadata": {},
   "source": [
    "# Is there a threshold to reduce False Negatives?"
   ]
  },
  {
   "cell_type": "code",
   "execution_count": 45,
   "metadata": {},
   "outputs": [],
   "source": [
    "# let's try a 20% threshold to make our labels\n",
    "\n",
    "def xgb_labels(X_test, thresh=0.2):\n",
    "    \"\"\"\n",
    "    custom predict method\n",
    "    \"\"\"\n",
    "    probs = xgb_best_smote.predict_proba(X_test)[:, 1]\n",
    "    labels = []\n",
    "    for prob in probs:\n",
    "        if prob >= thresh:\n",
    "            labels.append(1)\n",
    "        else:\n",
    "            labels.append(0)\n",
    "    return labels"
   ]
  },
  {
   "cell_type": "code",
   "execution_count": 48,
   "metadata": {},
   "outputs": [
    {
     "name": "stdout",
     "output_type": "stream",
     "text": [
      "1.199400299850075 of False Negatives\n"
     ]
    },
    {
     "data": {
      "image/png": "[encoded data removed]",
      "text/plain": [
       "<Figure size 432x288 with 2 Axes>"
      ]
     },
     "metadata": {
      "needs_background": "light"
     },
     "output_type": "display_data"
    }
   ],
   "source": [
    "xgb_best_smote.predict_custom = xgb_labels\n",
    "new_labels = xgb_best_smote.predict_custom(X_test,thresh=0.1)\n",
    "plot_confusion_matrix(y_test, new_labels)"
   ]
  },
  {
   "cell_type": "code",
   "execution_count": 49,
   "metadata": {},
   "outputs": [],
   "source": [
    "xgb_best_smote.predict_custom = xgb_labels"
   ]
  },
  {
   "cell_type": "code",
   "execution_count": 50,
   "metadata": {},
   "outputs": [
    {
     "name": "stdout",
     "output_type": "stream",
     "text": [
      "1.3493253373313343 of False Negatives\n"
     ]
    },
    {
     "data": {
      "image/png": "[encoded data removed]",
      "text/plain": [
       "<Figure size 432x288 with 2 Axes>"
      ]
     },
     "metadata": {
      "needs_background": "light"
     },
     "output_type": "display_data"
    }
   ],
   "source": [
    "plot_confusion_matrix(y_test,xgb_preds_smote)"
   ]
  },
  {
   "cell_type": "code",
   "execution_count": 53,
   "metadata": {},
   "outputs": [
    {
     "name": "stdout",
     "output_type": "stream",
     "text": [
      "1.199400299850075 of False Negatives\n"
     ]
    },
    {
     "data": {
      "image/png": "[encoded data removed]",
      "text/plain": [
       "<Figure size 432x288 with 2 Axes>"
      ]
     },
     "metadata": {
      "needs_background": "light"
     },
     "output_type": "display_data"
    }
   ],
   "source": [
    "new_labels = xgb_best_smote.predict_custom(X_test,thresh=0.01)\n",
    "plot_confusion_matrix(y_test, new_labels)"
   ]
  },
  {
   "cell_type": "code",
   "execution_count": 54,
   "metadata": {},
   "outputs": [
    {
     "name": "stdout",
     "output_type": "stream",
     "text": [
      "1.199400299850075 of False Negatives\n"
     ]
    },
    {
     "data": {
      "image/png": "[encoded data removed]",
      "text/plain": [
       "<Figure size 432x288 with 2 Axes>"
      ]
     },
     "metadata": {
      "needs_background": "light"
     },
     "output_type": "display_data"
    }
   ],
   "source": [
    "new_labels = xgb_best_smote.predict_custom(X_test,thresh=0.008)\n",
    "plot_confusion_matrix(y_test, new_labels)"
   ]
  },
  {
   "cell_type": "markdown",
   "metadata": {},
   "source": [
    "IT is clear that as FN go to 0 , FP get extremely large. This is because our model predicts nearly everything as \n",
    "a churn - to make sure that we dont accidentally say they wont churn if they will\n",
    "This makes our model a bit redundant"
   ]
  },
  {
   "cell_type": "markdown",
   "metadata": {
    "heading_collapsed": true
   },
   "source": [
    "# Exploring the False Negatives for Test Set"
   ]
  },
  {
   "cell_type": "code",
   "execution_count": 55,
   "metadata": {
    "hidden": true
   },
   "outputs": [],
   "source": [
    "d = {'y_test':y_test,'y_pred':xgb_preds_smote}"
   ]
  },
  {
   "cell_type": "code",
   "execution_count": 56,
   "metadata": {
    "hidden": true
   },
   "outputs": [],
   "source": [
    "dfpreds = pd.DataFrame(data=d)"
   ]
  },
  {
   "cell_type": "code",
   "execution_count": 57,
   "metadata": {
    "hidden": true
   },
   "outputs": [],
   "source": [
    "dfpreds['correct'] = dfpreds['y_test']==dfpreds['y_pred']"
   ]
  },
  {
   "cell_type": "code",
   "execution_count": 58,
   "metadata": {
    "hidden": true
   },
   "outputs": [
    {
     "data": {
      "text/plain": [
       "True     656\n",
       "False     11\n",
       "Name: correct, dtype: int64"
      ]
     },
     "execution_count": 58,
     "metadata": {},
     "output_type": "execute_result"
    }
   ],
   "source": [
    "dfpreds['correct'].value_counts()"
   ]
  },
  {
   "cell_type": "code",
   "execution_count": 60,
   "metadata": {
    "hidden": true
   },
   "outputs": [],
   "source": [
    "dfcorrect = dfpreds.loc[(dfpreds['correct']==False)&(dfpreds['y_pred']==0)]"
   ]
  },
  {
   "cell_type": "code",
   "execution_count": 61,
   "metadata": {
    "hidden": true
   },
   "outputs": [],
   "source": [
    "indexlist = dfcorrect.index.values.tolist()  # an ndarray method, you probably shouldn't depend on this\n"
   ]
  },
  {
   "cell_type": "code",
   "execution_count": 62,
   "metadata": {
    "hidden": true
   },
   "outputs": [],
   "source": [
    "FN = dfcorrect.loc[dfcorrect['y_pred']==0]"
   ]
  },
  {
   "cell_type": "code",
   "execution_count": 63,
   "metadata": {
    "hidden": true,
    "scrolled": true
   },
   "outputs": [
    {
     "data": {
      "text/html": [
       "<div>\n",
       "<style scoped>\n",
       "    .dataframe tbody tr th:only-of-type {\n",
       "        vertical-align: middle;\n",
       "    }\n",
       "\n",
       "    .dataframe tbody tr th {\n",
       "        vertical-align: top;\n",
       "    }\n",
       "\n",
       "    .dataframe thead th {\n",
       "        text-align: right;\n",
       "    }\n",
       "</style>\n",
       "<table border=\"1\" class=\"dataframe\">\n",
       "  <thead>\n",
       "    <tr style=\"text-align: right;\">\n",
       "      <th></th>\n",
       "      <th>y_test</th>\n",
       "      <th>y_pred</th>\n",
       "      <th>correct</th>\n",
       "    </tr>\n",
       "  </thead>\n",
       "  <tbody>\n",
       "    <tr>\n",
       "      <td>2575</td>\n",
       "      <td>1</td>\n",
       "      <td>0</td>\n",
       "      <td>False</td>\n",
       "    </tr>\n",
       "    <tr>\n",
       "      <td>1939</td>\n",
       "      <td>1</td>\n",
       "      <td>0</td>\n",
       "      <td>False</td>\n",
       "    </tr>\n",
       "    <tr>\n",
       "      <td>2357</td>\n",
       "      <td>1</td>\n",
       "      <td>0</td>\n",
       "      <td>False</td>\n",
       "    </tr>\n",
       "    <tr>\n",
       "      <td>3070</td>\n",
       "      <td>1</td>\n",
       "      <td>0</td>\n",
       "      <td>False</td>\n",
       "    </tr>\n",
       "    <tr>\n",
       "      <td>1551</td>\n",
       "      <td>1</td>\n",
       "      <td>0</td>\n",
       "      <td>False</td>\n",
       "    </tr>\n",
       "    <tr>\n",
       "      <td>2377</td>\n",
       "      <td>1</td>\n",
       "      <td>0</td>\n",
       "      <td>False</td>\n",
       "    </tr>\n",
       "    <tr>\n",
       "      <td>2535</td>\n",
       "      <td>1</td>\n",
       "      <td>0</td>\n",
       "      <td>False</td>\n",
       "    </tr>\n",
       "    <tr>\n",
       "      <td>198</td>\n",
       "      <td>1</td>\n",
       "      <td>0</td>\n",
       "      <td>False</td>\n",
       "    </tr>\n",
       "    <tr>\n",
       "      <td>1030</td>\n",
       "      <td>1</td>\n",
       "      <td>0</td>\n",
       "      <td>False</td>\n",
       "    </tr>\n",
       "  </tbody>\n",
       "</table>\n",
       "</div>"
      ],
      "text/plain": [
       "      y_test  y_pred  correct\n",
       "2575       1       0    False\n",
       "1939       1       0    False\n",
       "2357       1       0    False\n",
       "3070       1       0    False\n",
       "1551       1       0    False\n",
       "2377       1       0    False\n",
       "2535       1       0    False\n",
       "198        1       0    False\n",
       "1030       1       0    False"
      ]
     },
     "execution_count": 63,
     "metadata": {},
     "output_type": "execute_result"
    }
   ],
   "source": [
    "FN"
   ]
  },
  {
   "cell_type": "code",
   "execution_count": 64,
   "metadata": {
    "hidden": true
   },
   "outputs": [
    {
     "data": {
      "text/plain": [
       "[2575, 1939, 2357, 3070, 1551, 2377, 2535, 198, 1030]"
      ]
     },
     "execution_count": 64,
     "metadata": {},
     "output_type": "execute_result"
    }
   ],
   "source": [
    "indexlist = FN.index.values.tolist()  # an ndarray method, you probably shouldn't depend on this\n",
    "indexlist"
   ]
  },
  {
   "cell_type": "code",
   "execution_count": 65,
   "metadata": {
    "hidden": true
   },
   "outputs": [],
   "source": [
    "dfFN = df.loc[indexlist]"
   ]
  },
  {
   "cell_type": "code",
   "execution_count": 66,
   "metadata": {
    "hidden": true
   },
   "outputs": [
    {
     "data": {
      "text/html": [
       "<div>\n",
       "<style scoped>\n",
       "    .dataframe tbody tr th:only-of-type {\n",
       "        vertical-align: middle;\n",
       "    }\n",
       "\n",
       "    .dataframe tbody tr th {\n",
       "        vertical-align: top;\n",
       "    }\n",
       "\n",
       "    .dataframe thead th {\n",
       "        text-align: right;\n",
       "    }\n",
       "</style>\n",
       "<table border=\"1\" class=\"dataframe\">\n",
       "  <thead>\n",
       "    <tr style=\"text-align: right;\">\n",
       "      <th></th>\n",
       "      <th>state</th>\n",
       "      <th>account_length</th>\n",
       "      <th>area_code</th>\n",
       "      <th>phone_number</th>\n",
       "      <th>international_plan</th>\n",
       "      <th>voice_mail_plan</th>\n",
       "      <th>number_vmail_messages</th>\n",
       "      <th>total_day_minutes</th>\n",
       "      <th>total_day_calls</th>\n",
       "      <th>total_day_charge</th>\n",
       "      <th>...</th>\n",
       "      <th>total_intl_minutes</th>\n",
       "      <th>total_intl_calls</th>\n",
       "      <th>total_intl_charge</th>\n",
       "      <th>customer_service_calls</th>\n",
       "      <th>churn</th>\n",
       "      <th>total_charge</th>\n",
       "      <th>tenor_years</th>\n",
       "      <th>total_minutes</th>\n",
       "      <th>avg_price_per_min</th>\n",
       "      <th>total_calls</th>\n",
       "    </tr>\n",
       "  </thead>\n",
       "  <tbody>\n",
       "    <tr>\n",
       "      <td>2575</td>\n",
       "      <td>MS</td>\n",
       "      <td>131</td>\n",
       "      <td>415</td>\n",
       "      <td>333-9002</td>\n",
       "      <td>0</td>\n",
       "      <td>0</td>\n",
       "      <td>0</td>\n",
       "      <td>131.6</td>\n",
       "      <td>95</td>\n",
       "      <td>22.37</td>\n",
       "      <td>...</td>\n",
       "      <td>15.5</td>\n",
       "      <td>3</td>\n",
       "      <td>4.19</td>\n",
       "      <td>1</td>\n",
       "      <td>1</td>\n",
       "      <td>53.10</td>\n",
       "      <td>10</td>\n",
       "      <td>577.6</td>\n",
       "      <td>0.091932</td>\n",
       "      <td>336</td>\n",
       "    </tr>\n",
       "    <tr>\n",
       "      <td>1939</td>\n",
       "      <td>AZ</td>\n",
       "      <td>113</td>\n",
       "      <td>510</td>\n",
       "      <td>403-9719</td>\n",
       "      <td>0</td>\n",
       "      <td>0</td>\n",
       "      <td>0</td>\n",
       "      <td>128.7</td>\n",
       "      <td>100</td>\n",
       "      <td>21.88</td>\n",
       "      <td>...</td>\n",
       "      <td>9.2</td>\n",
       "      <td>4</td>\n",
       "      <td>2.48</td>\n",
       "      <td>2</td>\n",
       "      <td>1</td>\n",
       "      <td>51.67</td>\n",
       "      <td>9</td>\n",
       "      <td>543.1</td>\n",
       "      <td>0.095139</td>\n",
       "      <td>306</td>\n",
       "    </tr>\n",
       "    <tr>\n",
       "      <td>2357</td>\n",
       "      <td>WI</td>\n",
       "      <td>153</td>\n",
       "      <td>510</td>\n",
       "      <td>349-3112</td>\n",
       "      <td>0</td>\n",
       "      <td>0</td>\n",
       "      <td>0</td>\n",
       "      <td>159.5</td>\n",
       "      <td>103</td>\n",
       "      <td>27.12</td>\n",
       "      <td>...</td>\n",
       "      <td>10.1</td>\n",
       "      <td>2</td>\n",
       "      <td>2.73</td>\n",
       "      <td>1</td>\n",
       "      <td>1</td>\n",
       "      <td>61.22</td>\n",
       "      <td>12</td>\n",
       "      <td>621.8</td>\n",
       "      <td>0.098456</td>\n",
       "      <td>321</td>\n",
       "    </tr>\n",
       "    <tr>\n",
       "      <td>3070</td>\n",
       "      <td>MD</td>\n",
       "      <td>154</td>\n",
       "      <td>510</td>\n",
       "      <td>411-2977</td>\n",
       "      <td>0</td>\n",
       "      <td>0</td>\n",
       "      <td>0</td>\n",
       "      <td>154.5</td>\n",
       "      <td>122</td>\n",
       "      <td>26.27</td>\n",
       "      <td>...</td>\n",
       "      <td>12.0</td>\n",
       "      <td>2</td>\n",
       "      <td>3.24</td>\n",
       "      <td>3</td>\n",
       "      <td>1</td>\n",
       "      <td>55.73</td>\n",
       "      <td>12</td>\n",
       "      <td>558.7</td>\n",
       "      <td>0.099749</td>\n",
       "      <td>300</td>\n",
       "    </tr>\n",
       "    <tr>\n",
       "      <td>1551</td>\n",
       "      <td>MI</td>\n",
       "      <td>225</td>\n",
       "      <td>415</td>\n",
       "      <td>371-2500</td>\n",
       "      <td>0</td>\n",
       "      <td>0</td>\n",
       "      <td>0</td>\n",
       "      <td>165.4</td>\n",
       "      <td>106</td>\n",
       "      <td>28.12</td>\n",
       "      <td>...</td>\n",
       "      <td>8.7</td>\n",
       "      <td>3</td>\n",
       "      <td>2.35</td>\n",
       "      <td>0</td>\n",
       "      <td>1</td>\n",
       "      <td>63.18</td>\n",
       "      <td>18</td>\n",
       "      <td>657.8</td>\n",
       "      <td>0.096047</td>\n",
       "      <td>311</td>\n",
       "    </tr>\n",
       "    <tr>\n",
       "      <td>2377</td>\n",
       "      <td>ND</td>\n",
       "      <td>101</td>\n",
       "      <td>415</td>\n",
       "      <td>364-5510</td>\n",
       "      <td>0</td>\n",
       "      <td>1</td>\n",
       "      <td>36</td>\n",
       "      <td>123.7</td>\n",
       "      <td>125</td>\n",
       "      <td>21.03</td>\n",
       "      <td>...</td>\n",
       "      <td>8.8</td>\n",
       "      <td>4</td>\n",
       "      <td>2.38</td>\n",
       "      <td>1</td>\n",
       "      <td>1</td>\n",
       "      <td>50.70</td>\n",
       "      <td>8</td>\n",
       "      <td>585.6</td>\n",
       "      <td>0.086578</td>\n",
       "      <td>362</td>\n",
       "    </tr>\n",
       "    <tr>\n",
       "      <td>2535</td>\n",
       "      <td>RI</td>\n",
       "      <td>125</td>\n",
       "      <td>408</td>\n",
       "      <td>410-3159</td>\n",
       "      <td>0</td>\n",
       "      <td>0</td>\n",
       "      <td>0</td>\n",
       "      <td>113.0</td>\n",
       "      <td>108</td>\n",
       "      <td>19.21</td>\n",
       "      <td>...</td>\n",
       "      <td>9.2</td>\n",
       "      <td>5</td>\n",
       "      <td>2.48</td>\n",
       "      <td>2</td>\n",
       "      <td>1</td>\n",
       "      <td>43.12</td>\n",
       "      <td>10</td>\n",
       "      <td>448.0</td>\n",
       "      <td>0.096250</td>\n",
       "      <td>281</td>\n",
       "    </tr>\n",
       "    <tr>\n",
       "      <td>198</td>\n",
       "      <td>ME</td>\n",
       "      <td>131</td>\n",
       "      <td>510</td>\n",
       "      <td>353-7292</td>\n",
       "      <td>1</td>\n",
       "      <td>1</td>\n",
       "      <td>26</td>\n",
       "      <td>292.9</td>\n",
       "      <td>101</td>\n",
       "      <td>49.79</td>\n",
       "      <td>...</td>\n",
       "      <td>13.8</td>\n",
       "      <td>7</td>\n",
       "      <td>3.73</td>\n",
       "      <td>4</td>\n",
       "      <td>1</td>\n",
       "      <td>81.98</td>\n",
       "      <td>10</td>\n",
       "      <td>761.7</td>\n",
       "      <td>0.107628</td>\n",
       "      <td>332</td>\n",
       "    </tr>\n",
       "    <tr>\n",
       "      <td>1030</td>\n",
       "      <td>VA</td>\n",
       "      <td>99</td>\n",
       "      <td>415</td>\n",
       "      <td>400-6257</td>\n",
       "      <td>0</td>\n",
       "      <td>1</td>\n",
       "      <td>42</td>\n",
       "      <td>216.0</td>\n",
       "      <td>125</td>\n",
       "      <td>36.72</td>\n",
       "      <td>...</td>\n",
       "      <td>9.3</td>\n",
       "      <td>4</td>\n",
       "      <td>2.51</td>\n",
       "      <td>2</td>\n",
       "      <td>1</td>\n",
       "      <td>68.68</td>\n",
       "      <td>8</td>\n",
       "      <td>673.1</td>\n",
       "      <td>0.102035</td>\n",
       "      <td>333</td>\n",
       "    </tr>\n",
       "  </tbody>\n",
       "</table>\n",
       "<p>9 rows × 26 columns</p>\n",
       "</div>"
      ],
      "text/plain": [
       "     state  account_length  area_code phone_number  international_plan  \\\n",
       "2575    MS             131        415     333-9002                   0   \n",
       "1939    AZ             113        510     403-9719                   0   \n",
       "2357    WI             153        510     349-3112                   0   \n",
       "3070    MD             154        510     411-2977                   0   \n",
       "1551    MI             225        415     371-2500                   0   \n",
       "2377    ND             101        415     364-5510                   0   \n",
       "2535    RI             125        408     410-3159                   0   \n",
       "198     ME             131        510     353-7292                   1   \n",
       "1030    VA              99        415     400-6257                   0   \n",
       "\n",
       "      voice_mail_plan  number_vmail_messages  total_day_minutes  \\\n",
       "2575                0                      0              131.6   \n",
       "1939                0                      0              128.7   \n",
       "2357                0                      0              159.5   \n",
       "3070                0                      0              154.5   \n",
       "1551                0                      0              165.4   \n",
       "2377                1                     36              123.7   \n",
       "2535                0                      0              113.0   \n",
       "198                 1                     26              292.9   \n",
       "1030                1                     42              216.0   \n",
       "\n",
       "      total_day_calls  total_day_charge  ...  total_intl_minutes  \\\n",
       "2575               95             22.37  ...                15.5   \n",
       "1939              100             21.88  ...                 9.2   \n",
       "2357              103             27.12  ...                10.1   \n",
       "3070              122             26.27  ...                12.0   \n",
       "1551              106             28.12  ...                 8.7   \n",
       "2377              125             21.03  ...                 8.8   \n",
       "2535              108             19.21  ...                 9.2   \n",
       "198               101             49.79  ...                13.8   \n",
       "1030              125             36.72  ...                 9.3   \n",
       "\n",
       "      total_intl_calls  total_intl_charge  customer_service_calls  churn  \\\n",
       "2575                 3               4.19                       1      1   \n",
       "1939                 4               2.48                       2      1   \n",
       "2357                 2               2.73                       1      1   \n",
       "3070                 2               3.24                       3      1   \n",
       "1551                 3               2.35                       0      1   \n",
       "2377                 4               2.38                       1      1   \n",
       "2535                 5               2.48                       2      1   \n",
       "198                  7               3.73                       4      1   \n",
       "1030                 4               2.51                       2      1   \n",
       "\n",
       "      total_charge  tenor_years  total_minutes  avg_price_per_min  total_calls  \n",
       "2575         53.10           10          577.6           0.091932          336  \n",
       "1939         51.67            9          543.1           0.095139          306  \n",
       "2357         61.22           12          621.8           0.098456          321  \n",
       "3070         55.73           12          558.7           0.099749          300  \n",
       "1551         63.18           18          657.8           0.096047          311  \n",
       "2377         50.70            8          585.6           0.086578          362  \n",
       "2535         43.12           10          448.0           0.096250          281  \n",
       "198          81.98           10          761.7           0.107628          332  \n",
       "1030         68.68            8          673.1           0.102035          333  \n",
       "\n",
       "[9 rows x 26 columns]"
      ]
     },
     "execution_count": 66,
     "metadata": {},
     "output_type": "execute_result"
    }
   ],
   "source": [
    "dfFN"
   ]
  },
  {
   "cell_type": "code",
   "execution_count": 67,
   "metadata": {
    "hidden": true
   },
   "outputs": [
    {
     "data": {
      "text/plain": [
       "58.448807017543864"
      ]
     },
     "execution_count": 67,
     "metadata": {},
     "output_type": "execute_result"
    }
   ],
   "source": [
    "df.loc[df['churn']==0]['total_charge'].mean()"
   ]
  },
  {
   "cell_type": "code",
   "execution_count": 68,
   "metadata": {
    "hidden": true
   },
   "outputs": [
    {
     "data": {
      "text/html": [
       "<div>\n",
       "<style scoped>\n",
       "    .dataframe tbody tr th:only-of-type {\n",
       "        vertical-align: middle;\n",
       "    }\n",
       "\n",
       "    .dataframe tbody tr th {\n",
       "        vertical-align: top;\n",
       "    }\n",
       "\n",
       "    .dataframe thead th {\n",
       "        text-align: right;\n",
       "    }\n",
       "</style>\n",
       "<table border=\"1\" class=\"dataframe\">\n",
       "  <thead>\n",
       "    <tr style=\"text-align: right;\">\n",
       "      <th></th>\n",
       "      <th>state</th>\n",
       "      <th>account_length</th>\n",
       "      <th>area_code</th>\n",
       "      <th>phone_number</th>\n",
       "      <th>international_plan</th>\n",
       "      <th>voice_mail_plan</th>\n",
       "      <th>number_vmail_messages</th>\n",
       "      <th>total_day_minutes</th>\n",
       "      <th>total_day_calls</th>\n",
       "      <th>total_day_charge</th>\n",
       "      <th>...</th>\n",
       "      <th>total_intl_minutes</th>\n",
       "      <th>total_intl_calls</th>\n",
       "      <th>total_intl_charge</th>\n",
       "      <th>customer_service_calls</th>\n",
       "      <th>churn</th>\n",
       "      <th>total_charge</th>\n",
       "      <th>tenor_years</th>\n",
       "      <th>total_minutes</th>\n",
       "      <th>avg_price_per_min</th>\n",
       "      <th>total_calls</th>\n",
       "    </tr>\n",
       "  </thead>\n",
       "  <tbody>\n",
       "    <tr>\n",
       "      <td>2575</td>\n",
       "      <td>MS</td>\n",
       "      <td>131</td>\n",
       "      <td>415</td>\n",
       "      <td>333-9002</td>\n",
       "      <td>0</td>\n",
       "      <td>0</td>\n",
       "      <td>0</td>\n",
       "      <td>131.6</td>\n",
       "      <td>95</td>\n",
       "      <td>22.37</td>\n",
       "      <td>...</td>\n",
       "      <td>15.5</td>\n",
       "      <td>3</td>\n",
       "      <td>4.19</td>\n",
       "      <td>1</td>\n",
       "      <td>1</td>\n",
       "      <td>53.10</td>\n",
       "      <td>10</td>\n",
       "      <td>577.6</td>\n",
       "      <td>0.091932</td>\n",
       "      <td>336</td>\n",
       "    </tr>\n",
       "    <tr>\n",
       "      <td>1939</td>\n",
       "      <td>AZ</td>\n",
       "      <td>113</td>\n",
       "      <td>510</td>\n",
       "      <td>403-9719</td>\n",
       "      <td>0</td>\n",
       "      <td>0</td>\n",
       "      <td>0</td>\n",
       "      <td>128.7</td>\n",
       "      <td>100</td>\n",
       "      <td>21.88</td>\n",
       "      <td>...</td>\n",
       "      <td>9.2</td>\n",
       "      <td>4</td>\n",
       "      <td>2.48</td>\n",
       "      <td>2</td>\n",
       "      <td>1</td>\n",
       "      <td>51.67</td>\n",
       "      <td>9</td>\n",
       "      <td>543.1</td>\n",
       "      <td>0.095139</td>\n",
       "      <td>306</td>\n",
       "    </tr>\n",
       "    <tr>\n",
       "      <td>3070</td>\n",
       "      <td>MD</td>\n",
       "      <td>154</td>\n",
       "      <td>510</td>\n",
       "      <td>411-2977</td>\n",
       "      <td>0</td>\n",
       "      <td>0</td>\n",
       "      <td>0</td>\n",
       "      <td>154.5</td>\n",
       "      <td>122</td>\n",
       "      <td>26.27</td>\n",
       "      <td>...</td>\n",
       "      <td>12.0</td>\n",
       "      <td>2</td>\n",
       "      <td>3.24</td>\n",
       "      <td>3</td>\n",
       "      <td>1</td>\n",
       "      <td>55.73</td>\n",
       "      <td>12</td>\n",
       "      <td>558.7</td>\n",
       "      <td>0.099749</td>\n",
       "      <td>300</td>\n",
       "    </tr>\n",
       "    <tr>\n",
       "      <td>2377</td>\n",
       "      <td>ND</td>\n",
       "      <td>101</td>\n",
       "      <td>415</td>\n",
       "      <td>364-5510</td>\n",
       "      <td>0</td>\n",
       "      <td>1</td>\n",
       "      <td>36</td>\n",
       "      <td>123.7</td>\n",
       "      <td>125</td>\n",
       "      <td>21.03</td>\n",
       "      <td>...</td>\n",
       "      <td>8.8</td>\n",
       "      <td>4</td>\n",
       "      <td>2.38</td>\n",
       "      <td>1</td>\n",
       "      <td>1</td>\n",
       "      <td>50.70</td>\n",
       "      <td>8</td>\n",
       "      <td>585.6</td>\n",
       "      <td>0.086578</td>\n",
       "      <td>362</td>\n",
       "    </tr>\n",
       "    <tr>\n",
       "      <td>2535</td>\n",
       "      <td>RI</td>\n",
       "      <td>125</td>\n",
       "      <td>408</td>\n",
       "      <td>410-3159</td>\n",
       "      <td>0</td>\n",
       "      <td>0</td>\n",
       "      <td>0</td>\n",
       "      <td>113.0</td>\n",
       "      <td>108</td>\n",
       "      <td>19.21</td>\n",
       "      <td>...</td>\n",
       "      <td>9.2</td>\n",
       "      <td>5</td>\n",
       "      <td>2.48</td>\n",
       "      <td>2</td>\n",
       "      <td>1</td>\n",
       "      <td>43.12</td>\n",
       "      <td>10</td>\n",
       "      <td>448.0</td>\n",
       "      <td>0.096250</td>\n",
       "      <td>281</td>\n",
       "    </tr>\n",
       "  </tbody>\n",
       "</table>\n",
       "<p>5 rows × 26 columns</p>\n",
       "</div>"
      ],
      "text/plain": [
       "     state  account_length  area_code phone_number  international_plan  \\\n",
       "2575    MS             131        415     333-9002                   0   \n",
       "1939    AZ             113        510     403-9719                   0   \n",
       "3070    MD             154        510     411-2977                   0   \n",
       "2377    ND             101        415     364-5510                   0   \n",
       "2535    RI             125        408     410-3159                   0   \n",
       "\n",
       "      voice_mail_plan  number_vmail_messages  total_day_minutes  \\\n",
       "2575                0                      0              131.6   \n",
       "1939                0                      0              128.7   \n",
       "3070                0                      0              154.5   \n",
       "2377                1                     36              123.7   \n",
       "2535                0                      0              113.0   \n",
       "\n",
       "      total_day_calls  total_day_charge  ...  total_intl_minutes  \\\n",
       "2575               95             22.37  ...                15.5   \n",
       "1939              100             21.88  ...                 9.2   \n",
       "3070              122             26.27  ...                12.0   \n",
       "2377              125             21.03  ...                 8.8   \n",
       "2535              108             19.21  ...                 9.2   \n",
       "\n",
       "      total_intl_calls  total_intl_charge  customer_service_calls  churn  \\\n",
       "2575                 3               4.19                       1      1   \n",
       "1939                 4               2.48                       2      1   \n",
       "3070                 2               3.24                       3      1   \n",
       "2377                 4               2.38                       1      1   \n",
       "2535                 5               2.48                       2      1   \n",
       "\n",
       "      total_charge  tenor_years  total_minutes  avg_price_per_min  total_calls  \n",
       "2575         53.10           10          577.6           0.091932          336  \n",
       "1939         51.67            9          543.1           0.095139          306  \n",
       "3070         55.73           12          558.7           0.099749          300  \n",
       "2377         50.70            8          585.6           0.086578          362  \n",
       "2535         43.12           10          448.0           0.096250          281  \n",
       "\n",
       "[5 rows x 26 columns]"
      ]
     },
     "execution_count": 68,
     "metadata": {},
     "output_type": "execute_result"
    }
   ],
   "source": [
    "dfFN.loc[dfFN['total_charge']<60]"
   ]
  },
  {
   "cell_type": "markdown",
   "metadata": {
    "hidden": true
   },
   "source": [
    "5 out of 9 data points had a total charge less than 60. This is the most important feature in our model and assumes charges above average will be more liekly to churn"
   ]
  },
  {
   "cell_type": "code",
   "execution_count": 69,
   "metadata": {
    "hidden": true
   },
   "outputs": [
    {
     "data": {
      "text/html": [
       "<div>\n",
       "<style scoped>\n",
       "    .dataframe tbody tr th:only-of-type {\n",
       "        vertical-align: middle;\n",
       "    }\n",
       "\n",
       "    .dataframe tbody tr th {\n",
       "        vertical-align: top;\n",
       "    }\n",
       "\n",
       "    .dataframe thead th {\n",
       "        text-align: right;\n",
       "    }\n",
       "</style>\n",
       "<table border=\"1\" class=\"dataframe\">\n",
       "  <thead>\n",
       "    <tr style=\"text-align: right;\">\n",
       "      <th></th>\n",
       "      <th>state</th>\n",
       "      <th>account_length</th>\n",
       "      <th>area_code</th>\n",
       "      <th>phone_number</th>\n",
       "      <th>international_plan</th>\n",
       "      <th>voice_mail_plan</th>\n",
       "      <th>number_vmail_messages</th>\n",
       "      <th>total_day_minutes</th>\n",
       "      <th>total_day_calls</th>\n",
       "      <th>total_day_charge</th>\n",
       "      <th>...</th>\n",
       "      <th>total_intl_minutes</th>\n",
       "      <th>total_intl_calls</th>\n",
       "      <th>total_intl_charge</th>\n",
       "      <th>customer_service_calls</th>\n",
       "      <th>churn</th>\n",
       "      <th>total_charge</th>\n",
       "      <th>tenor_years</th>\n",
       "      <th>total_minutes</th>\n",
       "      <th>avg_price_per_min</th>\n",
       "      <th>total_calls</th>\n",
       "    </tr>\n",
       "  </thead>\n",
       "  <tbody>\n",
       "    <tr>\n",
       "      <td>198</td>\n",
       "      <td>ME</td>\n",
       "      <td>131</td>\n",
       "      <td>510</td>\n",
       "      <td>353-7292</td>\n",
       "      <td>1</td>\n",
       "      <td>1</td>\n",
       "      <td>26</td>\n",
       "      <td>292.9</td>\n",
       "      <td>101</td>\n",
       "      <td>49.79</td>\n",
       "      <td>...</td>\n",
       "      <td>13.8</td>\n",
       "      <td>7</td>\n",
       "      <td>3.73</td>\n",
       "      <td>4</td>\n",
       "      <td>1</td>\n",
       "      <td>81.98</td>\n",
       "      <td>10</td>\n",
       "      <td>761.7</td>\n",
       "      <td>0.107628</td>\n",
       "      <td>332</td>\n",
       "    </tr>\n",
       "  </tbody>\n",
       "</table>\n",
       "<p>1 rows × 26 columns</p>\n",
       "</div>"
      ],
      "text/plain": [
       "    state  account_length  area_code phone_number  international_plan  \\\n",
       "198    ME             131        510     353-7292                   1   \n",
       "\n",
       "     voice_mail_plan  number_vmail_messages  total_day_minutes  \\\n",
       "198                1                     26              292.9   \n",
       "\n",
       "     total_day_calls  total_day_charge  ...  total_intl_minutes  \\\n",
       "198              101             49.79  ...                13.8   \n",
       "\n",
       "     total_intl_calls  total_intl_charge  customer_service_calls  churn  \\\n",
       "198                 7               3.73                       4      1   \n",
       "\n",
       "     total_charge  tenor_years  total_minutes  avg_price_per_min  total_calls  \n",
       "198         81.98           10          761.7           0.107628          332  \n",
       "\n",
       "[1 rows x 26 columns]"
      ]
     },
     "execution_count": 69,
     "metadata": {},
     "output_type": "execute_result"
    }
   ],
   "source": [
    "dfFN.loc[dfFN['customer_service_calls']>3]"
   ]
  },
  {
   "cell_type": "markdown",
   "metadata": {
    "hidden": true
   },
   "source": [
    "Only 1 out of the 9 False Negatives made more than 3 customer services calls\n",
    "- This shows that our model struggles to classify points when customers dont make a lot of customer service calls"
   ]
  },
  {
   "cell_type": "code",
   "execution_count": 70,
   "metadata": {
    "hidden": true
   },
   "outputs": [
    {
     "data": {
      "text/html": [
       "<div>\n",
       "<style scoped>\n",
       "    .dataframe tbody tr th:only-of-type {\n",
       "        vertical-align: middle;\n",
       "    }\n",
       "\n",
       "    .dataframe tbody tr th {\n",
       "        vertical-align: top;\n",
       "    }\n",
       "\n",
       "    .dataframe thead th {\n",
       "        text-align: right;\n",
       "    }\n",
       "</style>\n",
       "<table border=\"1\" class=\"dataframe\">\n",
       "  <thead>\n",
       "    <tr style=\"text-align: right;\">\n",
       "      <th></th>\n",
       "      <th>state</th>\n",
       "      <th>account_length</th>\n",
       "      <th>area_code</th>\n",
       "      <th>phone_number</th>\n",
       "      <th>international_plan</th>\n",
       "      <th>voice_mail_plan</th>\n",
       "      <th>number_vmail_messages</th>\n",
       "      <th>total_day_minutes</th>\n",
       "      <th>total_day_calls</th>\n",
       "      <th>total_day_charge</th>\n",
       "      <th>...</th>\n",
       "      <th>total_intl_minutes</th>\n",
       "      <th>total_intl_calls</th>\n",
       "      <th>total_intl_charge</th>\n",
       "      <th>customer_service_calls</th>\n",
       "      <th>churn</th>\n",
       "      <th>total_charge</th>\n",
       "      <th>tenor_years</th>\n",
       "      <th>total_minutes</th>\n",
       "      <th>avg_price_per_min</th>\n",
       "      <th>total_calls</th>\n",
       "    </tr>\n",
       "  </thead>\n",
       "  <tbody>\n",
       "    <tr>\n",
       "      <td>198</td>\n",
       "      <td>ME</td>\n",
       "      <td>131</td>\n",
       "      <td>510</td>\n",
       "      <td>353-7292</td>\n",
       "      <td>1</td>\n",
       "      <td>1</td>\n",
       "      <td>26</td>\n",
       "      <td>292.9</td>\n",
       "      <td>101</td>\n",
       "      <td>49.79</td>\n",
       "      <td>...</td>\n",
       "      <td>13.8</td>\n",
       "      <td>7</td>\n",
       "      <td>3.73</td>\n",
       "      <td>4</td>\n",
       "      <td>1</td>\n",
       "      <td>81.98</td>\n",
       "      <td>10</td>\n",
       "      <td>761.7</td>\n",
       "      <td>0.107628</td>\n",
       "      <td>332</td>\n",
       "    </tr>\n",
       "  </tbody>\n",
       "</table>\n",
       "<p>1 rows × 26 columns</p>\n",
       "</div>"
      ],
      "text/plain": [
       "    state  account_length  area_code phone_number  international_plan  \\\n",
       "198    ME             131        510     353-7292                   1   \n",
       "\n",
       "     voice_mail_plan  number_vmail_messages  total_day_minutes  \\\n",
       "198                1                     26              292.9   \n",
       "\n",
       "     total_day_calls  total_day_charge  ...  total_intl_minutes  \\\n",
       "198              101             49.79  ...                13.8   \n",
       "\n",
       "     total_intl_calls  total_intl_charge  customer_service_calls  churn  \\\n",
       "198                 7               3.73                       4      1   \n",
       "\n",
       "     total_charge  tenor_years  total_minutes  avg_price_per_min  total_calls  \n",
       "198         81.98           10          761.7           0.107628          332  \n",
       "\n",
       "[1 rows x 26 columns]"
      ]
     },
     "execution_count": 70,
     "metadata": {},
     "output_type": "execute_result"
    }
   ],
   "source": [
    "dfFN.loc[dfFN['international_plan']==1]"
   ]
  },
  {
   "cell_type": "markdown",
   "metadata": {
    "hidden": true
   },
   "source": [
    "Only 1 of the 9 values had an international plan.\n",
    "Again our model puts a lot of bias on international plans churning so this is why it is classified incorrectly"
   ]
  },
  {
   "cell_type": "markdown",
   "metadata": {
    "hidden": true
   },
   "source": [
    "## Conclusion:"
   ]
  },
  {
   "cell_type": "markdown",
   "metadata": {
    "hidden": true
   },
   "source": [
    "Looking at the False Negatives from our test set - that is we predicted them to stay and they churned, I wanted to see what these data points had in common\n",
    "\n",
    "8/9 of them had made less than 3 calls to customer service\n",
    "only 1/9 of them had an international plan\n",
    "5/9 paid less than the average charge for the whole dataset\n",
    "\n",
    "This leads me to belive that these points lie within the unpredictable - there is no partiular reason from a business case why they left, and is proabbly down to customer descretion and personal circumstances"
   ]
  },
  {
   "cell_type": "markdown",
   "metadata": {},
   "source": [
    "# Exploring False Negatives for Entire DataSet"
   ]
  },
  {
   "cell_type": "code",
   "execution_count": 71,
   "metadata": {},
   "outputs": [
    {
     "name": "stdout",
     "output_type": "stream",
     "text": [
      "0.27002700270027 of False Negatives\n"
     ]
    },
    {
     "data": {
      "image/png": "[encoded data removed]",
      "text/plain": [
       "<Figure size 432x288 with 2 Axes>"
      ]
     },
     "metadata": {
      "needs_background": "light"
     },
     "output_type": "display_data"
    },
    {
     "name": "stdout",
     "output_type": "stream",
     "text": [
      "Precision Score: 0.9957983193277311\n",
      "Recall Score: 0.9813664596273292\n",
      "Accuracy Score: 0.9966996699669967\n",
      "F1 Score: 0.9885297184567259\n"
     ]
    }
   ],
   "source": [
    "plot_confusion_matrix(y,xgb_best_smote.predict(X))\n",
    "print_metrics(y,xgb_best_smote.predict(X))"
   ]
  },
  {
   "cell_type": "code",
   "execution_count": 72,
   "metadata": {},
   "outputs": [],
   "source": [
    "d = {'y':y,'y_pred':xgb_best_smote.predict(X)}"
   ]
  },
  {
   "cell_type": "code",
   "execution_count": 73,
   "metadata": {},
   "outputs": [
    {
     "data": {
      "text/html": [
       "<div>\n",
       "<style scoped>\n",
       "    .dataframe tbody tr th:only-of-type {\n",
       "        vertical-align: middle;\n",
       "    }\n",
       "\n",
       "    .dataframe tbody tr th {\n",
       "        vertical-align: top;\n",
       "    }\n",
       "\n",
       "    .dataframe thead th {\n",
       "        text-align: right;\n",
       "    }\n",
       "</style>\n",
       "<table border=\"1\" class=\"dataframe\">\n",
       "  <thead>\n",
       "    <tr style=\"text-align: right;\">\n",
       "      <th></th>\n",
       "      <th>y</th>\n",
       "      <th>y_pred</th>\n",
       "    </tr>\n",
       "  </thead>\n",
       "  <tbody>\n",
       "    <tr>\n",
       "      <td>0</td>\n",
       "      <td>0</td>\n",
       "      <td>0</td>\n",
       "    </tr>\n",
       "    <tr>\n",
       "      <td>1</td>\n",
       "      <td>0</td>\n",
       "      <td>0</td>\n",
       "    </tr>\n",
       "    <tr>\n",
       "      <td>2</td>\n",
       "      <td>0</td>\n",
       "      <td>0</td>\n",
       "    </tr>\n",
       "    <tr>\n",
       "      <td>3</td>\n",
       "      <td>0</td>\n",
       "      <td>0</td>\n",
       "    </tr>\n",
       "    <tr>\n",
       "      <td>4</td>\n",
       "      <td>0</td>\n",
       "      <td>0</td>\n",
       "    </tr>\n",
       "    <tr>\n",
       "      <td>...</td>\n",
       "      <td>...</td>\n",
       "      <td>...</td>\n",
       "    </tr>\n",
       "    <tr>\n",
       "      <td>3328</td>\n",
       "      <td>0</td>\n",
       "      <td>0</td>\n",
       "    </tr>\n",
       "    <tr>\n",
       "      <td>3329</td>\n",
       "      <td>0</td>\n",
       "      <td>0</td>\n",
       "    </tr>\n",
       "    <tr>\n",
       "      <td>3330</td>\n",
       "      <td>0</td>\n",
       "      <td>0</td>\n",
       "    </tr>\n",
       "    <tr>\n",
       "      <td>3331</td>\n",
       "      <td>0</td>\n",
       "      <td>0</td>\n",
       "    </tr>\n",
       "    <tr>\n",
       "      <td>3332</td>\n",
       "      <td>0</td>\n",
       "      <td>0</td>\n",
       "    </tr>\n",
       "  </tbody>\n",
       "</table>\n",
       "<p>3333 rows × 2 columns</p>\n",
       "</div>"
      ],
      "text/plain": [
       "      y  y_pred\n",
       "0     0       0\n",
       "1     0       0\n",
       "2     0       0\n",
       "3     0       0\n",
       "4     0       0\n",
       "...  ..     ...\n",
       "3328  0       0\n",
       "3329  0       0\n",
       "3330  0       0\n",
       "3331  0       0\n",
       "3332  0       0\n",
       "\n",
       "[3333 rows x 2 columns]"
      ]
     },
     "execution_count": 73,
     "metadata": {},
     "output_type": "execute_result"
    }
   ],
   "source": [
    "dfpredswhole = pd.DataFrame(data=d)\n",
    "dfpredswhole"
   ]
  },
  {
   "cell_type": "code",
   "execution_count": 74,
   "metadata": {},
   "outputs": [],
   "source": [
    "dfpredswhole['correct'] = dfpredswhole['y']==dfpredswhole['y_pred']"
   ]
  },
  {
   "cell_type": "code",
   "execution_count": 75,
   "metadata": {},
   "outputs": [],
   "source": [
    "FN_whole = dfpredswhole.loc[(dfpredswhole['correct']==False) & (dfpredswhole['y_pred']==0)]"
   ]
  },
  {
   "cell_type": "code",
   "execution_count": 76,
   "metadata": {},
   "outputs": [
    {
     "data": {
      "text/plain": [
       "(9, 3)"
      ]
     },
     "execution_count": 76,
     "metadata": {},
     "output_type": "execute_result"
    }
   ],
   "source": [
    "FN_whole.shape"
   ]
  },
  {
   "cell_type": "code",
   "execution_count": 77,
   "metadata": {},
   "outputs": [],
   "source": [
    "indexlist = FN_whole.index.values.tolist() "
   ]
  },
  {
   "cell_type": "code",
   "execution_count": 78,
   "metadata": {},
   "outputs": [],
   "source": [
    "FN_whole_data = df.loc[indexlist]"
   ]
  },
  {
   "cell_type": "code",
   "execution_count": 79,
   "metadata": {},
   "outputs": [
    {
     "data": {
      "text/plain": [
       "58.448807017543864"
      ]
     },
     "execution_count": 79,
     "metadata": {},
     "output_type": "execute_result"
    }
   ],
   "source": [
    "df.loc[df['churn']==0]['total_charge'].mean()"
   ]
  },
  {
   "cell_type": "code",
   "execution_count": 80,
   "metadata": {},
   "outputs": [
    {
     "data": {
      "text/plain": [
       "(5, 26)"
      ]
     },
     "execution_count": 80,
     "metadata": {},
     "output_type": "execute_result"
    }
   ],
   "source": [
    "FN_whole_data.loc[FN_whole_data['total_charge']<60].shape"
   ]
  },
  {
   "cell_type": "markdown",
   "metadata": {},
   "source": [
    "26 out of the 48 data points had a total charge less than 60. This is the most important feature in our model and assumes charges above average will be more liekly to churn"
   ]
  },
  {
   "cell_type": "code",
   "execution_count": 81,
   "metadata": {},
   "outputs": [
    {
     "data": {
      "text/html": [
       "<div>\n",
       "<style scoped>\n",
       "    .dataframe tbody tr th:only-of-type {\n",
       "        vertical-align: middle;\n",
       "    }\n",
       "\n",
       "    .dataframe tbody tr th {\n",
       "        vertical-align: top;\n",
       "    }\n",
       "\n",
       "    .dataframe thead th {\n",
       "        text-align: right;\n",
       "    }\n",
       "</style>\n",
       "<table border=\"1\" class=\"dataframe\">\n",
       "  <thead>\n",
       "    <tr style=\"text-align: right;\">\n",
       "      <th></th>\n",
       "      <th>state</th>\n",
       "      <th>account_length</th>\n",
       "      <th>area_code</th>\n",
       "      <th>phone_number</th>\n",
       "      <th>international_plan</th>\n",
       "      <th>voice_mail_plan</th>\n",
       "      <th>number_vmail_messages</th>\n",
       "      <th>total_day_minutes</th>\n",
       "      <th>total_day_calls</th>\n",
       "      <th>total_day_charge</th>\n",
       "      <th>...</th>\n",
       "      <th>total_intl_minutes</th>\n",
       "      <th>total_intl_calls</th>\n",
       "      <th>total_intl_charge</th>\n",
       "      <th>customer_service_calls</th>\n",
       "      <th>churn</th>\n",
       "      <th>total_charge</th>\n",
       "      <th>tenor_years</th>\n",
       "      <th>total_minutes</th>\n",
       "      <th>avg_price_per_min</th>\n",
       "      <th>total_calls</th>\n",
       "    </tr>\n",
       "  </thead>\n",
       "  <tbody>\n",
       "    <tr>\n",
       "      <td>198</td>\n",
       "      <td>ME</td>\n",
       "      <td>131</td>\n",
       "      <td>510</td>\n",
       "      <td>353-7292</td>\n",
       "      <td>1</td>\n",
       "      <td>1</td>\n",
       "      <td>26</td>\n",
       "      <td>292.9</td>\n",
       "      <td>101</td>\n",
       "      <td>49.79</td>\n",
       "      <td>...</td>\n",
       "      <td>13.8</td>\n",
       "      <td>7</td>\n",
       "      <td>3.73</td>\n",
       "      <td>4</td>\n",
       "      <td>1</td>\n",
       "      <td>81.98</td>\n",
       "      <td>10</td>\n",
       "      <td>761.7</td>\n",
       "      <td>0.107628</td>\n",
       "      <td>332</td>\n",
       "    </tr>\n",
       "  </tbody>\n",
       "</table>\n",
       "<p>1 rows × 26 columns</p>\n",
       "</div>"
      ],
      "text/plain": [
       "    state  account_length  area_code phone_number  international_plan  \\\n",
       "198    ME             131        510     353-7292                   1   \n",
       "\n",
       "     voice_mail_plan  number_vmail_messages  total_day_minutes  \\\n",
       "198                1                     26              292.9   \n",
       "\n",
       "     total_day_calls  total_day_charge  ...  total_intl_minutes  \\\n",
       "198              101             49.79  ...                13.8   \n",
       "\n",
       "     total_intl_calls  total_intl_charge  customer_service_calls  churn  \\\n",
       "198                 7               3.73                       4      1   \n",
       "\n",
       "     total_charge  tenor_years  total_minutes  avg_price_per_min  total_calls  \n",
       "198         81.98           10          761.7           0.107628          332  \n",
       "\n",
       "[1 rows x 26 columns]"
      ]
     },
     "execution_count": 81,
     "metadata": {},
     "output_type": "execute_result"
    }
   ],
   "source": [
    "FN_whole_data.loc[FN_whole_data['customer_service_calls']>3]"
   ]
  },
  {
   "cell_type": "markdown",
   "metadata": {},
   "source": [
    "Only 1 out of the 48 False Negatives made more than 3 customer services calls\n",
    "- This shows that our model struggles to classify points when customers dont make a lot of customer service calls"
   ]
  },
  {
   "cell_type": "code",
   "execution_count": 262,
   "metadata": {},
   "outputs": [
    {
     "data": {
      "text/html": [
       "<div>\n",
       "<style scoped>\n",
       "    .dataframe tbody tr th:only-of-type {\n",
       "        vertical-align: middle;\n",
       "    }\n",
       "\n",
       "    .dataframe tbody tr th {\n",
       "        vertical-align: top;\n",
       "    }\n",
       "\n",
       "    .dataframe thead th {\n",
       "        text-align: right;\n",
       "    }\n",
       "</style>\n",
       "<table border=\"1\" class=\"dataframe\">\n",
       "  <thead>\n",
       "    <tr style=\"text-align: right;\">\n",
       "      <th></th>\n",
       "      <th>index</th>\n",
       "      <th>state</th>\n",
       "      <th>account_length</th>\n",
       "      <th>area_code</th>\n",
       "      <th>phone_number</th>\n",
       "      <th>international_plan</th>\n",
       "      <th>voice_mail_plan</th>\n",
       "      <th>number_vmail_messages</th>\n",
       "      <th>total_day_minutes</th>\n",
       "      <th>total_day_calls</th>\n",
       "      <th>...</th>\n",
       "      <th>total_intl_minutes</th>\n",
       "      <th>total_intl_calls</th>\n",
       "      <th>total_intl_charge</th>\n",
       "      <th>customer_service_calls</th>\n",
       "      <th>churn</th>\n",
       "      <th>total_charge</th>\n",
       "      <th>tenor_years</th>\n",
       "      <th>total_minutes</th>\n",
       "      <th>avg_price_per_min</th>\n",
       "      <th>total_calls</th>\n",
       "    </tr>\n",
       "  </thead>\n",
       "  <tbody>\n",
       "    <tr>\n",
       "      <td>198</td>\n",
       "      <td>198</td>\n",
       "      <td>ME</td>\n",
       "      <td>131</td>\n",
       "      <td>510</td>\n",
       "      <td>353-7292</td>\n",
       "      <td>1</td>\n",
       "      <td>1</td>\n",
       "      <td>26</td>\n",
       "      <td>292.9</td>\n",
       "      <td>101</td>\n",
       "      <td>...</td>\n",
       "      <td>13.8</td>\n",
       "      <td>7</td>\n",
       "      <td>3.73</td>\n",
       "      <td>4</td>\n",
       "      <td>1</td>\n",
       "      <td>81.98</td>\n",
       "      <td>10</td>\n",
       "      <td>761.7</td>\n",
       "      <td>0.107628</td>\n",
       "      <td>332</td>\n",
       "    </tr>\n",
       "  </tbody>\n",
       "</table>\n",
       "<p>1 rows × 27 columns</p>\n",
       "</div>"
      ],
      "text/plain": [
       "     index state  account_length  area_code phone_number  international_plan  \\\n",
       "198    198    ME             131        510     353-7292                   1   \n",
       "\n",
       "     voice_mail_plan  number_vmail_messages  total_day_minutes  \\\n",
       "198                1                     26              292.9   \n",
       "\n",
       "     total_day_calls  ...  total_intl_minutes  total_intl_calls  \\\n",
       "198              101  ...                13.8                 7   \n",
       "\n",
       "     total_intl_charge  customer_service_calls  churn  total_charge  \\\n",
       "198               3.73                       4      1         81.98   \n",
       "\n",
       "     tenor_years  total_minutes  avg_price_per_min  total_calls  \n",
       "198           10          761.7           0.107628          332  \n",
       "\n",
       "[1 rows x 27 columns]"
      ]
     },
     "execution_count": 262,
     "metadata": {},
     "output_type": "execute_result"
    }
   ],
   "source": [
    "FN_whole_data.loc[FN_whole_data['international_plan']==1]"
   ]
  },
  {
   "cell_type": "markdown",
   "metadata": {},
   "source": [
    "Only 1 of the 48 values had an international plan.\n",
    "Again our model puts a lot of bias on international plans churning so this is why it is classified incorrectly"
   ]
  },
  {
   "cell_type": "code",
   "execution_count": 264,
   "metadata": {},
   "outputs": [
    {
     "data": {
      "text/html": [
       "<div>\n",
       "<style scoped>\n",
       "    .dataframe tbody tr th:only-of-type {\n",
       "        vertical-align: middle;\n",
       "    }\n",
       "\n",
       "    .dataframe tbody tr th {\n",
       "        vertical-align: top;\n",
       "    }\n",
       "\n",
       "    .dataframe thead th {\n",
       "        text-align: right;\n",
       "    }\n",
       "</style>\n",
       "<table border=\"1\" class=\"dataframe\">\n",
       "  <thead>\n",
       "    <tr style=\"text-align: right;\">\n",
       "      <th></th>\n",
       "      <th>index</th>\n",
       "      <th>state</th>\n",
       "      <th>account_length</th>\n",
       "      <th>area_code</th>\n",
       "      <th>phone_number</th>\n",
       "      <th>international_plan</th>\n",
       "      <th>voice_mail_plan</th>\n",
       "      <th>number_vmail_messages</th>\n",
       "      <th>total_day_minutes</th>\n",
       "      <th>total_day_calls</th>\n",
       "      <th>...</th>\n",
       "      <th>total_intl_minutes</th>\n",
       "      <th>total_intl_calls</th>\n",
       "      <th>total_intl_charge</th>\n",
       "      <th>customer_service_calls</th>\n",
       "      <th>churn</th>\n",
       "      <th>total_charge</th>\n",
       "      <th>tenor_years</th>\n",
       "      <th>total_minutes</th>\n",
       "      <th>avg_price_per_min</th>\n",
       "      <th>total_calls</th>\n",
       "    </tr>\n",
       "  </thead>\n",
       "  <tbody>\n",
       "    <tr>\n",
       "      <td>57</td>\n",
       "      <td>57</td>\n",
       "      <td>CO</td>\n",
       "      <td>121</td>\n",
       "      <td>408</td>\n",
       "      <td>370-7574</td>\n",
       "      <td>0</td>\n",
       "      <td>1</td>\n",
       "      <td>30</td>\n",
       "      <td>198.4</td>\n",
       "      <td>129</td>\n",
       "      <td>...</td>\n",
       "      <td>5.8</td>\n",
       "      <td>3</td>\n",
       "      <td>1.57</td>\n",
       "      <td>3</td>\n",
       "      <td>1</td>\n",
       "      <td>49.85</td>\n",
       "      <td>10</td>\n",
       "      <td>460.7</td>\n",
       "      <td>0.108205</td>\n",
       "      <td>286</td>\n",
       "    </tr>\n",
       "    <tr>\n",
       "      <td>198</td>\n",
       "      <td>198</td>\n",
       "      <td>ME</td>\n",
       "      <td>131</td>\n",
       "      <td>510</td>\n",
       "      <td>353-7292</td>\n",
       "      <td>1</td>\n",
       "      <td>1</td>\n",
       "      <td>26</td>\n",
       "      <td>292.9</td>\n",
       "      <td>101</td>\n",
       "      <td>...</td>\n",
       "      <td>13.8</td>\n",
       "      <td>7</td>\n",
       "      <td>3.73</td>\n",
       "      <td>4</td>\n",
       "      <td>1</td>\n",
       "      <td>81.98</td>\n",
       "      <td>10</td>\n",
       "      <td>761.7</td>\n",
       "      <td>0.107628</td>\n",
       "      <td>332</td>\n",
       "    </tr>\n",
       "    <tr>\n",
       "      <td>277</td>\n",
       "      <td>277</td>\n",
       "      <td>SD</td>\n",
       "      <td>144</td>\n",
       "      <td>408</td>\n",
       "      <td>339-3049</td>\n",
       "      <td>0</td>\n",
       "      <td>1</td>\n",
       "      <td>48</td>\n",
       "      <td>189.8</td>\n",
       "      <td>96</td>\n",
       "      <td>...</td>\n",
       "      <td>6.5</td>\n",
       "      <td>2</td>\n",
       "      <td>1.76</td>\n",
       "      <td>2</td>\n",
       "      <td>1</td>\n",
       "      <td>54.16</td>\n",
       "      <td>12</td>\n",
       "      <td>533.9</td>\n",
       "      <td>0.101442</td>\n",
       "      <td>271</td>\n",
       "    </tr>\n",
       "    <tr>\n",
       "      <td>466</td>\n",
       "      <td>466</td>\n",
       "      <td>FL</td>\n",
       "      <td>132</td>\n",
       "      <td>510</td>\n",
       "      <td>334-9505</td>\n",
       "      <td>0</td>\n",
       "      <td>1</td>\n",
       "      <td>36</td>\n",
       "      <td>226.2</td>\n",
       "      <td>103</td>\n",
       "      <td>...</td>\n",
       "      <td>10.5</td>\n",
       "      <td>5</td>\n",
       "      <td>2.84</td>\n",
       "      <td>3</td>\n",
       "      <td>1</td>\n",
       "      <td>68.38</td>\n",
       "      <td>11</td>\n",
       "      <td>677.1</td>\n",
       "      <td>0.100990</td>\n",
       "      <td>335</td>\n",
       "    </tr>\n",
       "    <tr>\n",
       "      <td>892</td>\n",
       "      <td>892</td>\n",
       "      <td>LA</td>\n",
       "      <td>109</td>\n",
       "      <td>415</td>\n",
       "      <td>395-6195</td>\n",
       "      <td>0</td>\n",
       "      <td>1</td>\n",
       "      <td>27</td>\n",
       "      <td>166.9</td>\n",
       "      <td>85</td>\n",
       "      <td>...</td>\n",
       "      <td>12.3</td>\n",
       "      <td>4</td>\n",
       "      <td>3.32</td>\n",
       "      <td>1</td>\n",
       "      <td>1</td>\n",
       "      <td>59.37</td>\n",
       "      <td>9</td>\n",
       "      <td>597.7</td>\n",
       "      <td>0.099331</td>\n",
       "      <td>278</td>\n",
       "    </tr>\n",
       "    <tr>\n",
       "      <td>968</td>\n",
       "      <td>968</td>\n",
       "      <td>NM</td>\n",
       "      <td>122</td>\n",
       "      <td>408</td>\n",
       "      <td>370-9755</td>\n",
       "      <td>0</td>\n",
       "      <td>1</td>\n",
       "      <td>33</td>\n",
       "      <td>174.9</td>\n",
       "      <td>103</td>\n",
       "      <td>...</td>\n",
       "      <td>13.5</td>\n",
       "      <td>3</td>\n",
       "      <td>3.65</td>\n",
       "      <td>1</td>\n",
       "      <td>1</td>\n",
       "      <td>61.89</td>\n",
       "      <td>10</td>\n",
       "      <td>601.2</td>\n",
       "      <td>0.102944</td>\n",
       "      <td>327</td>\n",
       "    </tr>\n",
       "    <tr>\n",
       "      <td>1030</td>\n",
       "      <td>1030</td>\n",
       "      <td>VA</td>\n",
       "      <td>99</td>\n",
       "      <td>415</td>\n",
       "      <td>400-6257</td>\n",
       "      <td>0</td>\n",
       "      <td>1</td>\n",
       "      <td>42</td>\n",
       "      <td>216.0</td>\n",
       "      <td>125</td>\n",
       "      <td>...</td>\n",
       "      <td>9.3</td>\n",
       "      <td>4</td>\n",
       "      <td>2.51</td>\n",
       "      <td>2</td>\n",
       "      <td>1</td>\n",
       "      <td>68.68</td>\n",
       "      <td>8</td>\n",
       "      <td>673.1</td>\n",
       "      <td>0.102035</td>\n",
       "      <td>333</td>\n",
       "    </tr>\n",
       "    <tr>\n",
       "      <td>1254</td>\n",
       "      <td>1254</td>\n",
       "      <td>MN</td>\n",
       "      <td>62</td>\n",
       "      <td>510</td>\n",
       "      <td>390-9811</td>\n",
       "      <td>0</td>\n",
       "      <td>1</td>\n",
       "      <td>33</td>\n",
       "      <td>186.4</td>\n",
       "      <td>84</td>\n",
       "      <td>...</td>\n",
       "      <td>11.1</td>\n",
       "      <td>3</td>\n",
       "      <td>3.00</td>\n",
       "      <td>2</td>\n",
       "      <td>1</td>\n",
       "      <td>64.68</td>\n",
       "      <td>5</td>\n",
       "      <td>685.2</td>\n",
       "      <td>0.094396</td>\n",
       "      <td>326</td>\n",
       "    </tr>\n",
       "    <tr>\n",
       "      <td>1263</td>\n",
       "      <td>1263</td>\n",
       "      <td>MA</td>\n",
       "      <td>40</td>\n",
       "      <td>408</td>\n",
       "      <td>351-7005</td>\n",
       "      <td>0</td>\n",
       "      <td>1</td>\n",
       "      <td>31</td>\n",
       "      <td>224.7</td>\n",
       "      <td>69</td>\n",
       "      <td>...</td>\n",
       "      <td>7.5</td>\n",
       "      <td>5</td>\n",
       "      <td>2.03</td>\n",
       "      <td>1</td>\n",
       "      <td>1</td>\n",
       "      <td>57.07</td>\n",
       "      <td>3</td>\n",
       "      <td>487.0</td>\n",
       "      <td>0.117187</td>\n",
       "      <td>259</td>\n",
       "    </tr>\n",
       "    <tr>\n",
       "      <td>1454</td>\n",
       "      <td>1454</td>\n",
       "      <td>UT</td>\n",
       "      <td>133</td>\n",
       "      <td>408</td>\n",
       "      <td>398-8745</td>\n",
       "      <td>0</td>\n",
       "      <td>1</td>\n",
       "      <td>44</td>\n",
       "      <td>174.0</td>\n",
       "      <td>80</td>\n",
       "      <td>...</td>\n",
       "      <td>14.1</td>\n",
       "      <td>7</td>\n",
       "      <td>3.81</td>\n",
       "      <td>2</td>\n",
       "      <td>1</td>\n",
       "      <td>61.27</td>\n",
       "      <td>11</td>\n",
       "      <td>621.6</td>\n",
       "      <td>0.098568</td>\n",
       "      <td>287</td>\n",
       "    </tr>\n",
       "    <tr>\n",
       "      <td>1850</td>\n",
       "      <td>1850</td>\n",
       "      <td>NC</td>\n",
       "      <td>162</td>\n",
       "      <td>408</td>\n",
       "      <td>340-1876</td>\n",
       "      <td>0</td>\n",
       "      <td>1</td>\n",
       "      <td>26</td>\n",
       "      <td>179.7</td>\n",
       "      <td>144</td>\n",
       "      <td>...</td>\n",
       "      <td>9.3</td>\n",
       "      <td>8</td>\n",
       "      <td>2.51</td>\n",
       "      <td>1</td>\n",
       "      <td>1</td>\n",
       "      <td>61.15</td>\n",
       "      <td>13</td>\n",
       "      <td>619.4</td>\n",
       "      <td>0.098725</td>\n",
       "      <td>386</td>\n",
       "    </tr>\n",
       "    <tr>\n",
       "      <td>2377</td>\n",
       "      <td>2377</td>\n",
       "      <td>ND</td>\n",
       "      <td>101</td>\n",
       "      <td>415</td>\n",
       "      <td>364-5510</td>\n",
       "      <td>0</td>\n",
       "      <td>1</td>\n",
       "      <td>36</td>\n",
       "      <td>123.7</td>\n",
       "      <td>125</td>\n",
       "      <td>...</td>\n",
       "      <td>8.8</td>\n",
       "      <td>4</td>\n",
       "      <td>2.38</td>\n",
       "      <td>1</td>\n",
       "      <td>1</td>\n",
       "      <td>50.70</td>\n",
       "      <td>8</td>\n",
       "      <td>585.6</td>\n",
       "      <td>0.086578</td>\n",
       "      <td>362</td>\n",
       "    </tr>\n",
       "    <tr>\n",
       "      <td>2405</td>\n",
       "      <td>2405</td>\n",
       "      <td>ID</td>\n",
       "      <td>92</td>\n",
       "      <td>415</td>\n",
       "      <td>333-4594</td>\n",
       "      <td>0</td>\n",
       "      <td>1</td>\n",
       "      <td>29</td>\n",
       "      <td>201.3</td>\n",
       "      <td>130</td>\n",
       "      <td>...</td>\n",
       "      <td>6.4</td>\n",
       "      <td>6</td>\n",
       "      <td>1.73</td>\n",
       "      <td>1</td>\n",
       "      <td>1</td>\n",
       "      <td>59.11</td>\n",
       "      <td>7</td>\n",
       "      <td>541.3</td>\n",
       "      <td>0.109200</td>\n",
       "      <td>364</td>\n",
       "    </tr>\n",
       "    <tr>\n",
       "      <td>2745</td>\n",
       "      <td>2745</td>\n",
       "      <td>PA</td>\n",
       "      <td>61</td>\n",
       "      <td>408</td>\n",
       "      <td>343-1347</td>\n",
       "      <td>0</td>\n",
       "      <td>1</td>\n",
       "      <td>40</td>\n",
       "      <td>105.0</td>\n",
       "      <td>78</td>\n",
       "      <td>...</td>\n",
       "      <td>10.2</td>\n",
       "      <td>2</td>\n",
       "      <td>2.75</td>\n",
       "      <td>2</td>\n",
       "      <td>1</td>\n",
       "      <td>43.78</td>\n",
       "      <td>5</td>\n",
       "      <td>469.9</td>\n",
       "      <td>0.093169</td>\n",
       "      <td>295</td>\n",
       "    </tr>\n",
       "    <tr>\n",
       "      <td>2865</td>\n",
       "      <td>2865</td>\n",
       "      <td>NH</td>\n",
       "      <td>97</td>\n",
       "      <td>408</td>\n",
       "      <td>328-9267</td>\n",
       "      <td>0</td>\n",
       "      <td>1</td>\n",
       "      <td>32</td>\n",
       "      <td>90.0</td>\n",
       "      <td>87</td>\n",
       "      <td>...</td>\n",
       "      <td>8.6</td>\n",
       "      <td>6</td>\n",
       "      <td>2.32</td>\n",
       "      <td>2</td>\n",
       "      <td>1</td>\n",
       "      <td>49.44</td>\n",
       "      <td>8</td>\n",
       "      <td>560.1</td>\n",
       "      <td>0.088270</td>\n",
       "      <td>313</td>\n",
       "    </tr>\n",
       "    <tr>\n",
       "      <td>2972</td>\n",
       "      <td>2972</td>\n",
       "      <td>MT</td>\n",
       "      <td>147</td>\n",
       "      <td>415</td>\n",
       "      <td>408-8269</td>\n",
       "      <td>0</td>\n",
       "      <td>1</td>\n",
       "      <td>35</td>\n",
       "      <td>197.3</td>\n",
       "      <td>134</td>\n",
       "      <td>...</td>\n",
       "      <td>10.1</td>\n",
       "      <td>4</td>\n",
       "      <td>2.73</td>\n",
       "      <td>2</td>\n",
       "      <td>1</td>\n",
       "      <td>57.80</td>\n",
       "      <td>12</td>\n",
       "      <td>560.6</td>\n",
       "      <td>0.103104</td>\n",
       "      <td>327</td>\n",
       "    </tr>\n",
       "  </tbody>\n",
       "</table>\n",
       "<p>16 rows × 27 columns</p>\n",
       "</div>"
      ],
      "text/plain": [
       "      index state  account_length  area_code phone_number  international_plan  \\\n",
       "57       57    CO             121        408     370-7574                   0   \n",
       "198     198    ME             131        510     353-7292                   1   \n",
       "277     277    SD             144        408     339-3049                   0   \n",
       "466     466    FL             132        510     334-9505                   0   \n",
       "892     892    LA             109        415     395-6195                   0   \n",
       "968     968    NM             122        408     370-9755                   0   \n",
       "1030   1030    VA              99        415     400-6257                   0   \n",
       "1254   1254    MN              62        510     390-9811                   0   \n",
       "1263   1263    MA              40        408     351-7005                   0   \n",
       "1454   1454    UT             133        408     398-8745                   0   \n",
       "1850   1850    NC             162        408     340-1876                   0   \n",
       "2377   2377    ND             101        415     364-5510                   0   \n",
       "2405   2405    ID              92        415     333-4594                   0   \n",
       "2745   2745    PA              61        408     343-1347                   0   \n",
       "2865   2865    NH              97        408     328-9267                   0   \n",
       "2972   2972    MT             147        415     408-8269                   0   \n",
       "\n",
       "      voice_mail_plan  number_vmail_messages  total_day_minutes  \\\n",
       "57                  1                     30              198.4   \n",
       "198                 1                     26              292.9   \n",
       "277                 1                     48              189.8   \n",
       "466                 1                     36              226.2   \n",
       "892                 1                     27              166.9   \n",
       "968                 1                     33              174.9   \n",
       "1030                1                     42              216.0   \n",
       "1254                1                     33              186.4   \n",
       "1263                1                     31              224.7   \n",
       "1454                1                     44              174.0   \n",
       "1850                1                     26              179.7   \n",
       "2377                1                     36              123.7   \n",
       "2405                1                     29              201.3   \n",
       "2745                1                     40              105.0   \n",
       "2865                1                     32               90.0   \n",
       "2972                1                     35              197.3   \n",
       "\n",
       "      total_day_calls  ...  total_intl_minutes  total_intl_calls  \\\n",
       "57                129  ...                 5.8                 3   \n",
       "198               101  ...                13.8                 7   \n",
       "277                96  ...                 6.5                 2   \n",
       "466               103  ...                10.5                 5   \n",
       "892                85  ...                12.3                 4   \n",
       "968               103  ...                13.5                 3   \n",
       "1030              125  ...                 9.3                 4   \n",
       "1254               84  ...                11.1                 3   \n",
       "1263               69  ...                 7.5                 5   \n",
       "1454               80  ...                14.1                 7   \n",
       "1850              144  ...                 9.3                 8   \n",
       "2377              125  ...                 8.8                 4   \n",
       "2405              130  ...                 6.4                 6   \n",
       "2745               78  ...                10.2                 2   \n",
       "2865               87  ...                 8.6                 6   \n",
       "2972              134  ...                10.1                 4   \n",
       "\n",
       "      total_intl_charge  customer_service_calls  churn  total_charge  \\\n",
       "57                 1.57                       3      1         49.85   \n",
       "198                3.73                       4      1         81.98   \n",
       "277                1.76                       2      1         54.16   \n",
       "466                2.84                       3      1         68.38   \n",
       "892                3.32                       1      1         59.37   \n",
       "968                3.65                       1      1         61.89   \n",
       "1030               2.51                       2      1         68.68   \n",
       "1254               3.00                       2      1         64.68   \n",
       "1263               2.03                       1      1         57.07   \n",
       "1454               3.81                       2      1         61.27   \n",
       "1850               2.51                       1      1         61.15   \n",
       "2377               2.38                       1      1         50.70   \n",
       "2405               1.73                       1      1         59.11   \n",
       "2745               2.75                       2      1         43.78   \n",
       "2865               2.32                       2      1         49.44   \n",
       "2972               2.73                       2      1         57.80   \n",
       "\n",
       "      tenor_years  total_minutes  avg_price_per_min  total_calls  \n",
       "57             10          460.7           0.108205          286  \n",
       "198            10          761.7           0.107628          332  \n",
       "277            12          533.9           0.101442          271  \n",
       "466            11          677.1           0.100990          335  \n",
       "892             9          597.7           0.099331          278  \n",
       "968            10          601.2           0.102944          327  \n",
       "1030            8          673.1           0.102035          333  \n",
       "1254            5          685.2           0.094396          326  \n",
       "1263            3          487.0           0.117187          259  \n",
       "1454           11          621.6           0.098568          287  \n",
       "1850           13          619.4           0.098725          386  \n",
       "2377            8          585.6           0.086578          362  \n",
       "2405            7          541.3           0.109200          364  \n",
       "2745            5          469.9           0.093169          295  \n",
       "2865            8          560.1           0.088270          313  \n",
       "2972           12          560.6           0.103104          327  \n",
       "\n",
       "[16 rows x 27 columns]"
      ]
     },
     "execution_count": 264,
     "metadata": {},
     "output_type": "execute_result"
    }
   ],
   "source": [
    "FN_whole_data.loc[FN_whole_data['voice_mail_plan']==1]"
   ]
  },
  {
   "cell_type": "markdown",
   "metadata": {
    "heading_collapsed": true
   },
   "source": [
    "## Conclusion"
   ]
  },
  {
   "cell_type": "markdown",
   "metadata": {
    "hidden": true
   },
   "source": [
    "Many of these values were misclassified because they didnt fit the general mould of our model\n",
    "* International plan\n",
    "* High Total Charge\n",
    "* More than 3 customer service calls\n",
    "\n",
    "This could mean that their churn is not business related at all - and more down to personal circumstance - which we cannot account for.\n",
    "Alternatively, we need to expand our model to find more segements that cause churn"
   ]
  },
  {
   "cell_type": "code",
   "execution_count": null,
   "metadata": {
    "hidden": true
   },
   "outputs": [],
   "source": []
  }
 ],
 "metadata": {
  "kernelspec": {
   "display_name": "Python [conda env:learn-env] *",
   "language": "python",
   "name": "conda-env-learn-env-py"
  },
  "language_info": {
   "codemirror_mode": {
    "name": "ipython",
    "version": 3
   },
   "file_extension": ".py",
   "mimetype": "text/x-python",
   "name": "python",
   "nbconvert_exporter": "python",
   "pygments_lexer": "ipython3",
   "version": "3.6.9"
  }
 },
 "nbformat": 4,
 "nbformat_minor": 2
}
